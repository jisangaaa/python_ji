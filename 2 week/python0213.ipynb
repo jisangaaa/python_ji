{
 "cells": [
  {
   "cell_type": "code",
   "execution_count": 1,
   "id": "4aef55df-a9a9-4466-8191-1a76870d44f8",
   "metadata": {},
   "outputs": [],
   "source": [
    "import random\n",
    "\n",
    "class Character:\n",
    "    def __init__(self,name,hp,attack_p) :\n",
    "        '''캐릭터 초기화'''\n",
    "        self.name = name\n",
    "        self.hp = hp\n",
    "        self.attack_p = attack_p\n",
    "    def attack(self,opponent):\n",
    "        '''상대방을공격'''\n",
    "        damage = random.randint(2, self.attack_p)\n",
    "        opponent.hp -= damage\n",
    "        print(f'{self.name}가 {opponent.name}를 공격하여 {damage} 데미지를 입혔습니다.')\n",
    "    def now_status(self):\n",
    "        '''현재 체력 상태 확인'''\n",
    "        return f'{self.name} 체력:{self.hp}'\n",
    "    def is_alive(self) :\n",
    "        '''캐릭터 생존여부 확인'''\n",
    "        return self.hp > 0"
   ]
  },
  {
   "cell_type": "code",
   "execution_count": 2,
   "id": "52abf1ac-5eaa-4e96-a419-43e6d2c2da92",
   "metadata": {},
   "outputs": [],
   "source": [
    "# 영웅과 몬스터 생성\n",
    "player = Character('영웅',hp = 50,attack_p = 15)\n",
    "monster = Character('발탄',60,9)\n"
   ]
  },
  {
   "cell_type": "code",
   "execution_count": 3,
   "id": "53540f2b-29a9-45c3-9514-6087b97b23d9",
   "metadata": {},
   "outputs": [
    {
     "name": "stdout",
     "output_type": "stream",
     "text": [
      "====전투시작====\n"
     ]
    },
    {
     "name": "stdin",
     "output_type": "stream",
     "text": [
      "공격하려면 엔터 치세요 \n"
     ]
    },
    {
     "name": "stdout",
     "output_type": "stream",
     "text": [
      "영웅가 발탄를 공격하여 13 데미지를 입혔습니다.\n",
      "발탄가 영웅를 공격하여 7 데미지를 입혔습니다.\n",
      "영웅 체력:43 vs 발탄 체력:47\n"
     ]
    },
    {
     "name": "stdin",
     "output_type": "stream",
     "text": [
      "공격하려면 엔터 치세요 \n"
     ]
    },
    {
     "name": "stdout",
     "output_type": "stream",
     "text": [
      "영웅가 발탄를 공격하여 14 데미지를 입혔습니다.\n",
      "발탄가 영웅를 공격하여 2 데미지를 입혔습니다.\n",
      "영웅 체력:41 vs 발탄 체력:33\n"
     ]
    },
    {
     "name": "stdin",
     "output_type": "stream",
     "text": [
      "공격하려면 엔터 치세요 \n"
     ]
    },
    {
     "name": "stdout",
     "output_type": "stream",
     "text": [
      "영웅가 발탄를 공격하여 11 데미지를 입혔습니다.\n",
      "발탄가 영웅를 공격하여 3 데미지를 입혔습니다.\n",
      "영웅 체력:38 vs 발탄 체력:22\n"
     ]
    },
    {
     "name": "stdin",
     "output_type": "stream",
     "text": [
      "공격하려면 엔터 치세요 \n"
     ]
    },
    {
     "name": "stdout",
     "output_type": "stream",
     "text": [
      "영웅가 발탄를 공격하여 15 데미지를 입혔습니다.\n",
      "발탄가 영웅를 공격하여 9 데미지를 입혔습니다.\n",
      "영웅 체력:29 vs 발탄 체력:7\n"
     ]
    },
    {
     "name": "stdin",
     "output_type": "stream",
     "text": [
      "공격하려면 엔터 치세요 \n"
     ]
    },
    {
     "name": "stdout",
     "output_type": "stream",
     "text": [
      "영웅가 발탄를 공격하여 6 데미지를 입혔습니다.\n",
      "발탄가 영웅를 공격하여 4 데미지를 입혔습니다.\n",
      "영웅 체력:25 vs 발탄 체력:1\n"
     ]
    },
    {
     "name": "stdin",
     "output_type": "stream",
     "text": [
      "공격하려면 엔터 치세요 \n"
     ]
    },
    {
     "name": "stdout",
     "output_type": "stream",
     "text": [
      "영웅가 발탄를 공격하여 11 데미지를 입혔습니다.\n",
      "영웅 체력:25 vs 발탄 체력:-10\n",
      "💕당신이 승리하였습니다💕\n"
     ]
    }
   ],
   "source": [
    "print('====전투시작====')\n",
    "while player.is_alive() and monster.is_alive():\n",
    "    input('공격하려면 엔터 치세요')\n",
    "    player.attack(monster)\n",
    "    if monster.is_alive():\n",
    "        monster.attack(player)\n",
    "    print(player.now_status(), 'vs' , monster.now_status())\n",
    "\n",
    "if player.is_alive():\n",
    "    print('💕당신이 승리하였습니다💕')\n",
    "else:\n",
    "    print('패배.... to be continue....')"
   ]
  },
  {
   "cell_type": "markdown",
   "id": "c46ec350-cf85-44d9-9c73-8b2adec76f51",
   "metadata": {},
   "source": [
    "# 모듈 "
   ]
  },
  {
   "cell_type": "code",
   "execution_count": 7,
   "id": "637291a0-e669-4737-87c1-fe8f3c5742b0",
   "metadata": {},
   "outputs": [],
   "source": [
    "#모듈 만들기 - mod1.py\n",
    "def add(a,b) :\n",
    "    return a + b\n",
    "def sub(a,b) :\n",
    "    return a - b"
   ]
  },
  {
   "cell_type": "code",
   "execution_count": 6,
   "id": "a23940c9-f22d-4814-8461-14f03d4fa04f",
   "metadata": {},
   "outputs": [
    {
     "data": {
      "text/plain": [
       "-34"
      ]
     },
     "execution_count": 6,
     "metadata": {},
     "output_type": "execute_result"
    }
   ],
   "source": [
    "sub(11,45)"
   ]
  },
  {
   "cell_type": "code",
   "execution_count": 8,
   "id": "1421db15-fcbf-4065-86ec-63642f6bdf65",
   "metadata": {},
   "outputs": [
    {
     "name": "stdout",
     "output_type": "stream",
     "text": [
      "44\n",
      "-24\n"
     ]
    }
   ],
   "source": [
    "import mod1\n",
    "print(mod1.add(11,33))\n",
    "print(mod1.sub(21,45))"
   ]
  },
  {
   "cell_type": "code",
   "execution_count": 11,
   "id": "0ae60931-0bf9-47b8-9b0d-c160e7d68b2e",
   "metadata": {},
   "outputs": [],
   "source": [
    "with open('mod2.py','w') as f:\n",
    "    data='''def mul(a,b):\n",
    "    return a*b\n",
    "def div(a,b) :\n",
    "    return a/b'''\n",
    "    f.write(data)"
   ]
  },
  {
   "cell_type": "code",
   "execution_count": 13,
   "id": "e3ef6e7c-4a07-4e1c-9160-f350847975ff",
   "metadata": {},
   "outputs": [
    {
     "name": "stdout",
     "output_type": "stream",
     "text": [
      "12\n",
      "2.0\n"
     ]
    }
   ],
   "source": [
    "import mod2\n",
    "print(mod2.mul(3,4))\n",
    "print(mod2.div(8,4))"
   ]
  },
  {
   "cell_type": "code",
   "execution_count": 14,
   "id": "0ad46686-2810-434a-be3a-ceed1a8be2b9",
   "metadata": {},
   "outputs": [
    {
     "name": "stdout",
     "output_type": "stream",
     "text": [
      "44\n",
      "-22\n",
      "20\n",
      "2.3333333333333335\n"
     ]
    }
   ],
   "source": [
    "import mod1 , mod2\n",
    "print(mod1.add(11,33))\n",
    "print(mod1.sub(11,33))\n",
    "print(mod2.mul(5,4))\n",
    "print(mod2.div(7,3))"
   ]
  },
  {
   "cell_type": "code",
   "execution_count": 3,
   "id": "b9617042-0f20-4cb7-8ff7-8adca0221147",
   "metadata": {},
   "outputs": [
    {
     "name": "stdout",
     "output_type": "stream",
     "text": [
      "44\n",
      "-22\n",
      "20\n",
      "2.3333333333333335\n"
     ]
    }
   ],
   "source": [
    "#import mod1 as m1\n",
    "#import mod2 as m2\n",
    "import mod1 as m1, mod2 as m2\n",
    "#import mod1 , mod2\n",
    "print(m1.add(11,33))\n",
    "print(m1.sub(11,33))\n",
    "print(m2.mul(5,4))\n",
    "print(m2.div(7,3))"
   ]
  },
  {
   "cell_type": "code",
   "execution_count": 4,
   "id": "311b5c69-db8e-42e2-87be-1708d121b2e7",
   "metadata": {},
   "outputs": [
    {
     "name": "stdout",
     "output_type": "stream",
     "text": [
      "75\n"
     ]
    }
   ],
   "source": [
    "from mod1 import add, sub \n",
    "print(add(27,48))"
   ]
  },
  {
   "cell_type": "code",
   "execution_count": 5,
   "id": "a9620819-7dfb-405e-a664-c1eb51b1090d",
   "metadata": {},
   "outputs": [
    {
     "name": "stdout",
     "output_type": "stream",
     "text": [
      "45\n"
     ]
    }
   ],
   "source": [
    "from mod2 import *\n",
    "print(mul(5,9))"
   ]
  },
  {
   "cell_type": "markdown",
   "id": "e9bd5801-76ab-4ef9-91c1-a5731b2db3be",
   "metadata": {},
   "source": [
    "# __main__ 의 의미"
   ]
  },
  {
   "cell_type": "code",
   "execution_count": 6,
   "id": "6e16cbeb-c2af-4c33-9ef2-40bb57b1fe54",
   "metadata": {},
   "outputs": [],
   "source": [
    "with open('mod1.py','a') as f :\n",
    "    text = '''\\nprint(add(1,4))\\nprint(sub(4,2))'''\n",
    "    f.write(text)"
   ]
  },
  {
   "cell_type": "code",
   "execution_count": 7,
   "id": "9582cb00-cffa-4df7-9301-bb36d80095f5",
   "metadata": {},
   "outputs": [
    {
     "name": "stdout",
     "output_type": "stream",
     "text": [
      "Microsoft Windows [Version 10.0.26100.2894]\n",
      "(c) Microsoft Corporation. All rights reserved.\n",
      "\n",
      "js\\code\\2 week>python mod1.py\n",
      "5\n",
      "2\n",
      "\n",
      "D:\\kjs\\code\\2 week>"
     ]
    }
   ],
   "source": [
    "%%cmd\n",
    "python mod1.py"
   ]
  },
  {
   "cell_type": "code",
   "execution_count": 10,
   "id": "482cabf0-f6d6-41f3-acd9-a5f3a370f3e5",
   "metadata": {},
   "outputs": [
    {
     "name": "stdout",
     "output_type": "stream",
     "text": [
      "mod1\n"
     ]
    },
    {
     "data": {
      "text/plain": [
       "['__builtins__',\n",
       " '__cached__',\n",
       " '__doc__',\n",
       " '__file__',\n",
       " '__loader__',\n",
       " '__name__',\n",
       " '__package__',\n",
       " '__spec__',\n",
       " 'add',\n",
       " 'sub']"
      ]
     },
     "execution_count": 10,
     "metadata": {},
     "output_type": "execute_result"
    }
   ],
   "source": [
    "import mod1\n",
    "print(mod1.__name__)\n",
    "dir(mod1)"
   ]
  },
  {
   "cell_type": "code",
   "execution_count": 11,
   "id": "53fc4e28-7e77-448b-ab28-784260a4bee8",
   "metadata": {},
   "outputs": [],
   "source": [
    "with open('mod1.py','a') as f:\n",
    "    content = '\\nprint(__name__)'\n",
    "    f.write(content)"
   ]
  },
  {
   "cell_type": "code",
   "execution_count": 15,
   "id": "cd59cb76-e06b-42d0-89b5-58309f0ebcb4",
   "metadata": {},
   "outputs": [
    {
     "name": "stdout",
     "output_type": "stream",
     "text": [
      "-1\n",
      "삼성전자 : 55,900원\n"
     ]
    }
   ],
   "source": [
    "import requests as req\n",
    "url = \"https://finance.naver.com/sise/sise_market_sum.naver\"\n",
    "web = req.get(url)\n",
    "html = web.text\n",
    "\n",
    "f1 = html.find('삼성전자')\n",
    "print(html[f1:f1 + 100].find('<td class-\"number\">'))\n",
    "print('삼성전자 : '+html[f1:f1 + 100][19:50].replace('<td class=\"number\">',\"\").replace('</td>',\"\").replace('\\n',\"\")+'원')"
   ]
  },
  {
   "cell_type": "code",
   "execution_count": 27,
   "id": "d3804976-2c54-4c5c-a6d7-0f971439ee63",
   "metadata": {},
   "outputs": [
    {
     "data": {
      "text/plain": [
       "'삼성물산: 121,500원'"
      ]
     },
     "execution_count": 27,
     "metadata": {},
     "output_type": "execute_result"
    }
   ],
   "source": [
    "import sam\n",
    "sam.sam('삼성물산')"
   ]
  },
  {
   "cell_type": "markdown",
   "id": "1778ab8b-d391-41ba-aa1a-74661fbdecaa",
   "metadata": {},
   "source": [
    "# 클래스나 변수 등을 포함한 모듈"
   ]
  },
  {
   "cell_type": "code",
   "execution_count": 29,
   "id": "8e495980-ca03-41f8-8695-254e9d81fa17",
   "metadata": {},
   "outputs": [],
   "source": [
    "with open('mod3.py','w') as f:\n",
    "    text= '''PI = 3.141592\\n\\nclass Math:\\n\\tdef solve(self,r) : \\n\\t\\treturn PI * (r**2)\\n\\ndef add(a,b):\\n\\treturn a+b'''   \n",
    "    f.write(text)"
   ]
  },
  {
   "cell_type": "code",
   "execution_count": 30,
   "id": "460a5cb3-da3f-457e-bcfc-4d747fe4504e",
   "metadata": {},
   "outputs": [
    {
     "name": "stdout",
     "output_type": "stream",
     "text": [
      "3.141592\n"
     ]
    }
   ],
   "source": [
    "import mod3\n",
    "# 변수\n",
    "print(mod3.PI)"
   ]
  },
  {
   "cell_type": "code",
   "execution_count": 32,
   "id": "c035b72b-ef7f-4081-aa34-672a762d5b24",
   "metadata": {},
   "outputs": [
    {
     "name": "stdout",
     "output_type": "stream",
     "text": [
      "314.1592\n"
     ]
    }
   ],
   "source": [
    "# 클래스\n",
    "a = mod3.Math()\n",
    "print(a.solve(10))"
   ]
  },
  {
   "cell_type": "code",
   "execution_count": 33,
   "id": "7392ee76-abd5-434e-a58b-0e5f84291fc1",
   "metadata": {},
   "outputs": [
    {
     "name": "stdout",
     "output_type": "stream",
     "text": [
      "7.5415920000000005\n"
     ]
    }
   ],
   "source": [
    "# 함수 \n",
    "print(mod3.add(mod3.PI,4.4))"
   ]
  },
  {
   "cell_type": "code",
   "execution_count": 35,
   "id": "1e555bcf-2440-4729-ba42-de399cfb1a0f",
   "metadata": {},
   "outputs": [
    {
     "name": "stdout",
     "output_type": "stream",
     "text": [
      "Requirement already satisfied: pip in c:\\users\\admin\\appdata\\local\\programs\\python\\python313\\lib\\site-packages (25.0.1)\n"
     ]
    },
    {
     "name": "stderr",
     "output_type": "stream",
     "text": [
      "ERROR: unknown command \"isntall\" - maybe you meant \"install\"\n",
      "\n"
     ]
    }
   ],
   "source": [
    "!python.exe -m pip install --upgrade pip\n",
    "!pip isntall python-dotenv"
   ]
  },
  {
   "cell_type": "code",
   "execution_count": 36,
   "id": "c24c98c1-b8df-4b15-9d39-aac03855abd8",
   "metadata": {},
   "outputs": [
    {
     "name": "stdout",
     "output_type": "stream",
     "text": [
      "Requirement already satisfied: pip in c:\\users\\admin\\appdata\\local\\programs\\python\\python313\\lib\\site-packages (25.0.1)\n"
     ]
    }
   ],
   "source": [
    "!python.exe -m pip install --upgrade pip"
   ]
  },
  {
   "cell_type": "code",
   "execution_count": 38,
   "id": "10a19de2-b3bf-47b5-9f1a-1b131a384beb",
   "metadata": {},
   "outputs": [
    {
     "name": "stdout",
     "output_type": "stream",
     "text": [
      "Collecting python-dotenv\n",
      "  Downloading python_dotenv-1.0.1-py3-none-any.whl.metadata (23 kB)\n",
      "Downloading python_dotenv-1.0.1-py3-none-any.whl (19 kB)\n",
      "Installing collected packages: python-dotenv\n",
      "Successfully installed python-dotenv-1.0.1\n"
     ]
    }
   ],
   "source": [
    "!pip install python-dotenv"
   ]
  },
  {
   "cell_type": "code",
   "execution_count": 56,
   "id": "6de1944f-d98b-4320-8f7e-73e3958d58ce",
   "metadata": {},
   "outputs": [
    {
     "name": "stdout",
     "output_type": "stream",
     "text": [
      "myphone01078945612\n",
      "https://www.naver.com\n",
      "가나다라마바사\n"
     ]
    }
   ],
   "source": [
    "from dotenv import load_dotenv\n",
    "import os\n",
    "\n",
    "load_dotenv()\n",
    "\n",
    "SKEY = os.getenv('SECRET_KEY')\n",
    "print(SKEY)\n",
    "DBUG = os.getenv('DEBUG')\n",
    "print(DBUG)\n",
    "TEST = os.getenv('TEST')\n",
    "print(TEST)"
   ]
  },
  {
   "cell_type": "code",
   "execution_count": 71,
   "id": "7a382261-9059-4607-85ac-34657b0bbe81",
   "metadata": {},
   "outputs": [
    {
     "name": "stdout",
     "output_type": "stream",
     "text": [
      "[속보]국민의힘 윤리위, 尹 징계 않기로\n",
      "국민의힘 윤리위, 尹 징계 않기로 ※CBS노컷뉴스는 여러분의 제보로 함께 세상을 바꿉니다. 각종 비리와 부당대우, 사건사고와 미담 등 모든 얘깃거리를 알려주세요.이메일 : 카카오톡 : @노컷뉴스사이트 : https... \n",
      "https://www.nocutnews.co.kr/news/6292989?utm_source=naver&utm_medium=article&utm_campaign=20250213035336\n",
      "[속보] KT, 올해 2500억 규모 자사주 소각\n",
      "KT는 올해 약 2500억원 규모의 자사주를 소각한다고 13일 밝혔다. 소각할 주식은 보통주 553만7099주다. KT는 지난해 11월 발표한 기업가치 제고 계획(밸류업 프로그램)을 발표하며 연결 자기자본이익률(ROE) 목표를 9... \n",
      "https://www.newsis.com/view/NISX20250213_0003064022\n",
      "[속보]박지원, 홍장원 인사청탁 부정 “청탁자는 주영대사 역임 前 간부...\n",
      "박지원 더불어민주당 의원이 13일 “홍장원 전 국가정보원 1차장은 정보위 회의에서 첫 대면했다”라면서 홍 전 차장이 자신에게 인사 청탁을 했다는 의혹을 전면 부인했다. 박 의원은 이날 자신의 페이스북에 글을 올려... \n",
      "https://www.munhwa.com/news/view.html?no=2025021301039910289018\n",
      "[속보] '이재명 습격' 60대 남성 징역 15년 확정\n",
      "지난해 1월 이재명 더불어민주당 대표를 흉기로 살해하려고 시도한 60대 남성에게 징역 15년이 확정됐다. 13일 대법원 2부(오경미 대법관)는 살인미수와 공직선거법 위반 혐의로 기소된 김모(68)씨에게 징역 15년을... \n",
      "https://www.hankyung.com/article/2025021327947\n",
      "[속보] ‘이재명 습격’ 60대 남성 징역 15년 확정\n",
      "이재명 더불어민주당 대표를 흉기로 살해하려고 시도했던 60대 남성에게 징역 15년이 확정됐다. 13일 법조계에 따르면 대법원 2부(주심 오경미 대법관)는 이날 살인미수와 공직선거법 위반 혐의로 기소된 김모(68) 씨에게... \n",
      "https://www.mk.co.kr/article/11239884\n"
     ]
    }
   ],
   "source": [
    "import os\n",
    "import sys\n",
    "import urllib.request\n",
    "from dotenv import load_dotenv\n",
    "import json\n",
    "\n",
    "load_dotenv()\n",
    "client_id = os.environ.get(\"MY_ID\")\n",
    "client_secret = os.environ.get(\"MY_SECRET\")\n",
    "\n",
    "encText = urllib.parse.quote(\"속보\")\n",
    "url = \"https://openapi.naver.com/v1/search/news.json?query=\" + encText + '&display=5&start=1&sort=sim'# JSON 결과\n",
    "request = urllib.request.Request(url)\n",
    "request.add_header(\"X-Naver-Client-Id\",client_id)\n",
    "request.add_header(\"X-Naver-Client-Secret\",client_secret)\n",
    "response = urllib.request.urlopen(request)\n",
    "rescode = response.getcode()\n",
    "if(rescode==200):\n",
    "    response_body = response.read()\n",
    "    result = response_body.decode('utf-8')\n",
    "    data = json.loads(result)\n",
    "    ldata = data['items']\n",
    "    for n in ldata:\n",
    "        print(n['title'].replace('<b>','').replace('</b>',''))\n",
    "        print(n['description'])\n",
    "        print(n['originallink'])\n",
    "else:\n",
    "    print(\"Error Code:\" + rescode)"
   ]
  },
  {
   "cell_type": "code",
   "execution_count": null,
   "id": "0e500c02-8bf3-49c2-814c-3548786bbca1",
   "metadata": {},
   "outputs": [],
   "source": []
  }
 ],
 "metadata": {
  "kernelspec": {
   "display_name": "Python 3 (ipykernel)",
   "language": "python",
   "name": "python3"
  },
  "language_info": {
   "codemirror_mode": {
    "name": "ipython",
    "version": 3
   },
   "file_extension": ".py",
   "mimetype": "text/x-python",
   "name": "python",
   "nbconvert_exporter": "python",
   "pygments_lexer": "ipython3",
   "version": "3.13.1"
  }
 },
 "nbformat": 4,
 "nbformat_minor": 5
}
