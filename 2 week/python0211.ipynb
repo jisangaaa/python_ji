{
 "cells": [
  {
   "cell_type": "markdown",
   "id": "cb2b0604-f9c0-44b1-b8b8-0d7d6af32910",
   "metadata": {},
   "source": [
    "# 함수 안에서 선언한 변수의 효력 범위"
   ]
  },
  {
   "cell_type": "code",
   "execution_count": 17,
   "id": "5b82f1d1-c5ec-47c9-a93c-db3c6b328f9a",
   "metadata": {},
   "outputs": [
    {
     "name": "stdout",
     "output_type": "stream",
     "text": [
      "1\n"
     ]
    }
   ],
   "source": [
    "# 테스트1\n",
    "a = 1\n",
    "def test1(a) :\n",
    "    a = a + 1\n",
    "test1(a)\n",
    "print(a)"
   ]
  },
  {
   "cell_type": "code",
   "execution_count": null,
   "id": "6d561de8-668d-4844-9dc4-2bb51ee33dbd",
   "metadata": {},
   "outputs": [],
   "source": [
    "# 테스트2  # 에러발생\n",
    "\n",
    "def test2(a):\n",
    "    a = a + 1\n",
    "test2(3)\n",
    "print(a)"
   ]
  },
  {
   "cell_type": "code",
   "execution_count": 7,
   "id": "27282507-c8fc-479e-9bf3-fe0970588d73",
   "metadata": {},
   "outputs": [
    {
     "name": "stdout",
     "output_type": "stream",
     "text": [
      "2\n"
     ]
    }
   ],
   "source": [
    "# 테스트3\n",
    "c = 1\n",
    "def test3(c):\n",
    "    c = c + 1\n",
    "    return c\n",
    "c = test3(c) #=> c=c+1\n",
    "print(c)"
   ]
  },
  {
   "cell_type": "code",
   "execution_count": 10,
   "id": "f8d807af-74a9-49bc-817d-b0d1d2a2871d",
   "metadata": {},
   "outputs": [
    {
     "name": "stdout",
     "output_type": "stream",
     "text": [
      "2\n"
     ]
    }
   ],
   "source": [
    "# 테스트4\n",
    "d = 1\n",
    "def vartest() :\n",
    "    global d\n",
    "    d = d + 1\n",
    "vartest()\n",
    "print(d)"
   ]
  },
  {
   "cell_type": "markdown",
   "id": "3942762d-bf7c-4882-9729-b0da41386d86",
   "metadata": {},
   "source": [
    "## lambda 예약어 (익명함수)"
   ]
  },
  {
   "cell_type": "code",
   "execution_count": 11,
   "id": "26b4af9a-2d3f-4a8e-b27a-b1d275641859",
   "metadata": {},
   "outputs": [
    {
     "name": "stdout",
     "output_type": "stream",
     "text": [
      "7\n"
     ]
    }
   ],
   "source": [
    "add = lambda a,b:a+b\n",
    "print(add(3,4))"
   ]
  },
  {
   "cell_type": "code",
   "execution_count": 12,
   "id": "2b7aa628-4ac4-4afd-9a8e-717162da8f0e",
   "metadata": {},
   "outputs": [
    {
     "name": "stdout",
     "output_type": "stream",
     "text": [
      "[0, 1, 2, 3, 4, 5, 6, 7, 8, 9]\n"
     ]
    }
   ],
   "source": [
    "a1 = [x for x in range(10)]\n",
    "print(a1)"
   ]
  },
  {
   "cell_type": "code",
   "execution_count": 18,
   "id": "d56e4a3f-ead7-40ca-a89f-29e7867e82f1",
   "metadata": {},
   "outputs": [
    {
     "name": "stdout",
     "output_type": "stream",
     "text": [
      "[0, 2, 4, 6, 8, 10, 12, 14, 16, 18]\n"
     ]
    }
   ],
   "source": [
    "a2 = [(lambda x:x*2)(x) for x in range(10)]\n",
    "print(a2)"
   ]
  },
  {
   "cell_type": "code",
   "execution_count": 23,
   "id": "f25ddeb7-7b98-4444-861a-ca39776c7a39",
   "metadata": {},
   "outputs": [
    {
     "name": "stdout",
     "output_type": "stream",
     "text": [
      "[0, 1, 4, 9, 16, 25, 36, 49, 64, 81]\n"
     ]
    }
   ],
   "source": [
    "# 중요 예제\n",
    "a3 = [0, 1, 2, 3, 4, 5, 6, 7, 8, 9]\n",
    "p = list(map(lambda x: x**2, a3 ))\n",
    "print(p)"
   ]
  },
  {
   "cell_type": "markdown",
   "id": "0c10effb-e416-4b91-8e80-d00cb8c09dae",
   "metadata": {},
   "source": [
    "# 파일 읽고 쓰기"
   ]
  },
  {
   "cell_type": "markdown",
   "id": "557f82cc-420b-413c-9272-e45b1b59ae1b",
   "metadata": {},
   "source": [
    "## 파일 생성하기"
   ]
  },
  {
   "cell_type": "code",
   "execution_count": 33,
   "id": "a1d75859-7a02-4c1f-b9b4-17cee4f79dac",
   "metadata": {},
   "outputs": [],
   "source": [
    "# 파일생성하기\n",
    "f = open(\"새파일생성.txt\",\"w\")\n",
    "f.close()"
   ]
  },
  {
   "attachments": {
    "37723ef6-37dc-444f-a847-490ed7504f91.png": {
     "image/png": "[encoded data removed]"
    }
   },
   "cell_type": "markdown",
   "id": "905a3562-fa14-4137-b858-7713642918fa",
   "metadata": {},
   "source": [
    "![image.png](attachment:37723ef6-37dc-444f-a847-490ed7504f91.png)"
   ]
  },
  {
   "cell_type": "code",
   "execution_count": 34,
   "id": "d4917668-821a-47e9-963c-9bc53dbc90bf",
   "metadata": {},
   "outputs": [],
   "source": [
    "# 파일생성하기 + 경로\n",
    "path = \"./testfile/\"\n",
    "f = open(path + \"새파일생성2.txt\",'w')\n",
    "f.close()"
   ]
  },
  {
   "cell_type": "code",
   "execution_count": 38,
   "id": "e28abc14-7da9-4e25-99db-1a7a65577d67",
   "metadata": {},
   "outputs": [],
   "source": [
    "# 파일을 쓰기 모드로 열어 내용 쓰기\n",
    "path = \"./testfile/\"\n",
    "f = open(path + \"새파일생성2.txt\",'w',encoding=\"utf-8\")\n",
    "for n in range(10):\n",
    "    f.write(f\"{n+1}번 apple pencil 애플팬슬\\n\")\n",
    "f.close()"
   ]
  },
  {
   "cell_type": "code",
   "execution_count": 18,
   "id": "6bc923b0-260a-4325-bfeb-869942a45cba",
   "metadata": {},
   "outputs": [
    {
     "name": "stdout",
     "output_type": "stream",
     "text": [
      "[6, 9, 13, 29, 38, 45]\n",
      "[12, 14, 22, 23, 28, 30]\n",
      "[4, 8, 12, 17, 30, 36]\n",
      "[12, 15, 16, 24, 37, 40]\n",
      "[17, 29, 30, 31, 39, 43]\n",
      "[1, 7, 8, 22, 27, 35]\n",
      "[3, 12, 21, 26, 37, 43]\n",
      "[20, 32, 33, 39, 40, 41]\n",
      "[1, 12, 24, 25, 31, 43]\n",
      "[5, 11, 15, 23, 26, 45]\n"
     ]
    }
   ],
   "source": [
    "path = \"./testfile/\"\n",
    "f = open(path + \"lotto.txt\",'w',encoding=\"utf-8\")\n",
    "\n",
    "for n in range(10):\n",
    "    import random\n",
    "\n",
    "    result = []\n",
    "    while len(result) < 6:\n",
    "        num = random.randint(1, 45)  \n",
    "        if num not in result:  \n",
    "            result.append(num)\n",
    "            result.sort()\n",
    "\n",
    "    print(result) \n",
    "    f.write(f\"{n+1}번 {result} 를 추천합니다. \\n\")\n",
    "f.close()"
   ]
  },
  {
   "cell_type": "code",
   "execution_count": 47,
   "id": "6ef4d669-c9b8-4789-ab49-b7ed5e79e780",
   "metadata": {},
   "outputs": [
    {
     "name": "stdin",
     "output_type": "stream",
     "text": [
      "작성하고 싶은 내용 dsf\n",
      "작성하고 싶은 내용 sdf\n",
      "작성하고 싶은 내용 sdf\n",
      "작성하고 싶은 내용 sd\n",
      "작성하고 싶은 내용 fsd\n",
      "작성하고 싶은 내용 f\n",
      "작성하고 싶은 내용 sd\n",
      "작성하고 싶은 내용 그만\n"
     ]
    }
   ],
   "source": [
    "path = \"./testfile/\"\n",
    "f = open(path + \"새파일생성2.txt\",'a',encoding=\"utf-8\")\n",
    "\n",
    "while 1:\n",
    "    inp = input('작성하고 싶은 내용')\n",
    "    if inp == '그만' : break\n",
    "    f.write(inp+'n')\n",
    "f.close()"
   ]
  },
  {
   "cell_type": "markdown",
   "id": "ff76fec9-26b0-46e3-a003-60cec22b506b",
   "metadata": {},
   "source": [
    "## 파일을 읽는 방법"
   ]
  },
  {
   "cell_type": "code",
   "execution_count": 40,
   "id": "51f34795-b09c-49d2-90c4-a0d06023164b",
   "metadata": {},
   "outputs": [],
   "source": [
    "path = \"./testfile/\"\n",
    "f = open(path + \"새파일생성3.txt\",'w',encoding=\"utf-8\")\n",
    "for n in range(10):\n",
    "    f.write(f\"{n+1}번 애플워치를 추천합니다. \\n\")\n",
    "f.close()"
   ]
  },
  {
   "cell_type": "code",
   "execution_count": 41,
   "id": "99c650f4-7b94-476e-adc8-f4c0acbd10fb",
   "metadata": {},
   "outputs": [],
   "source": [
    "#readline"
   ]
  },
  {
   "cell_type": "code",
   "execution_count": 42,
   "id": "3dd3722c-2528-443c-a0a4-5bbeaa67df40",
   "metadata": {},
   "outputs": [
    {
     "name": "stdout",
     "output_type": "stream",
     "text": [
      "1번 애플워치를 추천합니다. \n",
      "\n",
      "2번 애플워치를 추천합니다. \n",
      "\n"
     ]
    }
   ],
   "source": [
    "f = open(path + \"새파일생성3.txt\",'r',encoding=\"utf-8\")\n",
    "line = f.readline()\n",
    "print(line)\n",
    "line = f.readline()\n",
    "print(line)\n",
    "f.close()"
   ]
  },
  {
   "cell_type": "code",
   "execution_count": 46,
   "id": "2e8476d1-8f44-4563-8acd-9a0c1b4b1ed3",
   "metadata": {},
   "outputs": [
    {
     "name": "stdout",
     "output_type": "stream",
     "text": [
      "1번 애플워치를 추천합니다. \n",
      "\n",
      "2번 애플워치를 추천합니다. \n",
      "\n",
      "3번 애플워치를 추천합니다. \n",
      "\n",
      "4번 애플워치를 추천합니다. \n",
      "\n",
      "5번 애플워치를 추천합니다. \n",
      "\n",
      "6번 애플워치를 추천합니다. \n",
      "\n",
      "7번 애플워치를 추천합니다. \n",
      "\n",
      "8번 애플워치를 추천합니다. \n",
      "\n",
      "9번 애플워치를 추천합니다. \n",
      "\n",
      "10번 애플워치를 추천합니다. \n",
      "\n"
     ]
    }
   ],
   "source": [
    "# readline + while\n",
    "f = open(path + \"새파일생성3.txt\",'r',encoding=\"utf-8\")\n",
    "while 1:\n",
    "    line = f.readline()\n",
    "    if not line : break\n",
    "    print(line)\n",
    "f.close()"
   ]
  },
  {
   "cell_type": "code",
   "execution_count": null,
   "id": "4b1f40cb-6909-4249-ab5a-dfab454528d1",
   "metadata": {},
   "outputs": [],
   "source": []
  },
  {
   "cell_type": "code",
   "execution_count": null,
   "id": "02346168-49fe-47bf-ad90-c9c7b0d99c3a",
   "metadata": {},
   "outputs": [],
   "source": []
  }
 ],
 "metadata": {
  "kernelspec": {
   "display_name": "Python 3 (ipykernel)",
   "language": "python",
   "name": "python3"
  },
  "language_info": {
   "codemirror_mode": {
    "name": "ipython",
    "version": 3
   },
   "file_extension": ".py",
   "mimetype": "text/x-python",
   "name": "python",
   "nbconvert_exporter": "python",
   "pygments_lexer": "ipython3",
   "version": "3.13.1"
  }
 },
 "nbformat": 4,
 "nbformat_minor": 5
}
