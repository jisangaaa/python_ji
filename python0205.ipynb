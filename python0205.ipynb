{
 "cells": [
  {
   "cell_type": "markdown",
   "id": "fa28da93-e782-425d-9d1e-032d7edcf510",
   "metadata": {},
   "source": [
    "# pop 추출후 삭제, count(개수 세기), extend(리스트 확장), remove(제거)"
   ]
  },
  {
   "cell_type": "code",
   "execution_count": null,
   "id": "9c58ab87-70ae-442e-86da-cc9a85cfc295",
   "metadata": {},
   "outputs": [],
   "source": []
  },
  {
   "cell_type": "code",
   "execution_count": 10,
   "id": "ab8ad8f5-41a8-4806-a760-38f71964f1d6",
   "metadata": {},
   "outputs": [
    {
     "data": {
      "text/plain": [
       "['a', 'c', 'd', 'f']"
      ]
     },
     "execution_count": 10,
     "metadata": {},
     "output_type": "execute_result"
    }
   ],
   "source": [
    "a = ['a','b','c','d','b','f']\n",
    "\n",
    "a.remove('b')\n",
    "a\n",
    "a.remove('b')\n",
    "a"
   ]
  },
  {
   "cell_type": "code",
   "execution_count": 12,
   "id": "2ba7c4df-061c-4d04-a54d-48a779f79c2f",
   "metadata": {},
   "outputs": [
    {
     "name": "stdout",
     "output_type": "stream",
     "text": [
      "d\n",
      "['a', 'b', 'c', 'd']\n",
      "c\n",
      "['a', 'b', 'd']\n"
     ]
    }
   ],
   "source": [
    "# pop 추출 후 삭제\n",
    "\n",
    "a = ['a','b','c','d','d']\n",
    "print(a. pop())\n",
    "print(a)\n",
    "print(a.pop(2))\n",
    "print(a)"
   ]
  },
  {
   "cell_type": "code",
   "execution_count": 15,
   "id": "9d1b0160-da6d-4c1c-abae-09f8c478344b",
   "metadata": {},
   "outputs": [
    {
     "name": "stdout",
     "output_type": "stream",
     "text": [
      "2\n",
      "1\n"
     ]
    }
   ],
   "source": [
    "a = ['a','b','c','d','d']\n",
    "\n",
    "print(a.count('d'))\n",
    "print(a.count('a'))"
   ]
  },
  {
   "cell_type": "code",
   "execution_count": 19,
   "id": "7a826e40-1ceb-46a7-8541-933df5282eb4",
   "metadata": {},
   "outputs": [
    {
     "name": "stdout",
     "output_type": "stream",
     "text": [
      "[11, 22, 33, 44, 55, 66, 77]\n",
      "[11, 22, 33, 44, 55, 66, 77, 88, 99]\n"
     ]
    }
   ],
   "source": [
    "z= [11,22,33,44,55]\n",
    "z.extend([66,77])\n",
    "print(z)\n",
    "y = [88,99]\n",
    "z.extend(y)\n",
    "print(z)"
   ]
  },
  {
   "cell_type": "markdown",
   "id": "dfce3ebf-05a4-4de6-b7c0-6dc256245a4e",
   "metadata": {},
   "source": [
    "# 튜플 자료형"
   ]
  },
  {
   "cell_type": "code",
   "execution_count": null,
   "id": "192d64f2-553e-4202-9341-9930d6569c54",
   "metadata": {},
   "outputs": [],
   "source": [
    "# [ ] = 리스트 = 삭제 수정 가능\n",
    "# ( ) = 튜플 = 요소 삭제 수정 불가능, 쉼표 필수, 소괄호 생략 가능"
   ]
  },
  {
   "cell_type": "code",
   "execution_count": null,
   "id": "ad8c7851-d237-4971-b2dd-0882cc0fe589",
   "metadata": {},
   "outputs": [],
   "source": []
  }
 ],
 "metadata": {
  "kernelspec": {
   "display_name": "Python 3 (ipykernel)",
   "language": "python",
   "name": "python3"
  },
  "language_info": {
   "codemirror_mode": {
    "name": "ipython",
    "version": 3
   },
   "file_extension": ".py",
   "mimetype": "text/x-python",
   "name": "python",
   "nbconvert_exporter": "python",
   "pygments_lexer": "ipython3",
   "version": "3.13.1"
  }
 },
 "nbformat": 4,
 "nbformat_minor": 5
}
