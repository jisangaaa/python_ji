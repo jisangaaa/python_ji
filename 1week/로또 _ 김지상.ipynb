{
 "cells": [
  {
   "cell_type": "code",
   "execution_count": null,
   "id": "2139131e-9ed7-4e3f-9f63-d792c03f8f42",
   "metadata": {},
   "outputs": [],
   "source": [
    "#로또 생성기\n",
    "\n",
    "#6가지 숫자 선택되어야함\n",
    "#중복되면 안됨\n",
    "#오름차순으로 정렬\n",
    "\n",
    "#10만회 돌리고 각 번호가 나온것을 카운팅하기\n",
    "#각번호를 퍼센트 내기\n",
    "#제일 높게 나온 확률 순서대로 번호 3개 추천해주기"
   ]
  },
  {
   "cell_type": "code",
   "execution_count": 11,
   "id": "c6330bae-e65b-45c6-aa17-66a622d42b60",
   "metadata": {},
   "outputs": [
    {
     "name": "stdout",
     "output_type": "stream",
     "text": [
      "[1, 4, 6, 18, 35, 43] 6\n"
     ]
    }
   ],
   "source": [
    "import random\n",
    "\n",
    "result = []\n",
    "while len(result) < 6:\n",
    "    num = random.randint(1, 45)  \n",
    "    if num not in result:  \n",
    "        result.append(num)\n",
    "        result.sort()\n",
    "\n",
    "print(result, len(result)) "
   ]
  },
  {
   "cell_type": "code",
   "execution_count": 12,
   "id": "314c741c-f276-40e3-b5a7-8e4e2e7df414",
   "metadata": {},
   "outputs": [
    {
     "name": "stdout",
     "output_type": "stream",
     "text": [
      "[24, 28, 36, 39, 40, 44] 6\n"
     ]
    }
   ],
   "source": [
    "import random as r\n",
    "box= []\n",
    "while len(box) < 6 :\n",
    "    ran = random.randint(1,46)\n",
    "    if not ran in box :\n",
    "        box.append(ran)\n",
    "        box.sort()\n",
    "box.sort()\n",
    "print(box,len(box))"
   ]
  },
  {
   "cell_type": "code",
   "execution_count": 38,
   "id": "f7a93557-bf20-44ef-a5f8-f4f37641b5bd",
   "metadata": {},
   "outputs": [
    {
     "name": "stdout",
     "output_type": "stream",
     "text": [
      "1 이 출력된 횟수는 12 회 입니다\n",
      "2 이 출력된 횟수는 21 회 입니다\n",
      "3 이 출력된 횟수는 15 회 입니다\n",
      "4 이 출력된 횟수는 12 회 입니다\n",
      "5 이 출력된 횟수는 15 회 입니다\n",
      "6 이 출력된 횟수는 18 회 입니다\n",
      "7 이 출력된 횟수는 12 회 입니다\n",
      "8 이 출력된 횟수는 11 회 입니다\n",
      "9 이 출력된 횟수는 9 회 입니다\n",
      "10 이 출력된 횟수는 19 회 입니다\n",
      "11 이 출력된 횟수는 14 회 입니다\n",
      "12 이 출력된 횟수는 12 회 입니다\n",
      "13 이 출력된 횟수는 12 회 입니다\n",
      "14 이 출력된 횟수는 11 회 입니다\n",
      "15 이 출력된 횟수는 12 회 입니다\n",
      "16 이 출력된 횟수는 14 회 입니다\n",
      "17 이 출력된 횟수는 15 회 입니다\n",
      "18 이 출력된 횟수는 8 회 입니다\n",
      "19 이 출력된 횟수는 17 회 입니다\n",
      "20 이 출력된 횟수는 14 회 입니다\n",
      "21 이 출력된 횟수는 13 회 입니다\n",
      "22 이 출력된 횟수는 12 회 입니다\n",
      "23 이 출력된 횟수는 18 회 입니다\n",
      "24 이 출력된 횟수는 10 회 입니다\n",
      "25 이 출력된 횟수는 9 회 입니다\n",
      "26 이 출력된 횟수는 15 회 입니다\n",
      "27 이 출력된 횟수는 6 회 입니다\n",
      "28 이 출력된 횟수는 16 회 입니다\n",
      "29 이 출력된 횟수는 17 회 입니다\n",
      "30 이 출력된 횟수는 8 회 입니다\n",
      "31 이 출력된 횟수는 17 회 입니다\n",
      "32 이 출력된 횟수는 14 회 입니다\n",
      "33 이 출력된 횟수는 12 회 입니다\n",
      "34 이 출력된 횟수는 15 회 입니다\n",
      "35 이 출력된 횟수는 14 회 입니다\n",
      "36 이 출력된 횟수는 15 회 입니다\n",
      "37 이 출력된 횟수는 10 회 입니다\n",
      "38 이 출력된 횟수는 12 회 입니다\n",
      "39 이 출력된 횟수는 16 회 입니다\n",
      "40 이 출력된 횟수는 8 회 입니다\n",
      "41 이 출력된 횟수는 17 회 입니다\n",
      "42 이 출력된 횟수는 12 회 입니다\n",
      "43 이 출력된 횟수는 13 회 입니다\n",
      "44 이 출력된 횟수는 13 회 입니다\n",
      "45 이 출력된 횟수는 15 회 입니다\n",
      "[12, 21, 15, 12, 15, 18, 12, 11, 9, 19, 14, 12, 12, 11, 12, 14, 15, 8, 17, 14, 13, 12, 18, 10, 9, 15, 6, 16, 17, 8, 17, 14, 12, 15, 14, 15, 10, 12, 16, 8, 17, 12, 13, 13, 15] True\n",
      "출현 횟수에100 대한 검증이 이상 없습니다\n"
     ]
    }
   ],
   "source": [
    "# 참고용\n",
    "ls = []\n",
    "la = []\n",
    "how = 100\n",
    "for h in range(how) :\n",
    "    lotto = sorted(random.sample(range(1,46),6))\n",
    "    la.append(lotto)\n",
    "    ls = ls+lotto \n",
    "#print(la,type(la))\n",
    "ss = []\n",
    "dic = {}\n",
    "for n in range(1,46):\n",
    "    ss.append(ls.count(n))\n",
    "    print(f'{n} 이 출력된 횟수는 {ls.count(n)} 회 입니다')\n",
    "    dic[n] = ls.count(n)\n",
    "    \n",
    "print(ss,sum(ss) == how*6)\n",
    "if sum(ss) == (how * 6) :\n",
    "    print(f'출현 횟수에{how} 대한 검증이 이상 없습니다')\n"
   ]
  },
  {
   "cell_type": "code",
   "execution_count": 40,
   "id": "81e4b0b2-d4cc-4ac0-8d4c-55c21effd0c3",
   "metadata": {},
   "outputs": [
    {
     "name": "stdout",
     "output_type": "stream",
     "text": [
      "{'num1': 13, 'num2': 16, 'num3': 16, 'num4': 10, 'num5': 15, 'num6': 14, 'num7': 8, 'num8': 16, 'num9': 12, 'num10': 12, 'num11': 16, 'num12': 13, 'num13': 19, 'num14': 14, 'num15': 6, 'num16': 9, 'num17': 10, 'num18': 8, 'num19': 16, 'num20': 18, 'num21': 14, 'num22': 9, 'num23': 13, 'num24': 9, 'num25': 12, 'num26': 14, 'num27': 14, 'num28': 15, 'num29': 12, 'num30': 14, 'num31': 20, 'num32': 16, 'num33': 12, 'num34': 17, 'num35': 17, 'num36': 13, 'num37': 10, 'num38': 13, 'num39': 17, 'num40': 13, 'num41': 16, 'num42': 14, 'num43': 16, 'num44': 10, 'num45': 9}\n",
      "dict_values([13, 16, 16, 10, 15, 14, 8, 16, 12, 12, 16, 13, 19, 14, 6, 9, 10, 8, 16, 18, 14, 9, 13, 9, 12, 14, 14, 15, 12, 14, 20, 16, 12, 17, 17, 13, 10, 13, 17, 13, 16, 14, 16, 10, 9])\n"
     ]
    }
   ],
   "source": [
    "# 참고용2\n",
    "ls = []\n",
    "la = []\n",
    "how = 100\n",
    "for h in range(how) :\n",
    "    lotto = sorted(random.sample(range(1,46),6))\n",
    "    la.append(lotto)\n",
    "    ls = ls+lotto \n",
    "\n",
    "dic = {}\n",
    "for n in range(1,46):\n",
    "    dic[f'num{n}'] = ls.count(n)\n",
    "\n",
    "print(dic)\n",
    "print(dic.values())"
   ]
  },
  {
   "cell_type": "code",
   "execution_count": null,
   "id": "0297be56-c865-4cb7-976c-17ce944f902f",
   "metadata": {},
   "outputs": [],
   "source": []
  }
 ],
 "metadata": {
  "kernelspec": {
   "display_name": "Python 3 (ipykernel)",
   "language": "python",
   "name": "python3"
  },
  "language_info": {
   "codemirror_mode": {
    "name": "ipython",
    "version": 3
   },
   "file_extension": ".py",
   "mimetype": "text/x-python",
   "name": "python",
   "nbconvert_exporter": "python",
   "pygments_lexer": "ipython3",
   "version": "3.13.1"
  }
 },
 "nbformat": 4,
 "nbformat_minor": 5
}
