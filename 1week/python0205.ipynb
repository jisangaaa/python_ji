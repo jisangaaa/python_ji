{
 "cells": [
  {
   "cell_type": "markdown",
   "id": "fa28da93-e782-425d-9d1e-032d7edcf510",
   "metadata": {},
   "source": [
    "# pop 추출후 삭제, count(개수 세기), extend(리스트 확장), remove(제거)"
   ]
  },
  {
   "cell_type": "code",
   "execution_count": 41,
   "id": "9c58ab87-70ae-442e-86da-cc9a85cfc295",
   "metadata": {},
   "outputs": [
    {
     "name": "stdout",
     "output_type": "stream",
     "text": [
      "[11, 33, 44, 55, 11, 33]\n",
      "[11, 44, 55, 11, 33]\n",
      "[11, 44, 55, 11]\n"
     ]
    }
   ],
   "source": [
    "a = [11,22,33,44,55,11,33]\n",
    "a.remove(22)\n",
    "print(a)\n",
    "a.remove(33)\n",
    "print(a)\n",
    "a.remove(33)\n",
    "print(a)"
   ]
  },
  {
   "cell_type": "code",
   "execution_count": 34,
   "id": "ab8ad8f5-41a8-4806-a760-38f71964f1d6",
   "metadata": {},
   "outputs": [
    {
     "data": {
      "text/plain": [
       "['a', 'c', 'd', 'f']"
      ]
     },
     "execution_count": 34,
     "metadata": {},
     "output_type": "execute_result"
    }
   ],
   "source": [
    "a = ['a','b','c','d','b','f']\n",
    "\n",
    "a.remove('b')\n",
    "a\n",
    "a.remove('b')\n",
    "a"
   ]
  },
  {
   "cell_type": "code",
   "execution_count": 12,
   "id": "2ba7c4df-061c-4d04-a54d-48a779f79c2f",
   "metadata": {},
   "outputs": [
    {
     "name": "stdout",
     "output_type": "stream",
     "text": [
      "d\n",
      "['a', 'b', 'c', 'd']\n",
      "c\n",
      "['a', 'b', 'd']\n"
     ]
    }
   ],
   "source": [
    "# pop 추출 후 삭제\n",
    "\n",
    "a = ['a','b','c','d','d']\n",
    "print(a. pop())\n",
    "print(a)\n",
    "print(a.pop(2))\n",
    "print(a)"
   ]
  },
  {
   "cell_type": "code",
   "execution_count": 15,
   "id": "9d1b0160-da6d-4c1c-abae-09f8c478344b",
   "metadata": {},
   "outputs": [
    {
     "name": "stdout",
     "output_type": "stream",
     "text": [
      "2\n",
      "1\n"
     ]
    }
   ],
   "source": [
    "a = ['a','b','c','d','d']\n",
    "\n",
    "print(a.count('d'))\n",
    "print(a.count('a'))"
   ]
  },
  {
   "cell_type": "code",
   "execution_count": 19,
   "id": "7a826e40-1ceb-46a7-8541-933df5282eb4",
   "metadata": {},
   "outputs": [
    {
     "name": "stdout",
     "output_type": "stream",
     "text": [
      "[11, 22, 33, 44, 55, 66, 77]\n",
      "[11, 22, 33, 44, 55, 66, 77, 88, 99]\n"
     ]
    }
   ],
   "source": [
    "z= [11,22,33,44,55]\n",
    "z.extend([66,77])\n",
    "print(z)\n",
    "y = [88,99]\n",
    "z.extend(y)\n",
    "print(z)"
   ]
  },
  {
   "cell_type": "code",
   "execution_count": 1,
   "id": "006b79af-9f01-4f36-8fac-e340fbe102c9",
   "metadata": {},
   "outputs": [],
   "source": [
    "bag = ['호박','감자','맥주','소주']"
   ]
  },
  {
   "cell_type": "code",
   "execution_count": 2,
   "id": "f0084960-061f-451c-ac4f-0aeae0857d77",
   "metadata": {},
   "outputs": [
    {
     "name": "stdin",
     "output_type": "stream",
     "text": [
      "필요한 항목을 넣어주세요 딸기\n"
     ]
    },
    {
     "name": "stdout",
     "output_type": "stream",
     "text": [
      "장바구니에는 ['호박', '감자', '맥주', '소주', '딸기']들이 들어있습니다.\n"
     ]
    }
   ],
   "source": [
    "inp = input('필요한 항목을 넣어주세요')\n",
    "bag.append(inp)\n",
    "print(f'장바구니에는 {bag}들이 들어있습니다.')"
   ]
  },
  {
   "cell_type": "code",
   "execution_count": 3,
   "id": "b8c4d768-d0cc-4655-85de-6fd1c62b060c",
   "metadata": {},
   "outputs": [
    {
     "name": "stdout",
     "output_type": "stream",
     "text": [
      "호박를 꺼내서 장바구니에 ['감자', '맥주', '소주', '딸기']이 남았습니다\n"
     ]
    }
   ],
   "source": [
    "hand = bag.pop(0)\n",
    "print(f'{hand}를 꺼내서 장바구니에 {bag}이 남았습니다')"
   ]
  },
  {
   "cell_type": "code",
   "execution_count": 6,
   "id": "e4d4fdc1-5dff-4537-9095-506428063a8b",
   "metadata": {},
   "outputs": [
    {
     "name": "stdout",
     "output_type": "stream",
     "text": [
      "바구니에 ['호박', '감자', '소주', '맥주', '피자'] 물품이 있습니다\n"
     ]
    },
    {
     "name": "stdin",
     "output_type": "stream",
     "text": [
      "꺼내고싶은 물품을 입력하세요 감자\n"
     ]
    },
    {
     "name": "stdout",
     "output_type": "stream",
     "text": [
      "바구니에서 감자를 꺼내어 ['호박', '소주', '맥주', '피자']이 남았습니다\n"
     ]
    }
   ],
   "source": [
    "bag = ['호박','감자','소주','맥주','피자']\n",
    "print(f'바구니에 {bag} 물품이 있습니다')\n",
    "\n",
    "bring = input('꺼내고싶은 물품을 입력하세요')\n",
    "hand2 = bag.pop(bag.index(bring))\n",
    "print(f'바구니에서 {hand2}를 꺼내어 {bag}이 남았습니다')"
   ]
  },
  {
   "cell_type": "code",
   "execution_count": 5,
   "id": "5c39786f-9018-4310-bb42-e6b3bab9160e",
   "metadata": {},
   "outputs": [
    {
     "name": "stdout",
     "output_type": "stream",
     "text": [
      "22를 제거하였습니다\n"
     ]
    }
   ],
   "source": [
    "choice = 22\n",
    "a = [11,22,33,44,55]\n",
    "a.remove(choice)\n",
    "print(f'{choice}를 제거하였습니다')"
   ]
  },
  {
   "cell_type": "code",
   "execution_count": 8,
   "id": "aa916327-609a-4e78-a3db-7475c7831929",
   "metadata": {},
   "outputs": [
    {
     "name": "stdout",
     "output_type": "stream",
     "text": [
      "바구니에 ['호박', '감자', '소주', '맥주', '피자']물품이 있습니다\n"
     ]
    },
    {
     "name": "stdin",
     "output_type": "stream",
     "text": [
      "추가할 물건 이름을 적어주세요. 라면\n",
      "어느 물품 뒤에 넣어둘까요? 맥주\n"
     ]
    },
    {
     "name": "stdout",
     "output_type": "stream",
     "text": [
      "바구니 안에 라면을 맥주뒤에 추가로 넣었습니다\n",
      "그래서 장바구니에는 ['호박', '감자', '소주', '맥주', '라면', '피자'] 물품이 있습니다\n"
     ]
    }
   ],
   "source": [
    "# 실습\n",
    "bag = ['호박','감자','소주','맥주','피자']\n",
    "# 물품 하나 추가하기. 단, 지정한 물품 바로뒤에 추가하기\n",
    "print(f'바구니에 {bag}물품이 있습니다')\n",
    "test1 = input('추가할 물건 이름을 적어주세요.')\n",
    "test2 = input('어느 물품 뒤에 넣어둘까요?')\n",
    "print(f'바구니 안에 {test1}을 {test2}뒤에 추가로 넣었습니다')\n",
    "ad = bag.insert(4,'라면')\n",
    "print(f'그래서 장바구니에는 {bag} 물품이 있습니다')"
   ]
  },
  {
   "cell_type": "code",
   "execution_count": 17,
   "id": "5e61370d-56b8-444f-a82f-b3c6eba40c10",
   "metadata": {},
   "outputs": [
    {
     "name": "stdout",
     "output_type": "stream",
     "text": [
      "바구니에 ['호박', '감자', '소주', '맥주', '피자']물품이 있습니다\n"
     ]
    },
    {
     "name": "stdin",
     "output_type": "stream",
     "text": [
      "추가할 물건 이름을 적어주세요. 라면\n",
      "어느 물품 뒤에 넣어둘까요? 감자\n"
     ]
    },
    {
     "name": "stdout",
     "output_type": "stream",
     "text": [
      "바구니 안에 라면을 감자뒤에 추가로 넣었습니다\n",
      "그래서 장바구니에는 ['호박', '감자', '라면', '소주', '맥주', '피자'] 물품이 있습니다\n"
     ]
    }
   ],
   "source": [
    "# 실습\n",
    "bag = ['호박','감자','소주','맥주','피자']\n",
    "# 물품 하나 추가하기. 단, 지정한 물품 바로뒤에 추가하기\n",
    "print(f'바구니에 {bag}물품이 있습니다')\n",
    "test1 = input('추가할 물건 이름을 적어주세요.')\n",
    "test2 = input('어느 물품 뒤에 넣어둘까요?')\n",
    "print(f'바구니 안에 {test1}을 {test2}뒤에 추가로 넣었습니다')\n",
    "where = bag.index(test2) + 1\n",
    "ad = bag.insert(where,test1)\n",
    "print(f'그래서 장바구니에는 {bag} 물품이 있습니다')"
   ]
  },
  {
   "cell_type": "code",
   "execution_count": 80,
   "id": "8e4c211e-ae1e-4227-8c2c-e8339261bfcd",
   "metadata": {},
   "outputs": [
    {
     "name": "stdin",
     "output_type": "stream",
     "text": [
      "내가 누구게? 숫자 입력하세요 4\n"
     ]
    },
    {
     "name": "stdout",
     "output_type": "stream",
     "text": [
      "8 <class 'int'>\n"
     ]
    }
   ],
   "source": [
    "num = int(input('내가 누구게? 숫자 입력하세요'))\n",
    "print(int(num) + 4 ,type(num))"
   ]
  },
  {
   "cell_type": "code",
   "execution_count": 2,
   "id": "68a1bc99-295c-4530-9069-9123eb8b7d63",
   "metadata": {
    "scrolled": true
   },
   "outputs": [
    {
     "name": "stdout",
     "output_type": "stream",
     "text": [
      "[{'result': 1, 'cur_unit': 'AED', 'ttb': '393.73', 'tts': '401.68', 'deal_bas_r': '397.71', 'bkpr': '397', 'yy_efee_r': '0', 'ten_dd_efee_r': '0', 'kftc_bkpr': '397', 'kftc_deal_bas_r': '397.71', 'cur_nm': '아랍에미리트 디르함'}, {'result': 1, 'cur_unit': 'AUD', 'ttb': '904.23', 'tts': '922.5', 'deal_bas_r': '913.37', 'bkpr': '913', 'yy_efee_r': '0', 'ten_dd_efee_r': '0', 'kftc_bkpr': '913', 'kftc_deal_bas_r': '913.37', 'cur_nm': '호주 달러'}, {'result': 1, 'cur_unit': 'BHD', 'ttb': '3,835.95', 'tts': '3,913.44', 'deal_bas_r': '3,874.7', 'bkpr': '3,874', 'yy_efee_r': '0', 'ten_dd_efee_r': '0', 'kftc_bkpr': '3,874', 'kftc_deal_bas_r': '3,874.7', 'cur_nm': '바레인 디나르'}, {'result': 1, 'cur_unit': 'BND', 'ttb': '1,069.19', 'tts': '1,090.78', 'deal_bas_r': '1,079.99', 'bkpr': '1,079', 'yy_efee_r': '0', 'ten_dd_efee_r': '0', 'kftc_bkpr': '1,079', 'kftc_deal_bas_r': '1,079.99', 'cur_nm': '브루나이 달러'}, {'result': 1, 'cur_unit': 'CAD', 'ttb': '1,009.38', 'tts': '1,029.77', 'deal_bas_r': '1,019.58', 'bkpr': '1,019', 'yy_efee_r': '0', 'ten_dd_efee_r': '0', 'kftc_bkpr': '1,019', 'kftc_deal_bas_r': '1,019.58', 'cur_nm': '캐나다 달러'}, {'result': 1, 'cur_unit': 'CHF', 'ttb': '1,597.47', 'tts': '1,629.74', 'deal_bas_r': '1,613.61', 'bkpr': '1,613', 'yy_efee_r': '0', 'ten_dd_efee_r': '0', 'kftc_bkpr': '1,613', 'kftc_deal_bas_r': '1,613.61', 'cur_nm': '스위스 프랑'}, {'result': 1, 'cur_unit': 'CNH', 'ttb': '197.73', 'tts': '201.72', 'deal_bas_r': '199.73', 'bkpr': '199', 'yy_efee_r': '0', 'ten_dd_efee_r': '0', 'kftc_bkpr': '199', 'kftc_deal_bas_r': '199.73', 'cur_nm': '위안화'}, {'result': 1, 'cur_unit': 'DKK', 'ttb': '201.18', 'tts': '205.25', 'deal_bas_r': '203.22', 'bkpr': '203', 'yy_efee_r': '0', 'ten_dd_efee_r': '0', 'kftc_bkpr': '203', 'kftc_deal_bas_r': '203.22', 'cur_nm': '덴마아크 크로네'}, {'result': 1, 'cur_unit': 'EUR', 'ttb': '1,500.64', 'tts': '1,530.95', 'deal_bas_r': '1,515.8', 'bkpr': '1,515', 'yy_efee_r': '0', 'ten_dd_efee_r': '0', 'kftc_bkpr': '1,515', 'kftc_deal_bas_r': '1,515.8', 'cur_nm': '유로'}, {'result': 1, 'cur_unit': 'GBP', 'ttb': '1,804.7', 'tts': '1,841.15', 'deal_bas_r': '1,822.93', 'bkpr': '1,822', 'yy_efee_r': '0', 'ten_dd_efee_r': '0', 'kftc_bkpr': '1,822', 'kftc_deal_bas_r': '1,822.93', 'cur_nm': '영국 파운드'}, {'result': 1, 'cur_unit': 'HKD', 'ttb': '185.71', 'tts': '189.46', 'deal_bas_r': '187.59', 'bkpr': '187', 'yy_efee_r': '0', 'ten_dd_efee_r': '0', 'kftc_bkpr': '187', 'kftc_deal_bas_r': '187.59', 'cur_nm': '홍콩 달러'}, {'result': 1, 'cur_unit': 'IDR(100)', 'ttb': '8.85', 'tts': '9.02', 'deal_bas_r': '8.94', 'bkpr': '8', 'yy_efee_r': '0', 'ten_dd_efee_r': '0', 'kftc_bkpr': '8', 'kftc_deal_bas_r': '8.94', 'cur_nm': '인도네시아 루피아'}, {'result': 1, 'cur_unit': 'JPY(100)', 'ttb': '936.61', 'tts': '955.54', 'deal_bas_r': '946.08', 'bkpr': '946', 'yy_efee_r': '0', 'ten_dd_efee_r': '0', 'kftc_bkpr': '946', 'kftc_deal_bas_r': '946.08', 'cur_nm': '일본 옌'}, {'result': 1, 'cur_unit': 'KRW', 'ttb': '0', 'tts': '0', 'deal_bas_r': '1', 'bkpr': '1', 'yy_efee_r': '0', 'ten_dd_efee_r': '0', 'kftc_bkpr': '1', 'kftc_deal_bas_r': '1', 'cur_nm': '한국 원'}, {'result': 1, 'cur_unit': 'KWD', 'ttb': '4,686.3', 'tts': '4,780.97', 'deal_bas_r': '4,733.64', 'bkpr': '4,733', 'yy_efee_r': '0', 'ten_dd_efee_r': '0', 'kftc_bkpr': '4,733', 'kftc_deal_bas_r': '4,733.64', 'cur_nm': '쿠웨이트 디나르'}, {'result': 1, 'cur_unit': 'MYR', 'ttb': '325.42', 'tts': '331.99', 'deal_bas_r': '328.71', 'bkpr': '328', 'yy_efee_r': '0', 'ten_dd_efee_r': '0', 'kftc_bkpr': '328', 'kftc_deal_bas_r': '328.71', 'cur_nm': '말레이지아 링기트'}, {'result': 1, 'cur_unit': 'NOK', 'ttb': '128.58', 'tts': '131.17', 'deal_bas_r': '129.88', 'bkpr': '129', 'yy_efee_r': '0', 'ten_dd_efee_r': '0', 'kftc_bkpr': '129', 'kftc_deal_bas_r': '129.88', 'cur_nm': '노르웨이 크로네'}, {'result': 1, 'cur_unit': 'NZD', 'ttb': '817.02', 'tts': '833.53', 'deal_bas_r': '825.28', 'bkpr': '825', 'yy_efee_r': '0', 'ten_dd_efee_r': '0', 'kftc_bkpr': '825', 'kftc_deal_bas_r': '825.28', 'cur_nm': '뉴질랜드 달러'}, {'result': 1, 'cur_unit': 'SAR', 'ttb': '385.58', 'tts': '393.37', 'deal_bas_r': '389.48', 'bkpr': '389', 'yy_efee_r': '0', 'ten_dd_efee_r': '0', 'kftc_bkpr': '389', 'kftc_deal_bas_r': '389.48', 'cur_nm': '사우디 리얄'}, {'result': 1, 'cur_unit': 'SEK', 'ttb': '131.78', 'tts': '134.45', 'deal_bas_r': '133.12', 'bkpr': '133', 'yy_efee_r': '0', 'ten_dd_efee_r': '0', 'kftc_bkpr': '133', 'kftc_deal_bas_r': '133.12', 'cur_nm': '스웨덴 크로나'}, {'result': 1, 'cur_unit': 'SGD', 'ttb': '1,069.19', 'tts': '1,090.78', 'deal_bas_r': '1,079.99', 'bkpr': '1,079', 'yy_efee_r': '0', 'ten_dd_efee_r': '0', 'kftc_bkpr': '1,079', 'kftc_deal_bas_r': '1,079.99', 'cur_nm': '싱가포르 달러'}, {'result': 1, 'cur_unit': 'THB', 'ttb': '42.98', 'tts': '43.85', 'deal_bas_r': '43.42', 'bkpr': '43', 'yy_efee_r': '0', 'ten_dd_efee_r': '0', 'kftc_bkpr': '43', 'kftc_deal_bas_r': '43.42', 'cur_nm': '태국 바트'}, {'result': 1, 'cur_unit': 'USD', 'ttb': '1,446.19', 'tts': '1,475.4', 'deal_bas_r': '1,460.8', 'bkpr': '1,460', 'yy_efee_r': '0', 'ten_dd_efee_r': '0', 'kftc_bkpr': '1,460', 'kftc_deal_bas_r': '1,460.8', 'cur_nm': '미국 달러'}] <class 'list'>\n",
      "1,460.8 <class 'str'>\n",
      "14608 <class 'str'>\n"
     ]
    }
   ],
   "source": [
    "import requests\n",
    "import json\n",
    "url = 'https://www.koreaexim.go.kr/site/program/financial/exchangeJSON?authkey=yV09X0AAy29nL02VQUCn4gX0EVVSSNhS&data=AP01'\n",
    "res = requests.get(url).text\n",
    "data = json.loads(res)\n",
    "print(data,type(data))\n",
    "result = data[-1]['deal_bas_r']\n",
    "print(result,type(result))\n",
    "result2 = result.replace(',',\"\").replace('.',\"\")\n",
    "print(result2, type(result2))\n",
    "exc = int(result2)/10"
   ]
  },
  {
   "cell_type": "code",
   "execution_count": null,
   "id": "55fe5acb-fd44-42c0-a1b4-c4bdeea2a85a",
   "metadata": {},
   "outputs": [],
   "source": [
    "# 환율 계산기 만들기\n",
    "\n",
    "doll = int(input('원화로 계산할 달러를 입력하세요'))\n",
    "kw = (doll*1450)\n",
    "print('현재 환율로' ,kw:,, '원 입니다')\n",
    "print(f'요청하신 {doll}달러의 원화는 {kw:,}원 입니다.')\n"
   ]
  },
  {
   "cell_type": "code",
   "execution_count": 87,
   "id": "98d1e852-c125-4963-8847-360df5735373",
   "metadata": {},
   "outputs": [
    {
     "name": "stdin",
     "output_type": "stream",
     "text": [
      "질문3 d\n"
     ]
    }
   ],
   "source": [
    "from IPython.display import clear_output\n",
    "#test\n",
    "\n",
    "inp1 = input('질문1')\n",
    "clear_output(wait=True)\n",
    "inp2 = input('질문2')\n",
    "clear_output(wait=True)\n",
    "inp3 = input('질문3')"
   ]
  },
  {
   "cell_type": "code",
   "execution_count": 90,
   "id": "a9da468e-9391-4ce4-81dd-132d8ec3fd53",
   "metadata": {},
   "outputs": [
    {
     "data": {
      "text/plain": [
       "0.30000000000000004"
      ]
     },
     "execution_count": 90,
     "metadata": {},
     "output_type": "execute_result"
    }
   ],
   "source": [
    "0.1 + 0.2"
   ]
  },
  {
   "cell_type": "code",
   "execution_count": 94,
   "id": "09dae238-c0d3-4a70-bbc9-16fc990197d3",
   "metadata": {},
   "outputs": [
    {
     "name": "stdout",
     "output_type": "stream",
     "text": [
      "2898.8\n"
     ]
    }
   ],
   "source": [
    "# from decimal import Decimal  더 정밀한 계산\n",
    "rr = 1449.4 *2\n",
    "# result = Decimal(rr)*2\n",
    "print(round(result,1))"
   ]
  },
  {
   "cell_type": "markdown",
   "id": "3a093f4e-40be-47cb-b7c5-6d0aa8337fd3",
   "metadata": {},
   "source": [
    "# 튜플 자료형"
   ]
  },
  {
   "cell_type": "code",
   "execution_count": null,
   "id": "192d64f2-553e-4202-9341-9930d6569c54",
   "metadata": {},
   "outputs": [],
   "source": [
    "# [ ] = 리스트 = 삭제 수정 가능\n",
    "# ( ) = 튜플 = 요소 삭제 수정 불가능, 쉼표 필수, 소괄호 생략 가능"
   ]
  },
  {
   "cell_type": "code",
   "execution_count": 95,
   "id": "ad8c7851-d237-4971-b2dd-0882cc0fe589",
   "metadata": {},
   "outputs": [],
   "source": [
    "t1 = ()\n",
    "t2 = (1,)\n",
    "t3 = (1,2,3)\n",
    "t4 = 1,2,3\n",
    "t5 = ('a','b',('ab','cd'))"
   ]
  },
  {
   "cell_type": "code",
   "execution_count": 96,
   "id": "edc5865a-56cb-460d-96d9-279cd245bd27",
   "metadata": {},
   "outputs": [],
   "source": [
    "t1 = (1,2,'a','b')\n"
   ]
  },
  {
   "cell_type": "code",
   "execution_count": 97,
   "id": "47f4c3a6-e8e8-46e9-a20a-ae400b712fea",
   "metadata": {},
   "outputs": [
    {
     "ename": "TypeError",
     "evalue": "'tuple' object doesn't support item deletion",
     "output_type": "error",
     "traceback": [
      "\u001b[1;31m---------------------------------------------------------------------------\u001b[0m",
      "\u001b[1;31mTypeError\u001b[0m                                 Traceback (most recent call last)",
      "Cell \u001b[1;32mIn[97], line 1\u001b[0m\n\u001b[1;32m----> 1\u001b[0m \u001b[38;5;28;01mdel\u001b[39;00m \u001b[43mt1\u001b[49m\u001b[43m[\u001b[49m\u001b[38;5;241;43m0\u001b[39;49m\u001b[43m]\u001b[49m\n",
      "\u001b[1;31mTypeError\u001b[0m: 'tuple' object doesn't support item deletion"
     ]
    }
   ],
   "source": [
    "del t1[0]"
   ]
  },
  {
   "cell_type": "code",
   "execution_count": 98,
   "id": "fa833b05-a334-49b7-b2f7-ad54bdbab98d",
   "metadata": {},
   "outputs": [
    {
     "ename": "TypeError",
     "evalue": "'tuple' object does not support item assignment",
     "output_type": "error",
     "traceback": [
      "\u001b[1;31m---------------------------------------------------------------------------\u001b[0m",
      "\u001b[1;31mTypeError\u001b[0m                                 Traceback (most recent call last)",
      "Cell \u001b[1;32mIn[98], line 1\u001b[0m\n\u001b[1;32m----> 1\u001b[0m \u001b[43mt1\u001b[49m\u001b[43m[\u001b[49m\u001b[38;5;241;43m0\u001b[39;49m\u001b[43m]\u001b[49m \u001b[38;5;241m=\u001b[39m \u001b[38;5;124m'\u001b[39m\u001b[38;5;124mc\u001b[39m\u001b[38;5;124m'\u001b[39m\n",
      "\u001b[1;31mTypeError\u001b[0m: 'tuple' object does not support item assignment"
     ]
    }
   ],
   "source": [
    "t1[0] = 'c'"
   ]
  },
  {
   "cell_type": "code",
   "execution_count": null,
   "id": "3eacb700-e184-4716-b0c6-a73f631171cb",
   "metadata": {},
   "outputs": [],
   "source": [
    "dir(tuple)  #tuple()"
   ]
  },
  {
   "cell_type": "code",
   "execution_count": 100,
   "id": "9daf1e9e-864e-4a4d-8478-27452a97a998",
   "metadata": {},
   "outputs": [
    {
     "name": "stdout",
     "output_type": "stream",
     "text": [
      "2 b\n"
     ]
    }
   ],
   "source": [
    "t1 = (1,2,'a','b')\n",
    "print(t1[1],t1[3])"
   ]
  },
  {
   "cell_type": "code",
   "execution_count": 101,
   "id": "7b469f93-ff45-4f41-a230-ab9cd66ac919",
   "metadata": {},
   "outputs": [
    {
     "data": {
      "text/plain": [
       "(2, 'a', 'b')"
      ]
     },
     "execution_count": 101,
     "metadata": {},
     "output_type": "execute_result"
    }
   ],
   "source": [
    "t1 = (1,2,'a','b')\n",
    "t1[1:]"
   ]
  },
  {
   "cell_type": "code",
   "execution_count": 102,
   "id": "504a3433-e124-4747-bc95-b372e7b5caa9",
   "metadata": {},
   "outputs": [
    {
     "data": {
      "text/plain": [
       "(1, 2, 'a', 'b', 3, 4)"
      ]
     },
     "execution_count": 102,
     "metadata": {},
     "output_type": "execute_result"
    }
   ],
   "source": [
    "t2 = (3,4)\n",
    "t3 = t1 + t2\n",
    "t3"
   ]
  },
  {
   "cell_type": "code",
   "execution_count": 103,
   "id": "b15a2405-e05d-44ff-bb2a-e18a26abf107",
   "metadata": {},
   "outputs": [
    {
     "data": {
      "text/plain": [
       "(3, 4, 3, 4, 3, 4)"
      ]
     },
     "execution_count": 103,
     "metadata": {},
     "output_type": "execute_result"
    }
   ],
   "source": [
    "t2 = (3,4)\n",
    "t3 = t2 *3\n",
    "t3"
   ]
  },
  {
   "cell_type": "code",
   "execution_count": 104,
   "id": "f5acf283-d24b-40ce-88e6-74987ae80ff2",
   "metadata": {},
   "outputs": [
    {
     "data": {
      "text/plain": [
       "6"
      ]
     },
     "execution_count": 104,
     "metadata": {},
     "output_type": "execute_result"
    }
   ],
   "source": [
    "len(t3)"
   ]
  },
  {
   "cell_type": "code",
   "execution_count": 115,
   "id": "e546f219-1ddc-4301-9cb8-44232597ff44",
   "metadata": {},
   "outputs": [
    {
     "data": {
      "text/plain": [
       "(1, 2, 3, 4)"
      ]
     },
     "execution_count": 115,
     "metadata": {},
     "output_type": "execute_result"
    }
   ],
   "source": [
    "t1 = (1,2,3)\n",
    "t1+(4,)"
   ]
  },
  {
   "cell_type": "markdown",
   "id": "3af7752b-ab93-4f8e-ac35-a7d5ce8694ac",
   "metadata": {},
   "source": [
    "# 딕셔너리 자료형"
   ]
  },
  {
   "cell_type": "code",
   "execution_count": null,
   "id": "5524d879-f315-48e9-8bac-d9c095e2c197",
   "metadata": {},
   "outputs": [],
   "source": [
    "dic = {'name' : 'pey', 'phone': '010-9999-1234', 'birth' : '1118'}"
   ]
  },
  {
   "cell_type": "code",
   "execution_count": 121,
   "id": "27ed6e20-6aa7-4a9c-961e-07dc63247a85",
   "metadata": {},
   "outputs": [
    {
     "name": "stdout",
     "output_type": "stream",
     "text": [
      "pey\n"
     ]
    }
   ],
   "source": [
    "print(dic['name'])"
   ]
  },
  {
   "cell_type": "code",
   "execution_count": 120,
   "id": "552b4a7d-8d89-4c58-8122-12fd484b31c1",
   "metadata": {},
   "outputs": [
    {
     "name": "stdout",
     "output_type": "stream",
     "text": [
      "010-9999-1234\n",
      "1118\n"
     ]
    }
   ],
   "source": [
    "print(dic['phone'])\n",
    "print(dic['birth'])"
   ]
  },
  {
   "cell_type": "code",
   "execution_count": 1,
   "id": "6a65f2f5-275d-426a-9c62-b1fefa206d42",
   "metadata": {},
   "outputs": [
    {
     "name": "stdout",
     "output_type": "stream",
     "text": [
      "11\n",
      "11\n"
     ]
    }
   ],
   "source": [
    "al = [11,22,33,44,55]\n",
    "ad = {0:11,1:22,2:33,3:44,4:55}\n",
    "print(al[0])\n",
    "print(ad[0])"
   ]
  },
  {
   "cell_type": "code",
   "execution_count": 3,
   "id": "2f6e41cd-b26e-431f-85df-5373ce52494e",
   "metadata": {},
   "outputs": [
    {
     "name": "stdout",
     "output_type": "stream",
     "text": [
      "11\n",
      "22\n",
      "33\n",
      "44\n",
      "55\n",
      "==========\n",
      "55\n",
      "55\n",
      "55\n",
      "55\n",
      "55\n"
     ]
    }
   ],
   "source": [
    "for l in al:\n",
    "    print(l)\n",
    "print('='*10)\n",
    "for t in ad:\n",
    "    print(l)\n"
   ]
  },
  {
   "cell_type": "code",
   "execution_count": 4,
   "id": "65768ac0-08b3-42c1-b308-9b1dfbc8b815",
   "metadata": {},
   "outputs": [
    {
     "name": "stdout",
     "output_type": "stream",
     "text": [
      "[11, 22, 33, 44, 55]\n"
     ]
    }
   ],
   "source": [
    "a = {'aa':[11,22,33,44,55]}\n",
    "print(a['aa'])"
   ]
  },
  {
   "cell_type": "markdown",
   "id": "02abe465-1a43-436b-9ad0-5128a367e4b1",
   "metadata": {},
   "source": [
    "## 딕셔너리 관련 함수"
   ]
  },
  {
   "cell_type": "code",
   "execution_count": 13,
   "id": "f36d80cf-9c74-4277-a75b-7e81990e4c99",
   "metadata": {},
   "outputs": [
    {
     "name": "stdout",
     "output_type": "stream",
     "text": [
      "dict_keys(['name', 'phone', 'birth']) \n",
      "\n",
      "dict_values(['pey', '010-9999-1234', '1118']) \n",
      "\n"
     ]
    }
   ],
   "source": [
    "a = {'name' : 'pey', 'phone': '010-9999-1234', 'birth' : '1118'}\n",
    "print(a. keys(),'\\n')\n",
    "print(a.values(),'\\n')\n",
    "\n"
   ]
  },
  {
   "cell_type": "code",
   "execution_count": 14,
   "id": "d98913ef-8c37-4228-87ac-d5389d34eb74",
   "metadata": {},
   "outputs": [
    {
     "name": "stdout",
     "output_type": "stream",
     "text": [
      "name\n",
      "phone\n",
      "birth\n"
     ]
    }
   ],
   "source": [
    "for k in a.keys():\n",
    "    print(k)"
   ]
  },
  {
   "cell_type": "code",
   "execution_count": 15,
   "id": "69992ce1-957b-4520-8729-0c811d55a066",
   "metadata": {},
   "outputs": [
    {
     "name": "stdout",
     "output_type": "stream",
     "text": [
      "pey\n",
      "010-9999-1234\n",
      "1118\n"
     ]
    }
   ],
   "source": [
    "for o in a.values():\n",
    "    print(o)"
   ]
  },
  {
   "cell_type": "code",
   "execution_count": 16,
   "id": "ef481ef8-56cd-4488-bb95-b525f44e334d",
   "metadata": {},
   "outputs": [
    {
     "data": {
      "text/plain": [
       "['name', 'phone', 'birth']"
      ]
     },
     "execution_count": 16,
     "metadata": {},
     "output_type": "execute_result"
    }
   ],
   "source": [
    "list(a.keys())   #리스트만들기"
   ]
  },
  {
   "cell_type": "code",
   "execution_count": 19,
   "id": "23e459c4-a5a0-48a7-b99f-8fe46fa09f7b",
   "metadata": {},
   "outputs": [
    {
     "data": {
      "text/plain": [
       "['pey', '010-9999-1234', '1118']"
      ]
     },
     "execution_count": 19,
     "metadata": {},
     "output_type": "execute_result"
    }
   ],
   "source": [
    "list(a.values())         #리스트만들기"
   ]
  },
  {
   "cell_type": "code",
   "execution_count": 22,
   "id": "c95ae0d1-2804-4ace-9eac-9b73928585fd",
   "metadata": {},
   "outputs": [
    {
     "name": "stdout",
     "output_type": "stream",
     "text": [
      "dict_items([('name', 'pey'), ('phone', '010-9999-1234'), ('birth', '1118')])\n"
     ]
    }
   ],
   "source": [
    "print(a.items())   #키 밸류 쌍 얻기"
   ]
  },
  {
   "cell_type": "code",
   "execution_count": 25,
   "id": "c9816024-6ad2-464f-85c3-8c33084b524b",
   "metadata": {},
   "outputs": [
    {
     "name": "stdout",
     "output_type": "stream",
     "text": [
      "{}\n"
     ]
    }
   ],
   "source": [
    "a.clear() #키값쌍 모두 지우기\n",
    "print(a)"
   ]
  },
  {
   "cell_type": "code",
   "execution_count": 27,
   "id": "f042a5c9-c4df-4fdd-b5fe-e35d84c82ba4",
   "metadata": {},
   "outputs": [
    {
     "name": "stdout",
     "output_type": "stream",
     "text": [
      "pey\n"
     ]
    }
   ],
   "source": [
    "a = {'name' : 'pey', 'phone': '010-9999-1234', 'birth' : '1118'}\n",
    "print(a.get('name'))"
   ]
  },
  {
   "cell_type": "code",
   "execution_count": 28,
   "id": "84ea1e4a-ce04-4ab7-afe2-0c54bfba1cd1",
   "metadata": {},
   "outputs": [
    {
     "name": "stdout",
     "output_type": "stream",
     "text": [
      "1118\n"
     ]
    }
   ],
   "source": [
    "print(a.get('birth'))"
   ]
  },
  {
   "cell_type": "code",
   "execution_count": 29,
   "id": "0813267e-2639-4bad-868e-639e2cda0453",
   "metadata": {},
   "outputs": [
    {
     "name": "stdout",
     "output_type": "stream",
     "text": [
      "None\n"
     ]
    }
   ],
   "source": [
    "print(a.get('weight'))"
   ]
  },
  {
   "cell_type": "code",
   "execution_count": 30,
   "id": "3dae97b2-c27b-4ac7-b8e1-5a4c5dbb6483",
   "metadata": {},
   "outputs": [
    {
     "name": "stdout",
     "output_type": "stream",
     "text": [
      "True\n"
     ]
    }
   ],
   "source": [
    "a = {'name' : 'pey', 'phone': '010-9999-1234', 'birth' : '1118','address':'busan','array':[1,2,3,4,5]}\n",
    "print('name' in a )"
   ]
  },
  {
   "cell_type": "code",
   "execution_count": 5,
   "id": "71141249-4af3-4544-ac9b-fec7d9d358db",
   "metadata": {},
   "outputs": [
    {
     "name": "stdout",
     "output_type": "stream",
     "text": [
      "True\n",
      "False\n",
      "True\n"
     ]
    }
   ],
   "source": [
    "al = [11,22,33,44,55]\n",
    "at = 11,22,33,44,55\n",
    "ad = {0:11,1:22,2:33,3:44,4:55}\n",
    "\n",
    "print(22 in al)\n",
    "print(99 in at)\n",
    "print(1 in ad)"
   ]
  },
  {
   "cell_type": "code",
   "execution_count": null,
   "id": "d0775324-a1f9-4ffe-8fe6-1f6126280532",
   "metadata": {},
   "outputs": [],
   "source": []
  }
 ],
 "metadata": {
  "kernelspec": {
   "display_name": "Python 3 (ipykernel)",
   "language": "python",
   "name": "python3"
  },
  "language_info": {
   "codemirror_mode": {
    "name": "ipython",
    "version": 3
   },
   "file_extension": ".py",
   "mimetype": "text/x-python",
   "name": "python",
   "nbconvert_exporter": "python",
   "pygments_lexer": "ipython3",
   "version": "3.13.1"
  }
 },
 "nbformat": 4,
 "nbformat_minor": 5
}
