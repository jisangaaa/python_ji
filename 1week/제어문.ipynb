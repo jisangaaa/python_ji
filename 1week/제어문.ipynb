{
 "cells": [
  {
   "cell_type": "markdown",
   "id": "e6004212-8d38-4978-beb2-b40160437eaa",
   "metadata": {},
   "source": [
    "# 제어문"
   ]
  },
  {
   "cell_type": "code",
   "execution_count": 2,
   "id": "27b132f2-1c2f-49aa-abfa-4d428467d6a3",
   "metadata": {},
   "outputs": [
    {
     "name": "stdout",
     "output_type": "stream",
     "text": [
      "항상동작\n",
      "5가큽니다\n"
     ]
    }
   ],
   "source": [
    "if True :\n",
    "    print('항상동작')\n",
    "if False:\n",
    "    print('동작하나?')\n",
    "if [1,3]:\n",
    "    print('5가큽니다')\n",
    "if 4 >10:\n",
    "    print('나올까요?')\n"
   ]
  },
  {
   "cell_type": "code",
   "execution_count": null,
   "id": "2c1be363-8622-44e8-b07c-caaad9dac882",
   "metadata": {},
   "outputs": [],
   "source": [
    "num = 0\n",
    "while True:\n",
    "    num+=1\n",
    "    print(num,'나.. 화났어!')\n",
    "    if num >= 10 :\n",
    "        break"
   ]
  },
  {
   "cell_type": "code",
   "execution_count": 7,
   "id": "92dcbbba-6800-49e1-a8ef-b12bd0fe66e2",
   "metadata": {},
   "outputs": [
    {
     "name": "stdout",
     "output_type": "stream",
     "text": [
      "택시를\n",
      "타고\n",
      "가라\n"
     ]
    }
   ],
   "source": [
    "if True:\n",
    "    print('택시를')\n",
    "    print('타고') \n",
    "    print('가라')"
   ]
  },
  {
   "cell_type": "code",
   "execution_count": 11,
   "id": "4c7a4270-f4cf-4614-82a9-e08cdff819b7",
   "metadata": {
    "scrolled": true
   },
   "outputs": [
    {
     "name": "stdout",
     "output_type": "stream",
     "text": [
      "돈 3000원 이상 있으면 택시타 \n",
      "\n"
     ]
    },
    {
     "name": "stdin",
     "output_type": "stream",
     "text": [
      "얼마 가지고 있어? 1000\n"
     ]
    },
    {
     "name": "stdout",
     "output_type": "stream",
     "text": [
      "걸어서가\n"
     ]
    }
   ],
   "source": [
    "print('돈 3000원 이상 있으면 택시타','\\n')\n",
    "\n",
    "money = int(input('얼마 가지고 있어?'))\n",
    "if money >= 3000 :\n",
    "    print('택시 타고가')\n",
    "else :\n",
    "    print('걸어서가')\n",
    "    "
   ]
  },
  {
   "cell_type": "code",
   "execution_count": 12,
   "id": "206f7d51-948f-4509-9b6b-991e34d6a837",
   "metadata": {},
   "outputs": [],
   "source": [
    "# and, or, not "
   ]
  },
  {
   "cell_type": "code",
   "execution_count": 15,
   "id": "fca7fb0e-1d08-4ff0-892d-6b55ab11838e",
   "metadata": {},
   "outputs": [
    {
     "name": "stdout",
     "output_type": "stream",
     "text": [
      "=====and연산=====\n",
      "True\n",
      "False\n",
      "False\n",
      "False\n",
      "=====or연산=====\n",
      "True\n",
      "True\n",
      "True\n",
      "False\n",
      "=====not연산=====\n",
      "True\n",
      "False\n",
      "True\n"
     ]
    }
   ],
   "source": [
    "print('=====and연산=====')\n",
    "print(True and True)\n",
    "print(True and False)\n",
    "print(False and True)\n",
    "print(False and False)\n",
    "print('=====or연산=====')\n",
    "print(True or True)\n",
    "print(True or False)\n",
    "print(False or True)\n",
    "print(False or False)\n",
    "print('=====not연산=====')\n",
    "print(True)\n",
    "print(not True)\n",
    "print(not False)"
   ]
  },
  {
   "cell_type": "code",
   "execution_count": 21,
   "id": "cf7645b6-4c7d-4412-9b6e-189f67eded52",
   "metadata": {},
   "outputs": [
    {
     "name": "stdout",
     "output_type": "stream",
     "text": [
      "만납시다\n"
     ]
    }
   ],
   "source": [
    "if '이상형이거나' and '똑똑하거나' :\n",
    "    print('만납시다')"
   ]
  },
  {
   "cell_type": "code",
   "execution_count": 13,
   "id": "c74765e9-4756-471a-a077-c8ac488cb4c9",
   "metadata": {},
   "outputs": [
    {
     "name": "stdout",
     "output_type": "stream",
     "text": [
      "반가워요\n"
     ]
    }
   ],
   "source": [
    "이상형 = True\n",
    "똑똑 = False\n",
    "if 이상형 and 똑똑 :\n",
    "    print('만납시다')\n",
    "else :\n",
    "    print('반가워요')"
   ]
  },
  {
   "cell_type": "code",
   "execution_count": 20,
   "id": "19b3b241-ada0-4b44-8a70-dc1c28b3ce95",
   "metadata": {},
   "outputs": [
    {
     "name": "stdout",
     "output_type": "stream",
     "text": [
      "택시타라\n"
     ]
    }
   ],
   "source": [
    "cash = 20000\n",
    "card = True\n",
    "if cash >= 30000 or card :\n",
    "    print('택시타라')\n",
    "else :\n",
    "    print('걸어가셈')"
   ]
  },
  {
   "cell_type": "code",
   "execution_count": 34,
   "id": "c3d0618b-42a0-46da-a57b-a4a8065f4924",
   "metadata": {},
   "outputs": [
    {
     "name": "stdout",
     "output_type": "stream",
     "text": [
      "a 불합격\n",
      "b 합격\n",
      "c 불합격\n"
     ]
    }
   ],
   "source": [
    "me = 'Python'\n",
    "\n",
    "comA = ['JAVA', 'PYthON', 'HTmL', 'JAVASCriPT', 'C', 'SQl']\n",
    "comB = ['vaVA', 'Python', 'HTmL', 'JAVASCriPT', 'c', 'SQl']\n",
    "comC = ['JAVA', 'PYthON', 'HTmL', 'C', 'SQl']\n",
    "\n",
    "if me in comA :\n",
    "    print('a합격입니다')\n",
    "else :\n",
    "    print('a 불합격')\n",
    "if me in comB :\n",
    "    print('b 합격')\n",
    "else :\n",
    "    print('b 불합격')\n",
    "if me in comC :\n",
    "    print('c 합격')\n",
    "else :\n",
    "    print('c 불합격')"
   ]
  },
  {
   "cell_type": "code",
   "execution_count": 11,
   "id": "9f69fc37-0c1d-4480-9b71-45a45f63c539",
   "metadata": {},
   "outputs": [
    {
     "name": "stdin",
     "output_type": "stream",
     "text": [
      "점수를 입력하세요 \n"
     ]
    },
    {
     "name": "stdout",
     "output_type": "stream",
     "text": [
      "B학점 입니다\n"
     ]
    }
   ],
   "source": [
    "sc = int(input('점수를 입력하세요') or 82) \n",
    "\n",
    "if sc >= 90 :\n",
    "    print('A학점 입니다')\n",
    "elif sc >= 80 :\n",
    "    print('B학점 입니다')\n",
    "elif sc >= 70:\n",
    "    print('C학점 입니다')\n",
    "elif sc >= 60:\n",
    "    print('D학점 입니다')\n",
    "else :\n",
    "    print('F학점 입니다')"
   ]
  },
  {
   "cell_type": "code",
   "execution_count": 10,
   "id": "fd396657-a953-4aa9-905c-2ea284c56ae3",
   "metadata": {},
   "outputs": [
    {
     "name": "stdin",
     "output_type": "stream",
     "text": [
      "점수를 입력하세요 50\n"
     ]
    },
    {
     "name": "stdout",
     "output_type": "stream",
     "text": [
      "F 학점입니다.\n"
     ]
    }
   ],
   "source": [
    "sc = int(input('점수를 입력하세요'))\n",
    "grade = 'F'\n",
    "if 90<= sc : grade = 'A'\n",
    "if 80<= sc <90 : grade = 'B'\n",
    "if 70<= sc <80 : grade = 'C'\n",
    "if 60<= sc <70 : grade = 'D'\n",
    "print(f'{grade} 학점입니다.')"
   ]
  },
  {
   "cell_type": "code",
   "execution_count": 21,
   "id": "4b651726-e0d8-4472-a0d1-fd11184d3767",
   "metadata": {},
   "outputs": [
    {
     "name": "stdin",
     "output_type": "stream",
     "text": [
      "오늘 날씨가 어때? ㄴㅇㄹ\n"
     ]
    },
    {
     "name": "stdout",
     "output_type": "stream",
     "text": [
      "똑바로말해\n"
     ]
    }
   ],
   "source": [
    "weather = input('오늘 날씨가 어때?')\n",
    "\n",
    "if weather in '맑음':\n",
    "    print('우산 필요없어')\n",
    "elif weather in '흐려' :\n",
    "    print('우산챙겨')\n",
    "elif weather in '비와' :\n",
    "    print('우산챙겨') \n",
    "else :\n",
    "    print('똑바로말해')\n",
    "    "
   ]
  },
  {
   "cell_type": "code",
   "execution_count": 2,
   "id": "6aa5bbbe-6197-48c2-8378-4bd3b2fda6f1",
   "metadata": {},
   "outputs": [
    {
     "name": "stdin",
     "output_type": "stream",
     "text": [
      "오늘 몇도야? 11\n"
     ]
    },
    {
     "name": "stdout",
     "output_type": "stream",
     "text": [
      "가을\n"
     ]
    }
   ],
   "source": [
    "temp = float(input('오늘 몇도야?'))\n",
    "\n",
    "if temp >=25 :\n",
    "    print('여름')\n",
    "elif temp>=15 :\n",
    "    print('봄')\n",
    "elif temp >=10 :\n",
    "    print('가을')\n",
    "else : \n",
    "    print('겨울')\n"
   ]
  },
  {
   "cell_type": "code",
   "execution_count": 33,
   "id": "5b19bcfd-f507-48e6-9145-e3be702607db",
   "metadata": {},
   "outputs": [
    {
     "name": "stdout",
     "output_type": "stream",
     "text": [
      "나무를 1번 찍었습니다\n",
      "나무를 2번 찍었습니다\n",
      "나무를 3번 찍었습니다\n",
      "나무를 4번 찍었습니다\n",
      "나무를 5번 찍었습니다\n",
      "나무를 6번 찍었습니다\n",
      "나무를 7번 찍었습니다\n",
      "나무를 8번 찍었습니다\n",
      "나무를 9번 찍었습니다\n",
      "나무를 10번 찍었습니다\n",
      "나무가 넘어갑니다\n"
     ]
    }
   ],
   "source": [
    "hit = 0\n",
    "while hit < 10:\n",
    "    hit = hit+1\n",
    "    print('나무를 %d번 찍었습니다' % hit)\n",
    "    if hit == 10:\n",
    "        print('나무가 넘어갑니다')"
   ]
  },
  {
   "cell_type": "code",
   "execution_count": 37,
   "id": "3e2a96f4-6f8a-4eaa-9ada-54230ff598de",
   "metadata": {},
   "outputs": [
    {
     "name": "stdout",
     "output_type": "stream",
     "text": [
      "나무를 1번 찍었습니다\n",
      "나무를 2번 찍었습니다\n",
      "나무를 3번 찍었습니다\n",
      "나무를 4번 찍었습니다\n",
      "나무를 5번 찍었습니다\n",
      "나무를 6번 찍었습니다\n",
      "나무를 7번 찍었습니다\n",
      "나무를 8번 찍었습니다\n",
      "나무를 9번 찍었습니다\n",
      "나무를 10번 찍었습니다\n",
      "나무 넘어갑니다\n"
     ]
    }
   ],
   "source": [
    "tree = 10\n",
    "while tree:\n",
    "    tree -= 1\n",
    "    print(f'나무를 {10-tree}번 찍었습니다')\n",
    "print('나무 넘어갑니다')"
   ]
  },
  {
   "cell_type": "code",
   "execution_count": 39,
   "id": "10e6044c-39dd-4040-b815-39bdf7f1e7d3",
   "metadata": {},
   "outputs": [
    {
     "name": "stdout",
     "output_type": "stream",
     "text": [
      "선택해 주세요\n",
      "\n",
      " 1. add\n",
      " 2. del\n",
      " 3.list\n",
      " 4.quit\n",
      "\n"
     ]
    },
    {
     "name": "stdin",
     "output_type": "stream",
     "text": [
      " 1\n"
     ]
    },
    {
     "name": "stdout",
     "output_type": "stream",
     "text": [
      "\n",
      " 1. add\n",
      " 2. del\n",
      " 3.list\n",
      " 4.quit\n",
      "\n"
     ]
    },
    {
     "name": "stdin",
     "output_type": "stream",
     "text": [
      " 2\n"
     ]
    },
    {
     "name": "stdout",
     "output_type": "stream",
     "text": [
      "\n",
      " 1. add\n",
      " 2. del\n",
      " 3.list\n",
      " 4.quit\n",
      "\n"
     ]
    },
    {
     "name": "stdin",
     "output_type": "stream",
     "text": [
      " 3\n"
     ]
    },
    {
     "name": "stdout",
     "output_type": "stream",
     "text": [
      "\n",
      " 1. add\n",
      " 2. del\n",
      " 3.list\n",
      " 4.quit\n",
      "\n"
     ]
    },
    {
     "name": "stdin",
     "output_type": "stream",
     "text": [
      " 4\n"
     ]
    },
    {
     "name": "stdout",
     "output_type": "stream",
     "text": [
      "시스템 종료\n"
     ]
    }
   ],
   "source": [
    "print('선택해 주세요')\n",
    "prompt = '''\n",
    " 1. add\n",
    " 2. del\n",
    " 3.list\n",
    " 4.quit\n",
    "'''\n",
    "number = 0\n",
    "while number != 4:\n",
    "    print(prompt)\n",
    "    number = int(input())\n",
    "print('시스템 종료')"
   ]
  },
  {
   "cell_type": "code",
   "execution_count": 2,
   "id": "b98027b5-3dc5-4cf5-8136-f88ba75f4b21",
   "metadata": {},
   "outputs": [
    {
     "name": "stdout",
     "output_type": "stream",
     "text": [
      "166833\n"
     ]
    }
   ],
   "source": [
    "result = 0\n",
    "i = 1\n",
    "while i <= 1000:\n",
    "    if i%3 ==0 :\n",
    "        result += i\n",
    "    i += 1\n",
    "print(result)\n",
    "    "
   ]
  },
  {
   "cell_type": "code",
   "execution_count": null,
   "id": "06837dfe-6aed-4d62-8f54-b32bea689c6e",
   "metadata": {},
   "outputs": [],
   "source": []
  },
  {
   "cell_type": "code",
   "execution_count": null,
   "id": "04cef48a-bb6e-4492-b5a1-2a33ca24d53a",
   "metadata": {},
   "outputs": [],
   "source": []
  },
  {
   "cell_type": "code",
   "execution_count": null,
   "id": "2cee7405-d6e9-4763-a01b-48ed7c9a4da9",
   "metadata": {},
   "outputs": [],
   "source": []
  },
  {
   "cell_type": "code",
   "execution_count": null,
   "id": "bac22130-1647-4c2b-9e05-32923cf401ee",
   "metadata": {},
   "outputs": [],
   "source": []
  },
  {
   "cell_type": "code",
   "execution_count": null,
   "id": "3f19e169-3516-4ddb-a7b0-206be8934bc7",
   "metadata": {},
   "outputs": [],
   "source": []
  },
  {
   "cell_type": "code",
   "execution_count": null,
   "id": "5db6a9b3-3080-4e80-84ef-f6d57eac5bb5",
   "metadata": {},
   "outputs": [],
   "source": []
  },
  {
   "cell_type": "code",
   "execution_count": null,
   "id": "cf131002-7824-4010-a680-eebe96cabc08",
   "metadata": {},
   "outputs": [],
   "source": []
  },
  {
   "cell_type": "code",
   "execution_count": null,
   "id": "608b2f40-008f-4b10-b944-0df5cb1f1dea",
   "metadata": {},
   "outputs": [],
   "source": []
  },
  {
   "cell_type": "code",
   "execution_count": null,
   "id": "427e58ae-1982-4207-ac74-7f09a926b2a8",
   "metadata": {},
   "outputs": [],
   "source": []
  }
 ],
 "metadata": {
  "kernelspec": {
   "display_name": "Python 3 (ipykernel)",
   "language": "python",
   "name": "python3"
  },
  "language_info": {
   "codemirror_mode": {
    "name": "ipython",
    "version": 3
   },
   "file_extension": ".py",
   "mimetype": "text/x-python",
   "name": "python",
   "nbconvert_exporter": "python",
   "pygments_lexer": "ipython3",
   "version": "3.13.1"
  }
 },
 "nbformat": 4,
 "nbformat_minor": 5
}
