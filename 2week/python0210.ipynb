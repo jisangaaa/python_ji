{
 "cells": [
  {
   "cell_type": "markdown",
   "id": "b57b0bc1-551d-42bf-8b77-3c2c092daf90",
   "metadata": {},
   "source": [
    "# 함수"
   ]
  },
  {
   "cell_type": "code",
   "execution_count": 5,
   "id": "192e4f9b-630a-4339-ba79-da5832a3cc34",
   "metadata": {},
   "outputs": [],
   "source": [
    "def 덧셈(a,b) :\n",
    "    return a + b"
   ]
  },
  {
   "cell_type": "code",
   "execution_count": 8,
   "id": "74cda91e-fb17-4d92-ad70-542be4dd0b7a",
   "metadata": {},
   "outputs": [
    {
     "name": "stdout",
     "output_type": "stream",
     "text": [
      "7\n"
     ]
    }
   ],
   "source": [
    "c = 덧셈(3,4)\n",
    "print(c)"
   ]
  },
  {
   "cell_type": "code",
   "execution_count": 35,
   "id": "7fcf9303-7d15-42bf-be15-bae69db45be1",
   "metadata": {},
   "outputs": [
    {
     "name": "stdout",
     "output_type": "stream",
     "text": [
      "[7, 18, 28, 29, 31, 32] 6\n"
     ]
    }
   ],
   "source": [
    "import random\n",
    "def 로또() :\n",
    "    \n",
    "    box = []\n",
    "    while len(box) < 6:\n",
    "        ran = random.randint(1,46)\n",
    "        if not ran in box:\n",
    "            box.append(ran)\n",
    "    box.sort()\n",
    "    print(box,len(box))\n",
    "로또()"
   ]
  },
  {
   "cell_type": "code",
   "execution_count": 24,
   "id": "b96d3d32-21a4-49bf-a4ae-9a560279b20b",
   "metadata": {},
   "outputs": [],
   "source": [
    "# 참고용3"
   ]
  },
  {
   "cell_type": "code",
   "execution_count": 25,
   "id": "159ed52b-6412-41a3-9e94-add95a417edf",
   "metadata": {},
   "outputs": [
    {
     "name": "stdout",
     "output_type": "stream",
     "text": [
      "[1, 6, 27, 32, 41, 45] 6\n",
      "[7, 18, 19, 24, 28, 29] 6\n",
      "[19, 21, 30, 35, 36, 46] 6\n",
      "[21, 27, 33, 40, 42, 45] 6\n",
      "[3, 20, 23, 25, 30, 44] 6\n"
     ]
    }
   ],
   "source": [
    "for n in range(5) :\n",
    "    로또()"
   ]
  },
  {
   "cell_type": "code",
   "execution_count": 44,
   "id": "1bfc5c88-d71e-4631-98f0-197665823010",
   "metadata": {},
   "outputs": [
    {
     "name": "stdout",
     "output_type": "stream",
     "text": [
      "====2단====\n",
      "2 * 1 = 2\n",
      "2 * 2 = 4\n",
      "2 * 3 = 6\n",
      "2 * 4 = 8\n",
      "2 * 5 = 10\n",
      "2 * 6 = 12\n",
      "2 * 7 = 14\n",
      "2 * 8 = 16\n",
      "2 * 9 = 18\n",
      "====3단====\n",
      "3 * 1 = 3\n",
      "3 * 2 = 6\n",
      "3 * 3 = 9\n",
      "3 * 4 = 12\n",
      "3 * 5 = 15\n",
      "3 * 6 = 18\n",
      "3 * 7 = 21\n",
      "3 * 8 = 24\n",
      "3 * 9 = 27\n",
      "====4단====\n",
      "4 * 1 = 4\n",
      "4 * 2 = 8\n",
      "4 * 3 = 12\n",
      "4 * 4 = 16\n",
      "4 * 5 = 20\n",
      "4 * 6 = 24\n",
      "4 * 7 = 28\n",
      "4 * 8 = 32\n",
      "4 * 9 = 36\n",
      "====5단====\n",
      "5 * 1 = 5\n",
      "5 * 2 = 10\n",
      "5 * 3 = 15\n",
      "5 * 4 = 20\n",
      "5 * 5 = 25\n",
      "5 * 6 = 30\n",
      "5 * 7 = 35\n",
      "5 * 8 = 40\n",
      "5 * 9 = 45\n",
      "====6단====\n",
      "6 * 1 = 6\n",
      "6 * 2 = 12\n",
      "6 * 3 = 18\n",
      "6 * 4 = 24\n",
      "6 * 5 = 30\n",
      "6 * 6 = 36\n",
      "6 * 7 = 42\n",
      "6 * 8 = 48\n",
      "6 * 9 = 54\n",
      "====7단====\n",
      "7 * 1 = 7\n",
      "7 * 2 = 14\n",
      "7 * 3 = 21\n",
      "7 * 4 = 28\n",
      "7 * 5 = 35\n",
      "7 * 6 = 42\n",
      "7 * 7 = 49\n",
      "7 * 8 = 56\n",
      "7 * 9 = 63\n",
      "====8단====\n",
      "8 * 1 = 8\n",
      "8 * 2 = 16\n",
      "8 * 3 = 24\n",
      "8 * 4 = 32\n",
      "8 * 5 = 40\n",
      "8 * 6 = 48\n",
      "8 * 7 = 56\n",
      "8 * 8 = 64\n",
      "8 * 9 = 72\n",
      "====9단====\n",
      "9 * 1 = 9\n",
      "9 * 2 = 18\n",
      "9 * 3 = 27\n",
      "9 * 4 = 36\n",
      "9 * 5 = 45\n",
      "9 * 6 = 54\n",
      "9 * 7 = 63\n",
      "9 * 8 = 72\n",
      "9 * 9 = 81\n"
     ]
    }
   ],
   "source": [
    "def gugu(end = 9):\n",
    "    \n",
    "    for i in range(2,10) :\n",
    "        print(f'{str(i)+'단' :=^10}')\n",
    "        for j in range(1,10):\n",
    "            print(f'{i} * {j} = {i*j}')\n",
    "    \n",
    "gugu()"
   ]
  },
  {
   "cell_type": "code",
   "execution_count": 52,
   "id": "a521fe80-f80c-42e1-bf0f-a5e3c2ee6472",
   "metadata": {},
   "outputs": [
    {
     "name": "stdout",
     "output_type": "stream",
     "text": [
      "====2단====\n",
      "2 * 1 = 2\n",
      "2 * 2 = 4\n",
      "2 * 3 = 6\n",
      "2 * 4 = 8\n",
      "2 * 5 = 10\n",
      "2 * 6 = 12\n",
      "2 * 7 = 14\n",
      "2 * 8 = 16\n",
      "2 * 9 = 18\n",
      "\n"
     ]
    }
   ],
   "source": [
    "def gugu(end = 9):\n",
    "    data = ''\n",
    "    for i in range(2,end + 1) :\n",
    "        print(f'{str(i)+'단' :=^10}')\n",
    "        for j in range(1,10):\n",
    "            data += (f'{i} * {j} = {i*j}') + '\\n'\n",
    "        return data\n",
    "print(gugu(2))"
   ]
  },
  {
   "cell_type": "markdown",
   "id": "64277b86-3a7c-4a5f-aecd-61ccb8892473",
   "metadata": {},
   "source": [
    "# 입력값과 리턴값에 따른 함수의 형태"
   ]
  },
  {
   "cell_type": "markdown",
   "id": "e506924f-7b9d-4472-ba65-6d2bdef13c24",
   "metadata": {},
   "source": [
    "## 일반적인 함수"
   ]
  },
  {
   "cell_type": "code",
   "execution_count": 55,
   "id": "e0c391c4-9594-46e2-af05-ad9d2793919d",
   "metadata": {},
   "outputs": [],
   "source": [
    "def add(a,b) :\n",
    "    result = a + b\n",
    "    return result"
   ]
  },
  {
   "cell_type": "code",
   "execution_count": 58,
   "id": "0b334fbd-32f7-4672-87f5-c19ad2f2234d",
   "metadata": {},
   "outputs": [
    {
     "name": "stdout",
     "output_type": "stream",
     "text": [
      "87\n"
     ]
    }
   ],
   "source": [
    "a = add(77,10)\n",
    "print(a)"
   ]
  },
  {
   "cell_type": "markdown",
   "id": "d40d376c-92a1-47b0-800d-2a71d1ac8cce",
   "metadata": {},
   "source": [
    "## 입력값이 없는 함수"
   ]
  },
  {
   "cell_type": "code",
   "execution_count": 59,
   "id": "42fb6395-cea5-4c2b-886a-63b787c1a018",
   "metadata": {},
   "outputs": [],
   "source": [
    "def say() : \n",
    "    return'안녕'"
   ]
  },
  {
   "cell_type": "code",
   "execution_count": 60,
   "id": "34009e4e-3206-493c-a7e1-eb77312e49f8",
   "metadata": {},
   "outputs": [
    {
     "name": "stdout",
     "output_type": "stream",
     "text": [
      "안녕\n"
     ]
    }
   ],
   "source": [
    "a = say()\n",
    "print(a)"
   ]
  },
  {
   "cell_type": "markdown",
   "id": "d7773316-209d-4a7e-964d-dba25e820c20",
   "metadata": {},
   "source": [
    "## 리턴값이 없는 함수"
   ]
  },
  {
   "cell_type": "code",
   "execution_count": 61,
   "id": "bf03a9e7-b593-451e-b1b8-879e3573963f",
   "metadata": {},
   "outputs": [],
   "source": [
    "def add(a,b) :\n",
    "    print('%d, %d의 합은 %d 입니다.' %(a,b,a+b))"
   ]
  },
  {
   "cell_type": "code",
   "execution_count": 62,
   "id": "d02ed869-c545-4726-87a0-5620a1c8ba16",
   "metadata": {},
   "outputs": [
    {
     "name": "stdout",
     "output_type": "stream",
     "text": [
      "11, 33의 합은 44 입니다.\n"
     ]
    }
   ],
   "source": [
    "add(11,33)"
   ]
  },
  {
   "cell_type": "markdown",
   "id": "5557c633-7d67-4416-aa0b-36af904d5a13",
   "metadata": {},
   "source": [
    "## 입력값과 리턴값이 없는 함수"
   ]
  },
  {
   "cell_type": "code",
   "execution_count": 63,
   "id": "7b9ec229-a9bf-4bd0-bbf3-1aba3fb7eac6",
   "metadata": {},
   "outputs": [],
   "source": [
    "def say():\n",
    "    print('안녕!')\n",
    "    print('전 입력값과 리턴값이 없어요')\n",
    "    print('빠이~')"
   ]
  },
  {
   "cell_type": "code",
   "execution_count": 64,
   "id": "1a2c85ee-d314-4d09-844f-888bd23b52b5",
   "metadata": {},
   "outputs": [
    {
     "name": "stdout",
     "output_type": "stream",
     "text": [
      "안녕!\n",
      "전 입력값과 리턴값이 없어요\n",
      "빠이~\n"
     ]
    }
   ],
   "source": [
    "say()"
   ]
  },
  {
   "cell_type": "code",
   "execution_count": 74,
   "id": "21e7d21a-e9fd-46b0-b806-6deb2c17a276",
   "metadata": {},
   "outputs": [],
   "source": [
    "# test\n",
    "\n",
    "import time as t\n",
    "def disp() :\n",
    "    print('안녕\\r',end='')\n",
    "    t.sleep(2)\n",
    "    print('나는 김지상입니다\\r',end='')\n",
    "    t.sleep(2)\n",
    "    print('바이바이              ',end='')\n",
    "    t.sleep(2)"
   ]
  },
  {
   "cell_type": "code",
   "execution_count": 75,
   "id": "4c4c6bab-94c2-4717-9ed0-e1b5c253b3c1",
   "metadata": {},
   "outputs": [
    {
     "name": "stdout",
     "output_type": "stream",
     "text": [
      "바이바이              "
     ]
    }
   ],
   "source": [
    "disp()    "
   ]
  },
  {
   "cell_type": "code",
   "execution_count": 87,
   "id": "74f4479d-5006-4d22-906e-a4d3afe36583",
   "metadata": {},
   "outputs": [],
   "source": [
    "#!pip install matplotlib"
   ]
  },
  {
   "cell_type": "code",
   "execution_count": 77,
   "id": "a99dd889-62d1-45fb-9f00-1e764729ac85",
   "metadata": {},
   "outputs": [],
   "source": [
    "def sub(a,b):\n",
    "    return a-b"
   ]
  },
  {
   "cell_type": "code",
   "execution_count": 78,
   "id": "06c9e387-86e5-4674-8ae7-7cbba716ce63",
   "metadata": {},
   "outputs": [
    {
     "name": "stdout",
     "output_type": "stream",
     "text": [
      "4\n"
     ]
    }
   ],
   "source": [
    "result = sub(b=3,a=7)\n",
    "print(result)"
   ]
  },
  {
   "cell_type": "code",
   "execution_count": 122,
   "id": "7b33b06b-38a4-49d8-a2b0-3839f62440d0",
   "metadata": {},
   "outputs": [],
   "source": [
    "# 테스트 : 함수 random 주사위\n",
    "import random as r\n",
    "import matplotlib.pyplot as plt\n",
    "def dice(target = 250000):\n",
    "    box = [] # 초기화\n",
    "    num = 0\n",
    "    results = {}\n",
    "    while num < target:\n",
    "        num = num + 1\n",
    "        ran = r.randint(1,6)\n",
    "        box.append(ran)\n",
    "    if target == len(box):\n",
    "        print(f\"{target}회 정상 진행되었습니다.\")\n",
    "    else:\n",
    "        print(f\"검증 결과 횟수 이상이 있습니다. 이유:({target}회 목표로 동작하였으나, {len(box)}으로 측정되었습니다.)\")\n",
    "    for n in range(1,7):\n",
    "        results[n] = box.count(n)\n",
    "        print(f\"{n}번이 {box.count(n)}번({(box.count(n)/len(box))*100:.2f}%) 등장하였습니다.\")\n",
    "    print(results)\n",
    "    color = ['green','blue']\n",
    "    plt.bar(results.keys(),results.values(),color=color)\n",
    "    plt.show()"
   ]
  },
  {
   "cell_type": "code",
   "execution_count": 123,
   "id": "22480f25-a46c-492b-9f9f-14915085bb47",
   "metadata": {},
   "outputs": [
    {
     "name": "stdout",
     "output_type": "stream",
     "text": [
      "250000회 정상 진행되었습니다.\n",
      "1번이 41977번(16.79%) 등장하였습니다.\n",
      "2번이 41395번(16.56%) 등장하였습니다.\n",
      "3번이 41588번(16.64%) 등장하였습니다.\n",
      "4번이 41782번(16.71%) 등장하였습니다.\n",
      "5번이 41709번(16.68%) 등장하였습니다.\n",
      "6번이 41549번(16.62%) 등장하였습니다.\n",
      "{1: 41977, 2: 41395, 3: 41588, 4: 41782, 5: 41709, 6: 41549}\n"
     ]
    },
    {
     "data": {
      "image/png": "[encoded data removed]",
      "text/plain": [
       "<Figure size 640x480 with 1 Axes>"
      ]
     },
     "metadata": {},
     "output_type": "display_data"
    }
   ],
   "source": [
    "dice()"
   ]
  },
  {
   "cell_type": "code",
   "execution_count": 2,
   "id": "3b64613b-b13b-4322-a16f-7f96d32274ee",
   "metadata": {},
   "outputs": [],
   "source": [
    "def add_many(args):\n",
    "    result = 0\n",
    "    for i in args :\n",
    "        result = result + i\n",
    "    return result\n",
    "        "
   ]
  },
  {
   "cell_type": "code",
   "execution_count": 3,
   "id": "84ff66a6-de46-457d-bdf1-a7d6d0ff5330",
   "metadata": {},
   "outputs": [
    {
     "name": "stdout",
     "output_type": "stream",
     "text": [
      "23\n"
     ]
    }
   ],
   "source": [
    "res = print(add_many((1,4,6,5,7)))"
   ]
  },
  {
   "cell_type": "code",
   "execution_count": 9,
   "id": "72322c7e-3a9c-4eb2-988f-1be9fc3f0d15",
   "metadata": {},
   "outputs": [],
   "source": [
    "def add_mul(choice, *args): \n",
    "    if choice == \"add\":   # 매개변수 choice에 \"add\"를 입력받았을 때\n",
    "        result = 0 \n",
    "        for i in args: \n",
    "            result = result + i \n",
    "    elif choice == \"sub\":   # 매개변수 choice에 \"mul\"을 입력받았을 때\n",
    "        result = 0 \n",
    "        for i in args: \n",
    "            result = result - i\n",
    "    elif choice == \"mul\":   # 매개변수 choice에 \"mul\"을 입력받았을 때\n",
    "        result = 1 \n",
    "        for i in args: \n",
    "            result = result * i\n",
    "    elif choice == \"div\":   # 매개변수 choice에 \"mul\"을 입력받았을 때\n",
    "        result = 1 \n",
    "        for i in args: \n",
    "            result = result / i\n",
    "    else:\n",
    "        result = choice\n",
    "        print(\"정확하게 입력하세요\")\n",
    "    return result "
   ]
  },
  {
   "cell_type": "code",
   "execution_count": 10,
   "id": "de879bbc-7c10-44e1-bd52-429f0d03232a",
   "metadata": {},
   "outputs": [
    {
     "data": {
      "text/plain": [
       "0.3333333333333333"
      ]
     },
     "execution_count": 10,
     "metadata": {},
     "output_type": "execute_result"
    }
   ],
   "source": [
    "add_mul('div',3,1)"
   ]
  },
  {
   "cell_type": "code",
   "execution_count": 8,
   "id": "da7fcdae-63c0-418c-b755-fed3683332bf",
   "metadata": {},
   "outputs": [],
   "source": [
    "def add_mul(choice, *args) :\n",
    "    if choice ++ 'add':\n",
    "        result = 0\n",
    "        for i in args :\n",
    "            result = result + i\n",
    "    elif choice =='mul' :\n",
    "        result = 1\n",
    "        for i in args:\n",
    "            result = 1\n",
    "            for i in args:\n",
    "                result = result * i\n",
    "    return result"
   ]
  },
  {
   "cell_type": "code",
   "execution_count": 11,
   "id": "5bd0bff3-74f5-4174-9a6a-2ed7cc2a231b",
   "metadata": {},
   "outputs": [],
   "source": [
    "def print_kwargs(**kwargs):\n",
    "    print(kwargs)"
   ]
  },
  {
   "cell_type": "code",
   "execution_count": 13,
   "id": "c16a0699-45b7-4773-bd1c-f0356eebb2ec",
   "metadata": {},
   "outputs": [
    {
     "name": "stdout",
     "output_type": "stream",
     "text": [
      "{'name': '김지상', 'age': 27, 'address': '연산동'}\n"
     ]
    }
   ],
   "source": [
    "print_kwargs(name='김지상',age=27,address='연산동')"
   ]
  },
  {
   "cell_type": "code",
   "execution_count": 16,
   "id": "9ce1c386-1c8a-4686-a80d-81008b1734a6",
   "metadata": {},
   "outputs": [],
   "source": [
    "def test():\n",
    "    print('저는좋죠')\n",
    "    return\n",
    "    print('집가고싶다')"
   ]
  },
  {
   "cell_type": "code",
   "execution_count": 17,
   "id": "687a3338-93b7-47fb-995c-461557df2cca",
   "metadata": {},
   "outputs": [
    {
     "name": "stdout",
     "output_type": "stream",
     "text": [
      "저는좋죠\n"
     ]
    }
   ],
   "source": [
    "test()"
   ]
  },
  {
   "cell_type": "code",
   "execution_count": 21,
   "id": "902c407d-4eca-4a9a-8464-326854ced4dd",
   "metadata": {},
   "outputs": [
    {
     "name": "stdout",
     "output_type": "stream",
     "text": [
      "35 286\n"
     ]
    }
   ],
   "source": [
    "def test2(a,b) :\n",
    "    return a+b , a*b\n",
    "add_result, mul_result = test2(13,22)\n",
    "print(add_result, mul_result)"
   ]
  },
  {
   "cell_type": "code",
   "execution_count": 29,
   "id": "0f1c80a0-59e4-4d28-8285-b83b322d31e4",
   "metadata": {},
   "outputs": [],
   "source": [
    "def say_nick(nick) :\n",
    "    if nick == '천재' :\n",
    "        return\n",
    "    print('나의 별명은 %s 입니다.' %nick)"
   ]
  },
  {
   "cell_type": "code",
   "execution_count": 30,
   "id": "50b16050-bb65-4fc8-83e5-ee21d724923f",
   "metadata": {},
   "outputs": [],
   "source": [
    "say_nick('천재')"
   ]
  },
  {
   "cell_type": "code",
   "execution_count": null,
   "id": "cbaf028f-07b7-460f-8660-72f932ba6883",
   "metadata": {},
   "outputs": [],
   "source": []
  }
 ],
 "metadata": {
  "kernelspec": {
   "display_name": "Python 3 (ipykernel)",
   "language": "python",
   "name": "python3"
  },
  "language_info": {
   "codemirror_mode": {
    "name": "ipython",
    "version": 3
   },
   "file_extension": ".py",
   "mimetype": "text/x-python",
   "name": "python",
   "nbconvert_exporter": "python",
   "pygments_lexer": "ipython3",
   "version": "3.13.1"
  }
 },
 "nbformat": 4,
 "nbformat_minor": 5
}
