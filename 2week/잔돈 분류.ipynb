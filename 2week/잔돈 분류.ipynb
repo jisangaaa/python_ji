{
 "cells": [
  {
   "cell_type": "code",
   "execution_count": 1,
   "id": "3b5433fc-c64f-46fe-b750-6aa7e396c7b9",
   "metadata": {},
   "outputs": [],
   "source": [
    "# 잔돈 분류\n",
    "# 5000원 투입\n",
    "# 1330원 구매\n",
    "# 3670원 잔돈\n",
    "# 1000원 세장 오백 한개 백원 한개 오십 한개 십원 두개"
   ]
  },
  {
   "cell_type": "code",
   "execution_count": 19,
   "id": "59ae7a2c-21e9-4d98-92bd-9d3a76f7eb87",
   "metadata": {},
   "outputs": [
    {
     "name": "stdin",
     "output_type": "stream",
     "text": [
      "돈을 넣어주세요 8046\n",
      "물건의 가격은 얼마입니까? 4564\n"
     ]
    },
    {
     "name": "stdout",
     "output_type": "stream",
     "text": [
      "잔돈은 3482원 입니다\n"
     ]
    }
   ],
   "source": [
    "test1 = int(input('돈을 넣어주세요'))\n",
    "test2 = int(input('물건의 가격은 얼마입니까?'))\n",
    "money = test1\n",
    "thing = test2\n",
    "ex = (money - thing)\n",
    "print(f'잔돈은 {ex}원 입니다')\n",
    "\n",
    "oman = ex//50000\n",
    "ilman = ex//10000\n",
    "och = ex//5000\n",
    "ilch = ex//1000\n",
    "oba = ex//500\n",
    "ilba = ex//100\n",
    "osip = ex//50\n",
    "ilsip = ex//10\n",
    "\n",
    "a=(ex-oman*50000)\n",
    "b=(a-ilman*10000)\n",
    "c=(b-och*5000)\n",
    "d=(c-ilch*1000)\n",
    "e=(d-oba*500)\n",
    "f=(e-ilba-100)\n",
    "g=(f-osip-50)\n",
    "h=(g-ilsip-10)"
   ]
  },
  {
   "cell_type": "code",
   "execution_count": null,
   "id": "38ca18bd-9ec7-422e-8f52-5141cc9c0a29",
   "metadata": {},
   "outputs": [],
   "source": [
    "# 배열 요소가 3개일때 max min\n",
    "# 오름차순 정렬\n",
    "# 난이도 저 세자리 : [33,11,22]\n",
    "# 난이도 중 네자리 : [33,11,22,44]\n"
   ]
  },
  {
   "cell_type": "code",
   "execution_count": 6,
   "id": "d2b4dbae-bf41-4c5b-ba63-565bc52937ed",
   "metadata": {},
   "outputs": [
    {
     "name": "stdout",
     "output_type": "stream",
     "text": [
      "[11, 22, 33] 33\n"
     ]
    }
   ],
   "source": [
    "a = [33,11,22]\n",
    "a.sort()\n",
    "print(a,max(a))\n"
   ]
  },
  {
   "cell_type": "code",
   "execution_count": 5,
   "id": "ce700634-655a-4042-9cf6-f8f987fdfeeb",
   "metadata": {},
   "outputs": [
    {
     "data": {
      "text/plain": [
       "33"
      ]
     },
     "execution_count": 5,
     "metadata": {},
     "output_type": "execute_result"
    }
   ],
   "source": [
    "a = [33,11,22]\n",
    "max(a)"
   ]
  },
  {
   "cell_type": "code",
   "execution_count": 18,
   "id": "7c830c55-2e90-42c2-b373-ff461abbe648",
   "metadata": {},
   "outputs": [
    {
     "name": "stdout",
     "output_type": "stream",
     "text": [
      "44\n"
     ]
    }
   ],
   "source": [
    "def bs (li = [33,11,22,44]) :\n",
    "    sw = 0\n",
    "    for x in range(len(li)) :\n",
    "        if sw < li [x] :\n",
    "            sw = li[x]\n",
    "    return sw\n",
    "print(bs())"
   ]
  },
  {
   "cell_type": "code",
   "execution_count": null,
   "id": "2edd2f9f-eaa5-40cf-aa00-1137c15e1b61",
   "metadata": {},
   "outputs": [],
   "source": [
    "#r\\가위바위보 프로그램\n",
    "\n",
    "#한 사람이 가위바위보 중 하나 내면 상대는 랜덤으로 낸다\n",
    "# 다음과 같은 양식으로 하되 승률 기록하세요\n",
    "\n",
    "#=================\n",
    "# 컴퓨터 : 가위\n",
    "# 당신 : 보\n",
    "# 당신이 졌습니다.\n",
    "#---------------------\n",
    "#컴퓨터승률 33%\n",
    "#당신승률 66%\n",
    "#================"
   ]
  }
 ],
 "metadata": {
  "kernelspec": {
   "display_name": "Python 3 (ipykernel)",
   "language": "python",
   "name": "python3"
  },
  "language_info": {
   "codemirror_mode": {
    "name": "ipython",
    "version": 3
   },
   "file_extension": ".py",
   "mimetype": "text/x-python",
   "name": "python",
   "nbconvert_exporter": "python",
   "pygments_lexer": "ipython3",
   "version": "3.13.1"
  }
 },
 "nbformat": 4,
 "nbformat_minor": 5
}
