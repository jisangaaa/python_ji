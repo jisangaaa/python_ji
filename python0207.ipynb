{
 "cells": [
  {
   "cell_type": "code",
   "execution_count": 1,
   "id": "10fc0b42-1938-4e52-8f3f-b32910c5e6b4",
   "metadata": {},
   "outputs": [
    {
     "name": "stdout",
     "output_type": "stream",
     "text": [
      "돈을 받았으니 커피를 줍니다\n",
      "판매한 커피 갯수는 1개 입니다\n",
      "돈을 받았으니 커피를 줍니다\n",
      "판매한 커피 갯수는 2개 입니다\n",
      "돈을 받았으니 커피를 줍니다\n",
      "판매한 커피 갯수는 3개 입니다\n",
      "돈을 받았으니 커피를 줍니다\n",
      "판매한 커피 갯수는 4개 입니다\n",
      "돈을 받았으니 커피를 줍니다\n",
      "판매한 커피 갯수는 5개 입니다\n",
      "돈을 받았으니 커피를 줍니다\n",
      "판매한 커피 갯수는 6개 입니다\n",
      "돈을 받았으니 커피를 줍니다\n",
      "판매한 커피 갯수는 7개 입니다\n",
      "돈을 받았으니 커피를 줍니다\n",
      "판매한 커피 갯수는 8개 입니다\n",
      "돈을 받았으니 커피를 줍니다\n",
      "판매한 커피 갯수는 9개 입니다\n",
      "돈을 받았으니 커피를 줍니다\n",
      "판매한 커피 갯수는 10개 입니다\n",
      "커피 매진. 판매 중지\n"
     ]
    }
   ],
   "source": [
    "coffee = 0\n",
    "money = 300\n",
    "while money:\n",
    "    (print('돈을 받았으니 커피를 줍니다'))\n",
    "    coffee = coffee +1\n",
    "    print('판매한 커피 갯수는 %d개 입니다'%coffee)\n",
    "    if coffee == 10 :\n",
    "        print('커피 매진. 판매 중지')\n",
    "        break"
   ]
  },
  {
   "cell_type": "code",
   "execution_count": null,
   "id": "62317205-e43b-423c-be9f-a8730554abad",
   "metadata": {},
   "outputs": [],
   "source": []
  }
 ],
 "metadata": {
  "kernelspec": {
   "display_name": "Python 3 (ipykernel)",
   "language": "python",
   "name": "python3"
  },
  "language_info": {
   "codemirror_mode": {
    "name": "ipython",
    "version": 3
   },
   "file_extension": ".py",
   "mimetype": "text/x-python",
   "name": "python",
   "nbconvert_exporter": "python",
   "pygments_lexer": "ipython3",
   "version": "3.13.1"
  }
 },
 "nbformat": 4,
 "nbformat_minor": 5
}
