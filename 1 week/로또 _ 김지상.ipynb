{
 "cells": [
  {
   "cell_type": "code",
   "execution_count": null,
   "id": "2139131e-9ed7-4e3f-9f63-d792c03f8f42",
   "metadata": {},
   "outputs": [],
   "source": [
    "#로또 생성기\n",
    "\n",
    "#6가지 숫자 선택되어야함\n",
    "#중복되면 안됨\n",
    "#오름차순으로 정렬\n",
    "\n",
    "#10만회 돌리고 각 번호가 나온것을 카운팅하기\n",
    "#각번호를 퍼센트 내기\n",
    "#제일 높게 나온 확률 순서대로 번호 3개 추천해주기"
   ]
  },
  {
   "cell_type": "code",
   "execution_count": null,
   "id": "2a860672-88d3-4485-817d-aaee2c372ecd",
   "metadata": {},
   "outputs": [],
   "source": []
  },
  {
   "cell_type": "code",
   "execution_count": null,
   "id": "d6e1096f-ae5f-454a-872d-1953400a451e",
   "metadata": {},
   "outputs": [],
   "source": []
  }
 ],
 "metadata": {
  "kernelspec": {
   "display_name": "Python 3 (ipykernel)",
   "language": "python",
   "name": "python3"
  },
  "language_info": {
   "codemirror_mode": {
    "name": "ipython",
    "version": 3
   },
   "file_extension": ".py",
   "mimetype": "text/x-python",
   "name": "python",
   "nbconvert_exporter": "python",
   "pygments_lexer": "ipython3",
   "version": "3.13.1"
  }
 },
 "nbformat": 4,
 "nbformat_minor": 5
}
