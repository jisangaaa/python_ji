{
 "cells": [
  {
   "cell_type": "code",
   "execution_count": 54,
   "id": "435cef28-3bee-48a4-b4e6-fd72743af8d2",
   "metadata": {},
   "outputs": [
    {
     "name": "stdout",
     "output_type": "stream",
     "text": [
      " 0과 1사이의 랜덤 소수 0.2626550578487036\n",
      " 1과 100사이의 랜덤 실수 75\n",
      "선택된 메뉴는 자가 도시락를 추천드립니다\n",
      "[2, 8, 3, 6, 7, 5, 1, 4, 9]\n"
     ]
    }
   ],
   "source": [
    "# 실습 random 모듈\n",
    "import random \n",
    "menu = ['구내식당','후문 편의점','자가 도시락','굶기','과자','커피']\n",
    "\n",
    "num =random. random()\n",
    "print(f' 0과 1사이의 랜덤 소수 {num}')\n",
    "num2 = random.randint(1,100)\n",
    "print(f' 1과 100사이의 랜덤 실수 {num2}')\n",
    "lunch = random.choice(menu)\n",
    "print(f'선택된 메뉴는 {lunch}를 추천드립니다')\n",
    "deck = [1,2,3,4,5,6,7,8,9]\n",
    "random.shuffle(deck)\n",
    "print(deck)"
   ]
  },
  {
   "cell_type": "markdown",
   "id": "91a363bc-b449-4d19-9348-1a023f2bb8a5",
   "metadata": {},
   "source": [
    "# 집합 자료형"
   ]
  },
  {
   "cell_type": "code",
   "execution_count": 9,
   "id": "2ad733dc-8c8a-4559-9ba8-4865bc51b912",
   "metadata": {},
   "outputs": [
    {
     "name": "stdout",
     "output_type": "stream",
     "text": [
      "{33, 11, 22} <class 'set'>\n"
     ]
    }
   ],
   "source": [
    "s1 = set([11,22,33])\n",
    "print(s1,type(s1))"
   ]
  },
  {
   "cell_type": "code",
   "execution_count": 10,
   "id": "642f6246-efdd-48ec-a53a-a398a280f17c",
   "metadata": {},
   "outputs": [
    {
     "name": "stdout",
     "output_type": "stream",
     "text": [
      "{'O', 'H', 'L', 'E'} <class 'set'>\n"
     ]
    }
   ],
   "source": [
    "s2 = set('HELLO')         # 중복제외하고 추출, 하나만 추출, 순서없음 무작위, 인덱싱 필요X\n",
    "print(s2,type(s2))"
   ]
  },
  {
   "cell_type": "code",
   "execution_count": 14,
   "id": "8757b4b3-8872-43ef-a58c-a5eb5496e517",
   "metadata": {},
   "outputs": [
    {
     "name": "stdout",
     "output_type": "stream",
     "text": [
      "[33, 11, 22] <class 'list'>\n",
      "(33, 11, 22) <class 'tuple'>\n"
     ]
    }
   ],
   "source": [
    "# 집합 자료형의 특징\n",
    "\n",
    "s1 = set([11,22,33,11,22])\n",
    "l1 = list(s1)\n",
    "print(l1,type(l1))\n",
    "\n",
    "t1 = tuple(s1)\n",
    "print(t1,type(t1))"
   ]
  },
  {
   "cell_type": "code",
   "execution_count": 5,
   "id": "b21a4fdb-eef8-4293-8760-db2a7443463a",
   "metadata": {},
   "outputs": [
    {
     "name": "stdout",
     "output_type": "stream",
     "text": [
      "{4, 5, 6}\n",
      "{4, 5, 6}\n"
     ]
    }
   ],
   "source": [
    "# 교집합 합집합 차집합 구하기\n",
    "\n",
    "# 교집합 and\n",
    "s1 = set([1,2,3,4,5,6])\n",
    "s2 = set([4,5,6,7,8,9])\n",
    "print(s1&s2)\n",
    "print(s1.intersection(s2))"
   ]
  },
  {
   "cell_type": "code",
   "execution_count": 8,
   "id": "f28224bf-8e33-4079-b66c-4157edd57812",
   "metadata": {},
   "outputs": [
    {
     "name": "stdout",
     "output_type": "stream",
     "text": [
      "{1, 2, 3, 4, 5, 6, 7, 8, 9}\n",
      "{1, 2, 3, 4, 5, 6, 7, 8, 9}\n"
     ]
    }
   ],
   "source": [
    "#합집합 or\n",
    "print(s1 | s2)\n",
    "print(s1.union(s2))"
   ]
  },
  {
   "cell_type": "code",
   "execution_count": 14,
   "id": "a94589d4-a6e3-490b-85a6-1359ea1be89c",
   "metadata": {},
   "outputs": [
    {
     "name": "stdout",
     "output_type": "stream",
     "text": [
      "{1, 2, 3}\n",
      "{8, 9, 7}\n",
      "{1, 2, 3}\n",
      "{8, 9, 7}\n"
     ]
    }
   ],
   "source": [
    "#차집합\n",
    "\n",
    "print(s1-s2)\n",
    "print(s2 - s1)\n",
    "print(s1.difference(s2))\n",
    "print(s2.difference(s1))"
   ]
  },
  {
   "cell_type": "code",
   "execution_count": 15,
   "id": "7273622e-cd26-4767-b1db-c088fdd71188",
   "metadata": {},
   "outputs": [
    {
     "name": "stdout",
     "output_type": "stream",
     "text": [
      "{1, 2, 3, 4}\n"
     ]
    }
   ],
   "source": [
    "# 1개 값만 추가\n",
    "\n",
    "s1 = set([1,2,3])\n",
    "s1.add(4)\n",
    "print(s1)"
   ]
  },
  {
   "cell_type": "code",
   "execution_count": 16,
   "id": "b244762f-eb94-49eb-82f2-7da380591df3",
   "metadata": {},
   "outputs": [
    {
     "name": "stdout",
     "output_type": "stream",
     "text": [
      "{1, 2, 3, 4, 7, 8, 9}\n"
     ]
    }
   ],
   "source": [
    "# 여러값 추가\n",
    "\n",
    "s2 = set([1,2,3,4,5])\n",
    "s1.update([7,8,9])\n",
    "print(s1)"
   ]
  },
  {
   "cell_type": "code",
   "execution_count": 17,
   "id": "42470e1c-c237-4672-97d2-49e50f147cbf",
   "metadata": {},
   "outputs": [
    {
     "name": "stdout",
     "output_type": "stream",
     "text": [
      "{1, 2, 4}\n"
     ]
    }
   ],
   "source": [
    "# 제거하기\n",
    "\n",
    "s3 = set([1,2,3,4])\n",
    "s3.remove(3)\n",
    "print(s3)"
   ]
  },
  {
   "cell_type": "code",
   "execution_count": 20,
   "id": "862185b4-c172-410e-933a-c3ef26291753",
   "metadata": {},
   "outputs": [
    {
     "name": "stdout",
     "output_type": "stream",
     "text": [
      "<class 'bool'>\n",
      "<class 'bool'>\n"
     ]
    }
   ],
   "source": [
    "# 불 (bool) 자료형 - True False 참 거짓\n",
    "# True=참 1    False=거짓 0\n",
    "a= True\n",
    "b= False\n",
    "print(type(a))\n",
    "print(type(b))"
   ]
  },
  {
   "cell_type": "code",
   "execution_count": 22,
   "id": "326fddec-6eaf-44db-abc9-00933a0f1473",
   "metadata": {},
   "outputs": [
    {
     "data": {
      "text/plain": [
       "True"
      ]
     },
     "execution_count": 22,
     "metadata": {},
     "output_type": "execute_result"
    }
   ],
   "source": [
    "1==1"
   ]
  },
  {
   "cell_type": "code",
   "execution_count": 25,
   "id": "999c3b73-2767-4867-b47f-c0ed136f585b",
   "metadata": {},
   "outputs": [
    {
     "data": {
      "text/plain": [
       "True"
      ]
     },
     "execution_count": 25,
     "metadata": {},
     "output_type": "execute_result"
    }
   ],
   "source": [
    "3==3"
   ]
  },
  {
   "cell_type": "code",
   "execution_count": 26,
   "id": "fb667d7b-68a1-41fa-b012-31fa2332a3a3",
   "metadata": {},
   "outputs": [
    {
     "data": {
      "text/plain": [
       "False"
      ]
     },
     "execution_count": 26,
     "metadata": {},
     "output_type": "execute_result"
    }
   ],
   "source": [
    "3!=3"
   ]
  },
  {
   "cell_type": "code",
   "execution_count": 29,
   "id": "52e4b051-0cfc-4404-a8aa-512d128fc4ff",
   "metadata": {},
   "outputs": [
    {
     "data": {
      "text/plain": [
       "True"
      ]
     },
     "execution_count": 29,
     "metadata": {},
     "output_type": "execute_result"
    }
   ],
   "source": [
    "2>1"
   ]
  },
  {
   "cell_type": "code",
   "execution_count": 24,
   "id": "a4d0b029-f86c-44ea-a39e-afd66885a123",
   "metadata": {},
   "outputs": [
    {
     "data": {
      "text/plain": [
       "True"
      ]
     },
     "execution_count": 24,
     "metadata": {},
     "output_type": "execute_result"
    }
   ],
   "source": [
    "10<15"
   ]
  },
  {
   "attachments": {
    "7a75a6ed-3102-4c3a-84ed-8ebecc1078ad.png": {
     "image/png": "[encoded data removed]"
    }
   },
   "cell_type": "markdown",
   "id": "0153f0e4-db44-4076-91b1-97e85d51195a",
   "metadata": {},
   "source": [
    "![image.png](attachment:7a75a6ed-3102-4c3a-84ed-8ebecc1078ad.png)"
   ]
  },
  {
   "cell_type": "code",
   "execution_count": 6,
   "id": "4e5fd3a1-e87a-4f7c-8db7-d88314e2238b",
   "metadata": {},
   "outputs": [
    {
     "name": "stdout",
     "output_type": "stream",
     "text": [
      "True\n",
      "False\n",
      "True\n",
      "False\n",
      "True\n",
      "False\n",
      "True\n",
      "False\n",
      "True\n",
      "False\n",
      "False\n",
      "True\n",
      "True\n",
      "False\n"
     ]
    }
   ],
   "source": [
    "print(bool('python'))\n",
    "print(bool(''))\n",
    "print(bool([1,2,3]))\n",
    "print(bool([]))\n",
    "print(bool((1,2,3)))\n",
    "print(bool(()))\n",
    "print(bool({'a':1}))\n",
    "print(bool({}))\n",
    "print(bool(1))\n",
    "print(bool(0))\n",
    "print(bool(None))\n",
    "print(bool(-1))\n",
    "print(bool('.'))\n",
    "print(bool(-0))"
   ]
  },
  {
   "cell_type": "code",
   "execution_count": 20,
   "id": "bfce521c-805a-4b25-bd93-a0611037410b",
   "metadata": {},
   "outputs": [
    {
     "name": "stdout",
     "output_type": "stream",
     "text": [
      "어느날,  명석한 탐정는 바닷속 도시에서모험을 떠나 왕국을 위험에서 구하였다 그리고  명석한 탐정는 바닷속 도시에서에서 왕국을 위험에서 구하였다\n"
     ]
    }
   ],
   "source": [
    "# random 으로 스토리 생성기 만들기\n",
    "import random\n",
    "# 등장\n",
    "characters = ['용감한 기사', '모험심 넘치는 고양이', '호기심 많은 로봇', '서투른 마법사', ' 명석한 탐정', '반려동물']\n",
    "places = ['어두운 숲에서', '먼 우주 행성에서', '마법의 성에서', '바닷속 도시에서', '하늘섬에서','귀신이 나오는 흉가에서']\n",
    "events = ['숨겨진 보물을 발견했다', '무시무시한 용과 싸웠다', '비밀통로를 발견했다', '고대의 미스터리를 풀었다', '왕국을 위험에서 구하였다', '스타듀밸리를 하였다']\n",
    "\n",
    "ch = random.choice(characters)\n",
    "pl = random.choice(places)\n",
    "ev = random.choice(events)\n",
    "ch2 = random.choice(characters)\n",
    "pl2 = random.choice(places)\n",
    "ev2 = random.choice(events)\n",
    "\n",
    "print(f'어느날, {ch}는 {pl}모험을 떠나 {ev} 그리고 {ch2}는 {pl2}에서 {ev2}')"
   ]
  },
  {
   "cell_type": "markdown",
   "id": "d3ee455e-6278-42f8-a641-605297728bc8",
   "metadata": {},
   "source": [
    "# 자료형의 값을 저장하는 공간, 변수"
   ]
  },
  {
   "cell_type": "code",
   "execution_count": 3,
   "id": "2ad1dc69-72e0-43bd-8562-cf15a2d36131",
   "metadata": {},
   "outputs": [
    {
     "name": "stdout",
     "output_type": "stream",
     "text": [
      "[1, 2, 3] 2282146273088\n",
      "[1, 2, 3] 2282146273088\n",
      "[1, 7, 3] 2282146273088\n",
      "[1, 7, 3] 2282146273088\n"
     ]
    }
   ],
   "source": [
    "a = [1,2,3]\n",
    "b = a\n",
    "print(a,id(a))\n",
    "print(b,id(b))\n",
    "b[1] = 7\n",
    "print(a,id(a))\n",
    "print(b,id(b))"
   ]
  },
  {
   "cell_type": "code",
   "execution_count": 4,
   "id": "90a534f0-478f-417d-b1c4-bb29e53c6da4",
   "metadata": {},
   "outputs": [
    {
     "data": {
      "text/plain": [
       "True"
      ]
     },
     "execution_count": 4,
     "metadata": {},
     "output_type": "execute_result"
    }
   ],
   "source": [
    "a is b"
   ]
  },
  {
   "cell_type": "code",
   "execution_count": 18,
   "id": "870f097e-ceae-41de-97af-0e3a682f743e",
   "metadata": {},
   "outputs": [
    {
     "name": "stdout",
     "output_type": "stream",
     "text": [
      "[11, 22, 33] 2282146816000\n",
      "[11, 22, 33] 2282146718336\n",
      "[11, 22, 33] 2282146816000\n",
      "[11, 77, 33] 2282146718336\n"
     ]
    }
   ],
   "source": [
    "import copy\n",
    "c = [11,22,33]\n",
    "d = copy.copy(c)\n",
    "print(c,id(c))\n",
    "print(d,id(d))\n",
    "d [1] = 77\n",
    "print(c,id(c))\n",
    "print(d,id(d))"
   ]
  },
  {
   "cell_type": "code",
   "execution_count": 19,
   "id": "c13a5b33-7c15-4466-b1bf-62fae4cccf45",
   "metadata": {},
   "outputs": [
    {
     "data": {
      "text/plain": [
       "False"
      ]
     },
     "execution_count": 19,
     "metadata": {},
     "output_type": "execute_result"
    }
   ],
   "source": [
    "c is d"
   ]
  },
  {
   "cell_type": "code",
   "execution_count": 9,
   "id": "548bb659-04b0-42f9-bcac-9ea94c56a3bf",
   "metadata": {},
   "outputs": [
    {
     "name": "stdout",
     "output_type": "stream",
     "text": [
      "[11, 22, 33] 2282146814784\n",
      "[11, 22, 33] 2282146723648\n",
      "[11, 22, 33] 2282146814784\n",
      "[11, 77, 33] 2282146723648\n"
     ]
    }
   ],
   "source": [
    "from copy import copy\n",
    "c = [11,22,33]\n",
    "d = c[ : ]\n",
    "print(c,id(c))\n",
    "print(d,id(d))\n",
    "d [1] = 77\n",
    "print(c,id(c))\n",
    "print(d,id(d))"
   ]
  },
  {
   "cell_type": "markdown",
   "id": "6ee8b828-bf5b-4b53-8fcd-f06a2cecc7d6",
   "metadata": {},
   "source": [
    "## 변수를 만드는 여러가지 방법"
   ]
  },
  {
   "cell_type": "code",
   "execution_count": 13,
   "id": "200f8e01-1b95-455e-a48b-a4fef35bc577",
   "metadata": {},
   "outputs": [
    {
     "name": "stdout",
     "output_type": "stream",
     "text": [
      "파이썬 짱짱\n",
      "배고파 밥줘\n",
      "10 10 10\n"
     ]
    }
   ],
   "source": [
    "a , b = '파이썬', '짱짱'\n",
    "[c,d] = ['배고파', '밥줘']\n",
    "num1 = 10\n",
    "num2 = num1\n",
    "num3 = num2\n",
    "print(a,b)\n",
    "print(c,d)\n",
    "print(num3,num2,num1)"
   ]
  },
  {
   "cell_type": "code",
   "execution_count": 14,
   "id": "0ea38fb0-7e9e-4b2d-9af9-a9678005fe5d",
   "metadata": {},
   "outputs": [
    {
     "name": "stdout",
     "output_type": "stream",
     "text": [
      "3 7\n",
      "7 3\n"
     ]
    }
   ],
   "source": [
    "a = 3\n",
    "b = 7\n",
    "print(a,b)\n",
    "a,b = b,a\n",
    "print(a,b)"
   ]
  },
  {
   "cell_type": "code",
   "execution_count": 17,
   "id": "94f27d88-0189-4477-8208-d6fb5e23151a",
   "metadata": {},
   "outputs": [
    {
     "name": "stdout",
     "output_type": "stream",
     "text": [
      "33 77\n",
      "77 33\n"
     ]
    }
   ],
   "source": [
    "a = 33\n",
    "b = 77\n",
    "print(a,b)\n",
    "temp = a\n",
    "a = b\n",
    "b = temp\n",
    "print(a,b)\n"
   ]
  },
  {
   "cell_type": "code",
   "execution_count": 29,
   "id": "f8c1e1ac-2e23-480d-859d-83d494599196",
   "metadata": {},
   "outputs": [
    {
     "name": "stdout",
     "output_type": "stream",
     "text": [
      "돈 3000원 이상 있으면 택시타\n"
     ]
    },
    {
     "name": "stdin",
     "output_type": "stream",
     "text": [
      " 얼마있는지 말해 1000\n"
     ]
    },
    {
     "name": "stdout",
     "output_type": "stream",
     "text": [
      "걸어서  ㄱㄱ\n"
     ]
    }
   ],
   "source": [
    "print('돈 3000원 이상 있으면 택시타')\n",
    "\n",
    "money = int(input(' 얼마있는지 말해'))\n",
    "if money > 3000 :\n",
    "    print('택시 ㄱㄱ')\n",
    "else:\n",
    "    print('걸어서  ㄱㄱ')\n",
    "    "
   ]
  },
  {
   "cell_type": "code",
   "execution_count": null,
   "id": "34ad699c-ea8f-4a10-a3ed-d410102d7bff",
   "metadata": {},
   "outputs": [],
   "source": []
  }
 ],
 "metadata": {
  "kernelspec": {
   "display_name": "Python 3 (ipykernel)",
   "language": "python",
   "name": "python3"
  },
  "language_info": {
   "codemirror_mode": {
    "name": "ipython",
    "version": 3
   },
   "file_extension": ".py",
   "mimetype": "text/x-python",
   "name": "python",
   "nbconvert_exporter": "python",
   "pygments_lexer": "ipython3",
   "version": "3.13.1"
  }
 },
 "nbformat": 4,
 "nbformat_minor": 5
}
