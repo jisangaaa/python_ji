{
 "cells": [
  {
   "cell_type": "markdown",
   "id": "0495bf14-4f99-409e-8419-696e279b0367",
   "metadata": {
    "jp-MarkdownHeadingCollapsed": true
   },
   "source": [
    "# 주피터랩 단축키\n",
    "a 위 셀 추가\n",
    "b 아래 셀 추가\n",
    "c 복사\n",
    "v 붙혀넣기\n",
    "컨트롤 쉬프트 위아래 : 위아래 이동\n",
    "쉬프트 엔터 : 셀 실행\n",
    "dd: 셀 삭제\n",
    "x : 잘라내기\n",
    "z : 돌아가기\n",
    "쉬프트 z : 다시 돌아가기\n",
    "m : 마크다운\n",
    "y : 코드\n",
    "컨트롤 쉬프트 디 디디디디디디디디 똑같은 값 선택됨\n",
    "알트 쉬프트 클릭 홈 엔드\n",
    "end='\\n' : 다음줄로 결과값\n",
    "end='\\r' : 덮어써서 그 전에 적었던 값 안나옴\n",
    "\n",
    "import time as t\n",
    "t.sleep(?)        서서히 값 나옴\n",
    "\n",
    "sep='-'       차례대로 가-나-다-라\n",
    "\n",
    "# 복합연산자\n",
    "+= -+ *= /= **= //= %=\n",
    "\n",
    "주석 한번에 -> 드래그 컨트롤 슬래시\n",
    "\\' \" 쓰면 오류안남\n"
   ]
  },
  {
   "cell_type": "markdown",
   "id": "70db4b32-dec1-4909-a173-551ba062416e",
   "metadata": {},
   "source": [
    "# print기초"
   ]
  },
  {
   "cell_type": "code",
   "execution_count": 1,
   "id": "d033c4c5-b4a2-41ce-8a83-d140ef8f91cb",
   "metadata": {},
   "outputs": [
    {
     "name": "stdout",
     "output_type": "stream",
     "text": [
      "처음입니다\n"
     ]
    }
   ],
   "source": [
    "print('처음입니다')"
   ]
  },
  {
   "cell_type": "code",
   "execution_count": 2,
   "id": "68023592-1dbe-4210-9d0b-152aa5117697",
   "metadata": {},
   "outputs": [
    {
     "name": "stdout",
     "output_type": "stream",
     "text": [
      "723\n"
     ]
    }
   ],
   "source": [
    "print(564+159)"
   ]
  },
  {
   "cell_type": "code",
   "execution_count": 10,
   "id": "ce308678-1c9b-4c60-8f64-ab6eca9d25a3",
   "metadata": {},
   "outputs": [
    {
     "name": "stdout",
     "output_type": "stream",
     "text": [
      "시간이 많이 남았다..\n"
     ]
    }
   ],
   "source": [
    "import time as t\n",
    "print('배고프다',end='\\r')\n",
    "t.sleep(1)\n",
    "print('근데',end='\\r')\n",
    "t.sleep(1)\n",
    "print('시간이 많이 남았다..')"
   ]
  },
  {
   "cell_type": "code",
   "execution_count": 11,
   "id": "9d779081-2782-4182-87d2-26e2b575ba5d",
   "metadata": {},
   "outputs": [
    {
     "name": "stdout",
     "output_type": "stream",
     "text": [
      "1-2-3-4-5\n"
     ]
    }
   ],
   "source": [
    "print(1,2,3,4,5, sep='-')"
   ]
  },
  {
   "cell_type": "markdown",
   "id": "6115caba-1c56-469b-8113-014fe1f7f8e5",
   "metadata": {},
   "source": [
    "# 자료형"
   ]
  },
  {
   "cell_type": "code",
   "execution_count": null,
   "id": "aa9fadb0-444f-4f1c-9b53-877fd7cd41a1",
   "metadata": {},
   "outputs": [],
   "source": []
  },
  {
   "cell_type": "markdown",
   "id": "98a3e8f2-b334-4571-a2da-50d8f6cbf0ab",
   "metadata": {},
   "source": [
    "#  숫자형"
   ]
  },
  {
   "cell_type": "code",
   "execution_count": 13,
   "id": "228f8de3-cc71-4526-bef3-1bf90f146629",
   "metadata": {},
   "outputs": [
    {
     "name": "stdout",
     "output_type": "stream",
     "text": [
      "123 -179 0\n"
     ]
    }
   ],
   "source": [
    "# 정수형\n",
    "a = 123\n",
    "b = -179\n",
    "c = 0\n",
    "print(a,b,c)"
   ]
  },
  {
   "cell_type": "code",
   "execution_count": null,
   "id": "a3b4ecbc-7719-4f07-b62d-eeaf329fb4c6",
   "metadata": {},
   "outputs": [],
   "source": [
    "sachick = 456\n",
    "sem = 100\n",
    "print('덧셈',sachick+sem,end='\\n====================\\n')\n",
    "print('뺄셈',sachick-sem,end='\\n====================\\n')\n",
    "print('곱셈',sachick*sem,end='\\n====================\\n')\n",
    "print('나눗셈',sachick/sem,end='\\n====================\\n')"
   ]
  },
  {
   "cell_type": "code",
   "execution_count": null,
   "id": "3f8df9a7-3896-49b6-92e9-a86eec1c67e6",
   "metadata": {
    "scrolled": true
   },
   "outputs": [
    {
     "name": "stdout",
     "output_type": "stream",
     "text": [
      "덧셈 556\n",
      "====================\n",
      "뺄셈 356\n",
      "====================\n",
      "곱셈 45600\n",
      "====================\n",
      "나눗셈 4.56\n",
      "====================\n",
      "승 78792388614381121334229740142297926080014482164719082744456509558827299402736003794261092382197879620826465450866658364205885606866600563982814435138391511975098361310817322754189010053020377465322517408603142570014316858254207812886812866956319723570756214509797376\n",
      "====================\n",
      "몫 4\n",
      "====================\n",
      "나머지 56\n",
      "====================\n"
     ]
    }
   ],
   "source": [
    "print('승',sachick**sem,end='\\n====================\\n')\n",
    "print('몫',sachick//sem,end='\\n====================\\n')\n",
    "print('나머지',sachick%sem,end='\\n====================\\n')"
   ]
  },
  {
   "cell_type": "code",
   "execution_count": 28,
   "id": "f7d652d0-9ba7-4714-88a8-074fa835c117",
   "metadata": {},
   "outputs": [
    {
     "name": "stdout",
     "output_type": "stream",
     "text": [
      "1.2 3.14 4.24e-10\n"
     ]
    }
   ],
   "source": [
    "# 실수형\n",
    "aa = 1.2\n",
    "bb = 3.14\n",
    "cc = 4.24e-10\n",
    "print(aa,bb,cc)"
   ]
  },
  {
   "cell_type": "code",
   "execution_count": 59,
   "id": "8f430a70-ea3a-4391-ae5d-992fa2309d7d",
   "metadata": {},
   "outputs": [
    {
     "name": "stdout",
     "output_type": "stream",
     "text": [
      "191\n",
      "631\n",
      "191 631\n"
     ]
    }
   ],
   "source": [
    "# 8진수(oct,0o)와 16진수(hex,0x) , 2진수bin\n",
    "a=0o277\n",
    "b=0x277\n",
    "print(a)\n",
    "print(b)\n",
    "print(a,b)\n"
   ]
  },
  {
   "cell_type": "code",
   "execution_count": 44,
   "id": "57bdac72-25fd-4c19-873b-aef077e25640",
   "metadata": {},
   "outputs": [
    {
     "name": "stdout",
     "output_type": "stream",
     "text": [
      "17\n",
      "-1\n",
      "134217728\n",
      "0\n",
      "0.8888888888888888\n",
      "8\n",
      "7\n"
     ]
    }
   ],
   "source": [
    "a=8\n",
    "b=9\n",
    "print(a+b)\n",
    "print(a-b)\n",
    "print(a**b)\n",
    "print(a//b)\n",
    "print(a/b)\n",
    "print(a%b)\n",
    "cc=0b111\n",
    "print(cc)"
   ]
  },
  {
   "cell_type": "code",
   "execution_count": 45,
   "id": "d4a25c82-25c1-47e3-abe9-f8a9482b27ca",
   "metadata": {},
   "outputs": [],
   "source": [
    "aa=1"
   ]
  },
  {
   "cell_type": "code",
   "execution_count": 84,
   "id": "333ff4cc-a774-473a-89ba-13683e8661ed",
   "metadata": {},
   "outputs": [
    {
     "name": "stdout",
     "output_type": "stream",
     "text": [
      "5.2\n"
     ]
    }
   ],
   "source": [
    "aa+=1\n",
    "print(aa)"
   ]
  },
  {
   "cell_type": "code",
   "execution_count": 53,
   "id": "e2da8944-1b25-4439-9d24-5ac9f9504025",
   "metadata": {},
   "outputs": [
    {
     "data": {
      "text/plain": [
       "3262"
      ]
     },
     "execution_count": 53,
     "metadata": {},
     "output_type": "execute_result"
    }
   ],
   "source": [
    "(10*18**2+2*11)"
   ]
  },
  {
   "cell_type": "code",
   "execution_count": 54,
   "id": "fe69d866-c871-4425-a5c7-a239c0898b73",
   "metadata": {},
   "outputs": [
    {
     "name": "stdout",
     "output_type": "stream",
     "text": [
      "4\n",
      "2\n"
     ]
    }
   ],
   "source": [
    "a=14\n",
    "b=3\n",
    "print(a//b)\n",
    "print(a%b)"
   ]
  },
  {
   "cell_type": "code",
   "execution_count": null,
   "id": "7bf3b117-f95b-4aee-8d04-34e6fb320eec",
   "metadata": {},
   "outputs": [],
   "source": [
    "# 복합연산자\n",
    "a=1"
   ]
  },
  {
   "cell_type": "code",
   "execution_count": 88,
   "id": "5e31493c-e49d-493b-986c-72e9315d2d50",
   "metadata": {},
   "outputs": [
    {
     "name": "stdout",
     "output_type": "stream",
     "text": [
      "-15\n",
      "-16\n",
      "-17\n"
     ]
    }
   ],
   "source": [
    "a-=1\n",
    "print(a)\n",
    "a-=1\n",
    "print(a)\n",
    "a-=1\n",
    "print(a)"
   ]
  },
  {
   "cell_type": "markdown",
   "id": "865d4d45-09fd-44b8-acbb-5045cd1508ae",
   "metadata": {},
   "source": [
    "# 문자열 자료형"
   ]
  },
  {
   "cell_type": "code",
   "execution_count": 93,
   "id": "0a0ff533-8e5b-44b2-92b8-454901d8526b",
   "metadata": {},
   "outputs": [
    {
     "name": "stdout",
     "output_type": "stream",
     "text": [
      "문자형\n",
      "\n",
      "여러줄 입니다\n",
      "\n",
      "\n",
      "또한 여러줄\n",
      "\n"
     ]
    }
   ],
   "source": [
    "str1 = '문자형'\n",
    "print(str1)\n",
    "\n",
    "str2 = '''\n",
    "여러줄 입니다\n",
    "'''\n",
    "print(str2)\n",
    "\n",
    "str3 = \"\"\"\n",
    "또한 여러줄\n",
    "\"\"\"\n",
    "print(str3)"
   ]
  },
  {
   "cell_type": "code",
   "execution_count": 119,
   "id": "430eedc5-7de8-4dc3-9c36-72a2994271a5",
   "metadata": {},
   "outputs": [
    {
     "name": "stdout",
     "output_type": "stream",
     "text": [
      "python is \n",
      "favorite food is perl\n",
      "\n"
     ]
    }
   ],
   "source": [
    "# food = \"python is favorite food is perl\"\n",
    "food =\"\"\"python is \n",
    "favorite food is perl\n",
    "\"\"\"\n",
    "print(food)"
   ]
  },
  {
   "cell_type": "code",
   "execution_count": 112,
   "id": "93650b93-dd7f-4d83-a6e3-b40d2dc144d3",
   "metadata": {},
   "outputs": [
    {
     "data": {
      "text/plain": [
       "'pythonpython'"
      ]
     },
     "execution_count": 112,
     "metadata": {},
     "output_type": "execute_result"
    }
   ],
   "source": [
    "a = \"python\"\n",
    "a *2"
   ]
  },
  {
   "cell_type": "code",
   "execution_count": 117,
   "id": "6b0ecf85-56cb-4f30-8d14-74e1ed95c867",
   "metadata": {},
   "outputs": [],
   "source": [
    "multi = \"\"\"\n",
    "life \n",
    "is \n",
    "too\n",
    "\"\"\""
   ]
  },
  {
   "cell_type": "code",
   "execution_count": 121,
   "id": "a82a0e11-ab24-4360-b3c7-cd7266fcaeba",
   "metadata": {},
   "outputs": [
    {
     "name": "stdout",
     "output_type": "stream",
     "text": [
      "python is fun!\n"
     ]
    }
   ],
   "source": [
    "# 문자열 연산하기\n",
    "head = \"python\"\n",
    "tail = \" is fun!\"\n",
    "print(head + tail)"
   ]
  },
  {
   "cell_type": "code",
   "execution_count": 122,
   "id": "196c2eaf-2e62-4372-8d65-e6f5efeca25f",
   "metadata": {},
   "outputs": [
    {
     "name": "stdout",
     "output_type": "stream",
     "text": [
      "python\n",
      "python\n",
      "python\n",
      "python\n",
      "python\n",
      "\n"
     ]
    }
   ],
   "source": [
    "a='python' + \"\\n\"\n",
    "print(a*5)"
   ]
  },
  {
   "cell_type": "code",
   "execution_count": 149,
   "id": "87e88165-74ba-425f-8e40-9545a5f6261c",
   "metadata": {},
   "outputs": [
    {
     "name": "stdout",
     "output_type": "stream",
     "text": [
      "===============\n",
      "     영수증\n",
      "===============\n",
      "아메리카노16500원\n",
      "라떼7200원\n",
      "허브티12000원\n",
      "===============\n",
      "\n",
      "===============\n",
      "     영수증\n",
      "===============\n",
      "아메리카노16500원\n",
      "라떼7200원\n",
      "허브티12000원\n",
      "===============\n",
      "\n",
      "===============\n",
      "     영수증\n",
      "===============\n",
      "아메리카노16500원\n",
      "라떼7200원\n",
      "허브티12000원\n",
      "===============\n",
      "\n",
      "\n"
     ]
    }
   ],
   "source": [
    "p1 = 5500*3\n",
    "p2 = 7200*1\n",
    "p3 = 6000*2\n",
    "\n",
    "\n",
    "m1 = '아메리카노' + str(p1)+ \"원\\n\"\n",
    "m2 =  '라떼'+ str(p2) + \"원\\n\"\n",
    "m3 = '허브티'+ str(p3) + \"원\"\n",
    "title = \"     \" + \"영수증\"\n",
    "print(\"=\"*15)\n",
    "print(title)\n",
    "print(\"=\"*15)\n",
    "print(m1+m2+m3)\n",
    "print(\"=\"*15+\"\\n\")\n",
    "\n",
    "print(\"=\"*15 +\"\\n\" + title + \"\\n\" +\"=\"*15+ \"\\n\"+ m1+m2+m3 +\"\\n\"+\"=\"*15 +\"\\n\" )\n",
    "\n",
    "pp = ''\n",
    "pp += (\"=\"*15)+\"\\n\"\n",
    "pp += (title)+\"\\n\"\n",
    "pp += (\"=\"*15)+\"\\n\"\n",
    "pp += (m1+m2+m3)+\"\\n\"\n",
    "pp += (\"=\"*15+\"\\n\")+\"\\n\"\n",
    "print(pp)\n"
   ]
  },
  {
   "cell_type": "code",
   "execution_count": 151,
   "id": "dde37fb3-58c2-41d1-adb8-7373f80b1f1d",
   "metadata": {},
   "outputs": [
    {
     "name": "stdout",
     "output_type": "stream",
     "text": [
      "16\n"
     ]
    }
   ],
   "source": [
    "a=\"가나다라 마사하아자차카타 파하\"\n",
    "print(len(a))"
   ]
  },
  {
   "cell_type": "code",
   "execution_count": 152,
   "id": "8616ed40-2989-4dfd-8bb0-78e6e6f02653",
   "metadata": {},
   "outputs": [
    {
     "data": {
      "text/plain": [
       "'마'"
      ]
     },
     "execution_count": 152,
     "metadata": {},
     "output_type": "execute_result"
    }
   ],
   "source": [
    "a[5]"
   ]
  },
  {
   "cell_type": "code",
   "execution_count": 157,
   "id": "67143b72-a2d4-4239-90cf-0d5f6f72722a",
   "metadata": {},
   "outputs": [
    {
     "name": "stdout",
     "output_type": "stream",
     "text": [
      "아자차\n",
      "아 자 차\n",
      "아자차\n"
     ]
    }
   ],
   "source": [
    "#"
   ]
  },
  {
   "cell_type": "code",
   "execution_count": 158,
   "id": "ceca073f-959b-43b5-bf58-47d8680916a9",
   "metadata": {},
   "outputs": [],
   "source": [
    "a=\"20250203sunny\""
   ]
  },
  {
   "cell_type": "code",
   "execution_count": 188,
   "id": "0550242f-a350-4c1e-ac3d-76fcd8bb2d62",
   "metadata": {},
   "outputs": [],
   "source": [
    "date = a[:8]"
   ]
  },
  {
   "cell_type": "code",
   "execution_count": 189,
   "id": "73610474-76fa-40bf-9ae0-5511f9faf44a",
   "metadata": {},
   "outputs": [],
   "source": [
    "weather=a[8:]"
   ]
  },
  {
   "cell_type": "code",
   "execution_count": 191,
   "id": "f5565d11-8c4c-434d-82a3-c4bbee4883ad",
   "metadata": {},
   "outputs": [],
   "source": [
    "year=a[0:4]"
   ]
  },
  {
   "cell_type": "code",
   "execution_count": 192,
   "id": "b364e237-dbb1-4b9c-9ac9-c594ae1e6281",
   "metadata": {},
   "outputs": [
    {
     "name": "stdout",
     "output_type": "stream",
     "text": [
      "가나다라년\n"
     ]
    }
   ],
   "source": [
    "print(a[0:4]+ '년')"
   ]
  },
  {
   "cell_type": "code",
   "execution_count": null,
   "id": "3e83d9ca-cb21-42a6-9964-608feaebf35a",
   "metadata": {},
   "outputs": [],
   "source": []
  },
  {
   "cell_type": "code",
   "execution_count": 162,
   "id": "6ac6833d-4e20-4300-bf47-629e4b92c252",
   "metadata": {},
   "outputs": [
    {
     "data": {
      "text/plain": [
       "'20250203'"
      ]
     },
     "execution_count": 162,
     "metadata": {},
     "output_type": "execute_result"
    }
   ],
   "source": [
    "date"
   ]
  },
  {
   "cell_type": "code",
   "execution_count": 164,
   "id": "d9bd73cc-fe62-4c91-9835-a2c66d14cb5b",
   "metadata": {},
   "outputs": [
    {
     "name": "stdout",
     "output_type": "stream",
     "text": [
      "sunny\n"
     ]
    }
   ],
   "source": [
    "print(weather)"
   ]
  },
  {
   "cell_type": "code",
   "execution_count": 165,
   "id": "eb7ba45d-fd1a-4c88-a54b-ff4747bbe4fc",
   "metadata": {},
   "outputs": [],
   "source": [
    "year=a[:4]"
   ]
  },
  {
   "cell_type": "code",
   "execution_count": 166,
   "id": "53d7cfda-f4bf-4b84-bd0c-cf45f3df25f4",
   "metadata": {},
   "outputs": [],
   "source": [
    "day=a[4:8]"
   ]
  },
  {
   "cell_type": "code",
   "execution_count": 167,
   "id": "5f551317-981a-4ace-8f8b-5cabd54c9409",
   "metadata": {},
   "outputs": [
    {
     "name": "stdout",
     "output_type": "stream",
     "text": [
      "2025\n"
     ]
    }
   ],
   "source": [
    "print(year)"
   ]
  },
  {
   "cell_type": "code",
   "execution_count": 168,
   "id": "e2a4ee8f-fe8e-439a-b37f-ffea368649b9",
   "metadata": {},
   "outputs": [
    {
     "name": "stdout",
     "output_type": "stream",
     "text": [
      "0203\n"
     ]
    }
   ],
   "source": [
    "print(day)"
   ]
  },
  {
   "cell_type": "code",
   "execution_count": 171,
   "id": "615c7c1d-f634-4f5c-b91c-3219eeca6a08",
   "metadata": {},
   "outputs": [
    {
     "data": {
      "text/plain": [
       "'p'"
      ]
     },
     "execution_count": 171,
     "metadata": {},
     "output_type": "execute_result"
    }
   ],
   "source": [
    "a='pithon'\n",
    "a[:1]"
   ]
  },
  {
   "cell_type": "code",
   "execution_count": 172,
   "id": "49159692-d49c-4cf8-a14d-e95fd806982a",
   "metadata": {},
   "outputs": [
    {
     "data": {
      "text/plain": [
       "'thon'"
      ]
     },
     "execution_count": 172,
     "metadata": {},
     "output_type": "execute_result"
    }
   ],
   "source": [
    "a[2:]"
   ]
  },
  {
   "cell_type": "code",
   "execution_count": 174,
   "id": "21d8eb41-1c4e-4a70-b097-cbb7acb436b5",
   "metadata": {},
   "outputs": [
    {
     "data": {
      "text/plain": [
       "'python'"
      ]
     },
     "execution_count": 174,
     "metadata": {},
     "output_type": "execute_result"
    }
   ],
   "source": [
    "a[:1] +'y' + a[2:]"
   ]
  },
  {
   "cell_type": "code",
   "execution_count": 175,
   "id": "7c95a147-d2bc-4956-95b7-e24dc8d302f3",
   "metadata": {},
   "outputs": [
    {
     "name": "stdout",
     "output_type": "stream",
     "text": [
      "python\n"
     ]
    }
   ],
   "source": [
    "print(a[:1] +'y' + a[2:])"
   ]
  },
  {
   "cell_type": "code",
   "execution_count": 176,
   "id": "e532113f-815b-4712-a0b2-cf8cde74c920",
   "metadata": {},
   "outputs": [
    {
     "data": {
      "text/plain": [
       "'i eat %d apples'"
      ]
     },
     "execution_count": 176,
     "metadata": {},
     "output_type": "execute_result"
    }
   ],
   "source": [
    "\"i eat %d apples\""
   ]
  },
  {
   "cell_type": "code",
   "execution_count": 177,
   "id": "ac37dfa7-b8fe-4889-824b-87138db2525a",
   "metadata": {},
   "outputs": [
    {
     "data": {
      "text/plain": [
       "'i eat 3 apples'"
      ]
     },
     "execution_count": 177,
     "metadata": {},
     "output_type": "execute_result"
    }
   ],
   "source": [
    "\"i eat %d apples\" %3"
   ]
  },
  {
   "cell_type": "code",
   "execution_count": 178,
   "id": "b3f7e410-f28a-46b2-8ab0-59f5f2b96a72",
   "metadata": {},
   "outputs": [
    {
     "data": {
      "text/plain": [
       "'i eat 8 apples'"
      ]
     },
     "execution_count": 178,
     "metadata": {},
     "output_type": "execute_result"
    }
   ],
   "source": [
    "\"i eat %d apples\" %8"
   ]
  },
  {
   "cell_type": "code",
   "execution_count": 180,
   "id": "c5032834-78ae-49c1-b5be-2af8133898e1",
   "metadata": {},
   "outputs": [
    {
     "data": {
      "text/plain": [
       "'i eat six apples'"
      ]
     },
     "execution_count": 180,
     "metadata": {},
     "output_type": "execute_result"
    }
   ],
   "source": [
    "\"i eat %s apples\" %\"six\""
   ]
  },
  {
   "cell_type": "code",
   "execution_count": 181,
   "id": "95d3de85-6cce-49b7-854e-cdf09e2a7ca4",
   "metadata": {},
   "outputs": [
    {
     "data": {
      "text/plain": [
       "'i eat six apples'"
      ]
     },
     "execution_count": 181,
     "metadata": {},
     "output_type": "execute_result"
    }
   ],
   "source": [
    "\"i eat %s apples\" %'six'"
   ]
  },
  {
   "cell_type": "code",
   "execution_count": 182,
   "id": "e31f5dbf-203a-44df-a904-7a212e8d5f02",
   "metadata": {},
   "outputs": [],
   "source": [
    "a=\"가나다라 마사하아자차카타 파하\""
   ]
  },
  {
   "cell_type": "code",
   "execution_count": 183,
   "id": "4e911905-8bb7-4696-a840-128c64a96bae",
   "metadata": {},
   "outputs": [
    {
     "data": {
      "text/plain": [
       "'가라사자타하'"
      ]
     },
     "execution_count": 183,
     "metadata": {},
     "output_type": "execute_result"
    }
   ],
   "source": [
    "a[::3]"
   ]
  },
  {
   "cell_type": "code",
   "execution_count": 184,
   "id": "8db55fbb-8220-4d17-8a8a-7d9e98d6f573",
   "metadata": {},
   "outputs": [
    {
     "data": {
      "text/plain": [
       "'가다 사아차타파'"
      ]
     },
     "execution_count": 184,
     "metadata": {},
     "output_type": "execute_result"
    }
   ],
   "source": [
    "a[:: 2]"
   ]
  },
  {
   "cell_type": "code",
   "execution_count": 185,
   "id": "461882b1-7a00-47c1-a662-26fd5d3503ee",
   "metadata": {},
   "outputs": [
    {
     "data": {
      "text/plain": [
       "'하파 타카차자아하사마 라다나가'"
      ]
     },
     "execution_count": 185,
     "metadata": {},
     "output_type": "execute_result"
    }
   ],
   "source": [
    "a[::-1]"
   ]
  },
  {
   "cell_type": "code",
   "execution_count": 186,
   "id": "edce1adc-5a6e-4cfd-af3b-4fc551410fba",
   "metadata": {},
   "outputs": [
    {
     "data": {
      "text/plain": [
       "'i eat 3 apples'"
      ]
     },
     "execution_count": 186,
     "metadata": {},
     "output_type": "execute_result"
    }
   ],
   "source": [
    "number = 3\n",
    "\"i eat %d apples\" %number"
   ]
  },
  {
   "cell_type": "code",
   "execution_count": 187,
   "id": "6b9b5374-f2cc-4f51-8e5b-3fce92912d5a",
   "metadata": {},
   "outputs": [
    {
     "data": {
      "text/plain": [
       "'i eat 3 apples'"
      ]
     },
     "execution_count": 187,
     "metadata": {},
     "output_type": "execute_result"
    }
   ],
   "source": [
    "\"i eat %d apples\" %number"
   ]
  },
  {
   "cell_type": "code",
   "execution_count": 209,
   "id": "e3d7d22a-8e19-431a-ad32-006a4b6982f4",
   "metadata": {},
   "outputs": [],
   "source": [
    "a=\"20250203오늘은화창하다!\""
   ]
  },
  {
   "cell_type": "code",
   "execution_count": 210,
   "id": "d38f07f7-c49e-4249-8b48-095a09eff860",
   "metadata": {},
   "outputs": [
    {
     "name": "stdout",
     "output_type": "stream",
     "text": [
      "2025년 2월 3일\n",
      "오늘은 화창하다!\n"
     ]
    }
   ],
   "source": [
    "print(a[:4]+'년', a[5:6] +'월',a[7:8]+'일'+'\\n'+ a[8:11], a[11:])"
   ]
  },
  {
   "cell_type": "code",
   "execution_count": 222,
   "id": "6552704a-fa53-4091-aaf7-62a6e1b53de1",
   "metadata": {},
   "outputs": [
    {
     "name": "stdout",
     "output_type": "stream",
     "text": [
      "한국서 돈벌고 '나 몰라라' 코스트코… 연회비 인상률은 미국의 2배\n"
     ]
    }
   ],
   "source": [
    "import requests\n",
    "url = 'https://v.daum.net/v/20250203151815463'\n",
    "res = requests.get(url).text\n",
    "print(res[374:411])"
   ]
  },
  {
   "cell_type": "code",
   "execution_count": 223,
   "id": "7deef3ba-f8e9-4492-81b2-9aa55845abb8",
   "metadata": {},
   "outputs": [
    {
     "name": "stdout",
     "output_type": "stream",
     "text": [
      "한국서 돈벌고 '나 몰라라' 코스트코… 연회비 인상률은 미국의 2배\n"
     ]
    }
   ],
   "source": [
    "print(res[374:411])"
   ]
  },
  {
   "cell_type": "code",
   "execution_count": 224,
   "id": "2562565e-4601-4578-bbd3-82b6e943a8c6",
   "metadata": {},
   "outputs": [
    {
     "name": "stdout",
     "output_type": "stream",
     "text": [
      "한국서 돈벌고 '나 몰라라' 코스트코… 연회비 인상률은 미국의\n"
     ]
    }
   ],
   "source": [
    "print(res[374:408])"
   ]
  },
  {
   "cell_type": "code",
   "execution_count": 229,
   "id": "0a30a75f-e8b8-4f3b-85e3-c8fccfef08fc",
   "metadata": {},
   "outputs": [
    {
     "name": "stdout",
     "output_type": "stream",
     "text": [
      "한국서 돈벌고 '나 몰라라' 코스트코… 연회비 인상률은 미국의 3배\n"
     ]
    }
   ],
   "source": [
    "print(res[374:408], '3' + (res[410:411]))"
   ]
  },
  {
   "cell_type": "code",
   "execution_count": 260,
   "id": "951675cb-caff-4c03-a0cb-3e116c2f0ff4",
   "metadata": {},
   "outputs": [
    {
     "name": "stdout",
     "output_type": "stream",
     "text": [
      "지상이의 톡쏘는 일상 : 네이버 블로그\n"
     ]
    }
   ],
   "source": [
    "import requests\n",
    "url = 'https://blog.naver.com/droad777'\n",
    "res = requests.get(url).text\n",
    "result=res[895:915]\n",
    "out = '지상이'+ result[2:]\n",
    "print(out)"
   ]
  },
  {
   "cell_type": "code",
   "execution_count": 251,
   "id": "6b1db33f-2c16-4ef1-9670-3a6761aca5b7",
   "metadata": {},
   "outputs": [
    {
     "name": "stdout",
     "output_type": "stream",
     "text": [
      "지상이의 톡쏘는 일상 : 네이버 블로그\n"
     ]
    }
   ],
   "source": [
    "print('지상이'+res[897:915])"
   ]
  },
  {
   "cell_type": "code",
   "execution_count": null,
   "id": "60b9ee99-eda5-439a-8b51-c7db49a8ed35",
   "metadata": {},
   "outputs": [],
   "source": []
  }
 ],
 "metadata": {
  "kernelspec": {
   "display_name": "Python 3 (ipykernel)",
   "language": "python",
   "name": "python3"
  },
  "language_info": {
   "codemirror_mode": {
    "name": "ipython",
    "version": 3
   },
   "file_extension": ".py",
   "mimetype": "text/x-python",
   "name": "python",
   "nbconvert_exporter": "python",
   "pygments_lexer": "ipython3",
   "version": "3.13.1"
  }
 },
 "nbformat": 4,
 "nbformat_minor": 5
}
