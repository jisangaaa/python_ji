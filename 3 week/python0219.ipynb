{
 "cells": [
  {
   "cell_type": "markdown",
   "id": "15209e53-29f2-4c51-9482-6639505fb3c4",
   "metadata": {},
   "source": [
    "# itertools"
   ]
  },
  {
   "cell_type": "code",
   "execution_count": 3,
   "id": "29f4c37e-d71b-4743-b8ed-a235babae62b",
   "metadata": {},
   "outputs": [
    {
     "name": "stdout",
     "output_type": "stream",
     "text": [
      "[('한민서', '사탕'), ('황지민', '초컬릿'), ('이영철', '젤리')]\n"
     ]
    }
   ],
   "source": [
    "students = ['한민서', '황지민', '이영철', '이광수', '김승민']\n",
    "snacks = ['사탕', '초컬릿', '젤리']\n",
    "\n",
    "result = zip(students, snacks)\n",
    "print(list(result))"
   ]
  },
  {
   "cell_type": "code",
   "execution_count": 4,
   "id": "1fe777e2-b3f6-4288-9ede-7c4393796d39",
   "metadata": {},
   "outputs": [
    {
     "name": "stdout",
     "output_type": "stream",
     "text": [
      "[('한민서', '사탕'), ('황지민', '초컬릿'), ('이영철', '젤리'), ('이광수', '새우깡'), ('김승민', '새우깡')]\n"
     ]
    }
   ],
   "source": [
    "# itertools_zip.py\n",
    "import itertools\n",
    "\n",
    "students = ['한민서', '황지민', '이영철', '이광수', '김승민']\n",
    "snacks = ['사탕', '초컬릿', '젤리']\n",
    "\n",
    "result = itertools.zip_longest(students, snacks, fillvalue='새우깡')\n",
    "print(list(result))"
   ]
  },
  {
   "cell_type": "code",
   "execution_count": 5,
   "id": "362dbed4-1ad1-4e3f-848b-3cb842e6c9b3",
   "metadata": {},
   "outputs": [
    {
     "data": {
      "text/plain": [
       "[('1', '2'), ('1', '3'), ('2', '1'), ('2', '3'), ('3', '1'), ('3', '2')]"
      ]
     },
     "execution_count": 5,
     "metadata": {},
     "output_type": "execute_result"
    }
   ],
   "source": [
    ">>> import itertools\n",
    ">>> list(itertools.permutations(['1', '2', '3'], 2))"
   ]
  },
  {
   "cell_type": "code",
   "execution_count": 6,
   "id": "80d38488-649a-4dd9-b6f9-e73092e08b1d",
   "metadata": {},
   "outputs": [
    {
     "name": "stdout",
     "output_type": "stream",
     "text": [
      "12\n",
      "13\n",
      "21\n",
      "23\n",
      "31\n",
      "32\n"
     ]
    }
   ],
   "source": [
    ">>> for a, b in itertools.permutations(['1', '2', '3'], 2):\n",
    "...     print(a+b)"
   ]
  },
  {
   "cell_type": "code",
   "execution_count": 7,
   "id": "2cfe17ac-e779-4378-9013-446b40812323",
   "metadata": {},
   "outputs": [
    {
     "data": {
      "text/plain": [
       "[('1', '2'), ('1', '3'), ('2', '3')]"
      ]
     },
     "execution_count": 7,
     "metadata": {},
     "output_type": "execute_result"
    }
   ],
   "source": [
    ">>> import itertools\n",
    ">>> list(itertools.combinations(['1', '2', '3'], 2))"
   ]
  },
  {
   "cell_type": "code",
   "execution_count": 11,
   "id": "2db21d5a-bf54-43d3-826c-ff8d4b90b93a",
   "metadata": {},
   "outputs": [],
   "source": [
    ">>> import itertools\n",
    ">>> it = itertools.combinations(range(1, 10), 6)"
   ]
  },
  {
   "cell_type": "code",
   "execution_count": 12,
   "id": "783476fb-3f89-4350-870e-2bb0a82cfbce",
   "metadata": {
    "scrolled": true
   },
   "outputs": [
    {
     "name": "stdout",
     "output_type": "stream",
     "text": [
      "(1, 2, 3, 4, 5, 6)\n",
      "(1, 2, 3, 4, 5, 7)\n",
      "(1, 2, 3, 4, 5, 8)\n",
      "(1, 2, 3, 4, 5, 9)\n",
      "(1, 2, 3, 4, 6, 7)\n",
      "(1, 2, 3, 4, 6, 8)\n",
      "(1, 2, 3, 4, 6, 9)\n",
      "(1, 2, 3, 4, 7, 8)\n",
      "(1, 2, 3, 4, 7, 9)\n",
      "(1, 2, 3, 4, 8, 9)\n",
      "(1, 2, 3, 5, 6, 7)\n",
      "(1, 2, 3, 5, 6, 8)\n",
      "(1, 2, 3, 5, 6, 9)\n",
      "(1, 2, 3, 5, 7, 8)\n",
      "(1, 2, 3, 5, 7, 9)\n",
      "(1, 2, 3, 5, 8, 9)\n",
      "(1, 2, 3, 6, 7, 8)\n",
      "(1, 2, 3, 6, 7, 9)\n",
      "(1, 2, 3, 6, 8, 9)\n",
      "(1, 2, 3, 7, 8, 9)\n",
      "(1, 2, 4, 5, 6, 7)\n",
      "(1, 2, 4, 5, 6, 8)\n",
      "(1, 2, 4, 5, 6, 9)\n",
      "(1, 2, 4, 5, 7, 8)\n",
      "(1, 2, 4, 5, 7, 9)\n",
      "(1, 2, 4, 5, 8, 9)\n",
      "(1, 2, 4, 6, 7, 8)\n",
      "(1, 2, 4, 6, 7, 9)\n",
      "(1, 2, 4, 6, 8, 9)\n",
      "(1, 2, 4, 7, 8, 9)\n",
      "(1, 2, 5, 6, 7, 8)\n",
      "(1, 2, 5, 6, 7, 9)\n",
      "(1, 2, 5, 6, 8, 9)\n",
      "(1, 2, 5, 7, 8, 9)\n",
      "(1, 2, 6, 7, 8, 9)\n",
      "(1, 3, 4, 5, 6, 7)\n",
      "(1, 3, 4, 5, 6, 8)\n",
      "(1, 3, 4, 5, 6, 9)\n",
      "(1, 3, 4, 5, 7, 8)\n",
      "(1, 3, 4, 5, 7, 9)\n",
      "(1, 3, 4, 5, 8, 9)\n",
      "(1, 3, 4, 6, 7, 8)\n",
      "(1, 3, 4, 6, 7, 9)\n",
      "(1, 3, 4, 6, 8, 9)\n",
      "(1, 3, 4, 7, 8, 9)\n",
      "(1, 3, 5, 6, 7, 8)\n",
      "(1, 3, 5, 6, 7, 9)\n",
      "(1, 3, 5, 6, 8, 9)\n",
      "(1, 3, 5, 7, 8, 9)\n",
      "(1, 3, 6, 7, 8, 9)\n",
      "(1, 4, 5, 6, 7, 8)\n",
      "(1, 4, 5, 6, 7, 9)\n",
      "(1, 4, 5, 6, 8, 9)\n",
      "(1, 4, 5, 7, 8, 9)\n",
      "(1, 4, 6, 7, 8, 9)\n",
      "(1, 5, 6, 7, 8, 9)\n",
      "(2, 3, 4, 5, 6, 7)\n",
      "(2, 3, 4, 5, 6, 8)\n",
      "(2, 3, 4, 5, 6, 9)\n",
      "(2, 3, 4, 5, 7, 8)\n",
      "(2, 3, 4, 5, 7, 9)\n",
      "(2, 3, 4, 5, 8, 9)\n",
      "(2, 3, 4, 6, 7, 8)\n",
      "(2, 3, 4, 6, 7, 9)\n",
      "(2, 3, 4, 6, 8, 9)\n",
      "(2, 3, 4, 7, 8, 9)\n",
      "(2, 3, 5, 6, 7, 8)\n",
      "(2, 3, 5, 6, 7, 9)\n",
      "(2, 3, 5, 6, 8, 9)\n",
      "(2, 3, 5, 7, 8, 9)\n",
      "(2, 3, 6, 7, 8, 9)\n",
      "(2, 4, 5, 6, 7, 8)\n",
      "(2, 4, 5, 6, 7, 9)\n",
      "(2, 4, 5, 6, 8, 9)\n",
      "(2, 4, 5, 7, 8, 9)\n",
      "(2, 4, 6, 7, 8, 9)\n",
      "(2, 5, 6, 7, 8, 9)\n",
      "(3, 4, 5, 6, 7, 8)\n",
      "(3, 4, 5, 6, 7, 9)\n",
      "(3, 4, 5, 6, 8, 9)\n",
      "(3, 4, 5, 7, 8, 9)\n",
      "(3, 4, 6, 7, 8, 9)\n",
      "(3, 5, 6, 7, 8, 9)\n",
      "(4, 5, 6, 7, 8, 9)\n"
     ]
    }
   ],
   "source": [
    ">>> for num in it:\n",
    "...     print(num)"
   ]
  },
  {
   "cell_type": "code",
   "execution_count": 13,
   "id": "dd8b8f1d-e03f-4f58-bba9-cd0f54a7b730",
   "metadata": {},
   "outputs": [
    {
     "data": {
      "text/plain": [
       "84"
      ]
     },
     "execution_count": 13,
     "metadata": {},
     "output_type": "execute_result"
    }
   ],
   "source": [
    "len(list(itertools.combinations(range(1, 10), 6)))"
   ]
  },
  {
   "cell_type": "code",
   "execution_count": 14,
   "id": "e5f686d7-3f9d-469e-a606-45d55ac20dcc",
   "metadata": {},
   "outputs": [
    {
     "name": "stdout",
     "output_type": "stream",
     "text": [
      "15\n"
     ]
    }
   ],
   "source": [
    "# reduce_test.py\n",
    "import functools\n",
    "\n",
    "data = [1, 2, 3, 4, 5]\n",
    "result = functools.reduce(lambda x, y: x + y, data)\n",
    "print(result)  # 15 출력"
   ]
  },
  {
   "cell_type": "code",
   "execution_count": 15,
   "id": "1f10e5ea-e611-4663-aa3e-de1ee61b1b54",
   "metadata": {},
   "outputs": [
    {
     "name": "stdout",
     "output_type": "stream",
     "text": [
      "8\n"
     ]
    }
   ],
   "source": [
    "num_list = [3, 2, 8, 1, 6, 7]\n",
    "max_num = functools.reduce(lambda x, y: x if x > y else y, num_list)\n",
    "print(max_num)  # 8 출력"
   ]
  },
  {
   "cell_type": "code",
   "execution_count": 16,
   "id": "930dc1ed-9bec-4c96-a38c-a6e26b1817b1",
   "metadata": {},
   "outputs": [
    {
     "name": "stdout",
     "output_type": "stream",
     "text": [
      "[('sally', 17, 'B'), ('jane', 22, 'A'), ('dave', 32, 'B')]\n"
     ]
    }
   ],
   "source": [
    "# itemgetter1.py\n",
    "from operator import itemgetter\n",
    "\n",
    "students = [\n",
    "    (\"jane\", 22, 'A'),\n",
    "    (\"dave\", 32, 'B'),\n",
    "    (\"sally\", 17, 'B'),\n",
    "]\n",
    "\n",
    "result = sorted(students, key=itemgetter(1))\n",
    "print(result)"
   ]
  },
  {
   "cell_type": "code",
   "execution_count": 22,
   "id": "093f4e1e-73ee-454a-9f15-8ca988e4c38d",
   "metadata": {},
   "outputs": [
    {
     "name": "stdout",
     "output_type": "stream",
     "text": [
      "[{'name': 'jane', 'age': 22, 'grade': 'A'}, {'name': 'sally', 'age': 32, 'grade': 'B'}, {'name': 'dave', 'age': 17, 'grade': 'C'}]\n"
     ]
    }
   ],
   "source": [
    "from operator import itemgetter\n",
    "name = [\"jane\",\"sally\",\"dave\"]\n",
    "age = [22,32,17]\n",
    "grade = ['A','B', 'C']\n",
    "\n",
    "students = []\n",
    "for n,a,g in zip(name,age,grade):\n",
    "    students.append({'name':n,'age':a,'grade':g})\n",
    "print(students)"
   ]
  },
  {
   "cell_type": "code",
   "execution_count": 17,
   "id": "3df4928b-9ff8-42f7-8205-de98bc077b6b",
   "metadata": {},
   "outputs": [
    {
     "name": "stdout",
     "output_type": "stream",
     "text": [
      "[{'name': 'sally', 'age': 17, 'grade': 'B'}, {'name': 'jane', 'age': 22, 'grade': 'A'}, {'name': 'dave', 'age': 32, 'grade': 'B'}]\n"
     ]
    }
   ],
   "source": [
    "from operator import itemgetter\n",
    "\n",
    "students = [\n",
    "    {\"name\": \"jane\", \"age\": 22, \"grade\": 'A'},\n",
    "    {\"name\": \"dave\", \"age\": 32, \"grade\": 'B'},\n",
    "    {\"name\": \"sally\", \"age\": 17, \"grade\": 'B'},\n",
    "]\n",
    "\n",
    "result = sorted(students, key=itemgetter('age'))\n",
    "print(result)"
   ]
  },
  {
   "cell_type": "code",
   "execution_count": 20,
   "id": "f8e8b127-b4da-4160-9b36-c61568126e78",
   "metadata": {},
   "outputs": [
    {
     "name": "stdout",
     "output_type": "stream",
     "text": [
      "[<__main__.Student object at 0x000002386CE8E850>, <__main__.Student object at 0x000002386D075400>, <__main__.Student object at 0x000002386CE8EFD0>]\n"
     ]
    }
   ],
   "source": [
    "from operator import attrgetter\n",
    "\n",
    "class Student:\n",
    "    def __init__(self, name, age, grade):\n",
    "        self.name = name\n",
    "        self.age = age\n",
    "        self.grade = grade\n",
    "\n",
    "students = [\n",
    "    Student('jane', 22, 'A'),\n",
    "    Student('dave', 32, 'B'),\n",
    "    Student('sally', 17, 'B'),\n",
    "]\n",
    "\n",
    "result = sorted(students, key=attrgetter('age'))\n",
    "print(result)"
   ]
  },
  {
   "cell_type": "code",
   "execution_count": 26,
   "id": "dc3e65eb-f79d-4940-8b73-2a3c4480bb04",
   "metadata": {},
   "outputs": [
    {
     "data": {
      "text/plain": [
       "'6-2(kjs).ipynb.bak'"
      ]
     },
     "execution_count": 26,
     "metadata": {},
     "output_type": "execute_result"
    }
   ],
   "source": [
    "# shutil 파일을 복사하거나 이동할 때 사용하는 모듈\n",
    "import shutil\n",
    "\n",
    "shutil.copy(\"6-2(kjs).ipynb\",\"6-2(kjs).ipynb.bak\")\n"
   ]
  },
  {
   "cell_type": "code",
   "execution_count": 46,
   "id": "1026a5ef-c9e2-4522-b56f-7f793bc8ec9f",
   "metadata": {},
   "outputs": [],
   "source": [
    "import pickle\n",
    "f = open(\"test.txt\", 'wb')\n",
    "data = {1: 'python', 2: 'you need'}\n",
    "pickle.dump(data, f)\n",
    "f.close()"
   ]
  },
  {
   "cell_type": "code",
   "execution_count": 48,
   "id": "969bc4dc-647f-4ae0-8440-29895f61965b",
   "metadata": {},
   "outputs": [
    {
     "name": "stdout",
     "output_type": "stream",
     "text": [
      "{1: 'python', 2: 'you need'}\n"
     ]
    },
    {
     "data": {
      "text/plain": [
       "{2: 'you need', 1: 'python'}"
      ]
     },
     "execution_count": 48,
     "metadata": {},
     "output_type": "execute_result"
    }
   ],
   "source": [
    "import pickle\n",
    "f = open(\"test.txt\", 'rb')\n",
    "data = pickle.load(f)\n",
    "print(data)\n",
    "{2:'you need', 1:'python'}"
   ]
  },
  {
   "cell_type": "code",
   "execution_count": null,
   "id": "a9fd6302-5a78-4e19-a48a-ede8a5c516b0",
   "metadata": {},
   "outputs": [],
   "source": [
    "# thread_test.py\n",
    "import time\n",
    "\n",
    "def long_task():  # 5초의 시간이 걸리는 함수\n",
    "    for i in range(5):\n",
    "        time.sleep(1)  # 1초간 대기한다.\n",
    "        print(\"working:%s\\n\" % i)\n",
    "\n",
    "print(\"Start\")\n",
    "\n",
    "for i in range(5):  # long_task를 5회 수행한다.\n",
    "    long_task()\n",
    "\n",
    "print(\"End\")"
   ]
  },
  {
   "cell_type": "code",
   "execution_count": 51,
   "id": "188498a0-82a0-4162-97a6-0dfed2157b4b",
   "metadata": {},
   "outputs": [
    {
     "name": "stdout",
     "output_type": "stream",
     "text": [
      "Start\n",
      "End\n",
      "working:0\n",
      "working:0\n",
      "\n",
      "working:0\n",
      "\n",
      "working:0\n",
      "\n",
      "working:0\n",
      "\n",
      "\n",
      "working:1\n",
      "working:1\n",
      "\n",
      "working:1\n",
      "\n",
      "working:1\n",
      "\n",
      "working:1\n",
      "\n",
      "\n",
      "working:2\n",
      "\n",
      "working:2\n",
      "\n",
      "working:2\n",
      "\n",
      "working:2\n",
      "\n",
      "working:2\n",
      "\n",
      "working:3\n",
      "\n",
      "working:3\n",
      "\n",
      "working:3\n",
      "\n",
      "working:3\n",
      "\n",
      "working:3\n",
      "\n",
      "working:4\n",
      "working:4\n",
      "\n",
      "working:4\n",
      "\n",
      "\n",
      "working:4\n",
      "\n",
      "working:4\n",
      "\n"
     ]
    }
   ],
   "source": [
    "# thread_test.py\n",
    "import time\n",
    "import threading  # 스레드를 생성하기 위해서는 threading 모듈이 필요하다.\n",
    "\n",
    "def long_task():\n",
    "    for i in range(5):\n",
    "        time.sleep(1)\n",
    "        print(\"working:%s\\n\" % i)\n",
    "\n",
    "print(\"Start\")\n",
    "\n",
    "threads = []\n",
    "for i in range(5):\n",
    "    t = threading.Thread(target=long_task)  # 스레드를 생성한다.\n",
    "    threads.append(t) \n",
    "\n",
    "for t in threads:\n",
    "    t.start()  # 스레드를 실행한다.\n",
    "\n",
    "print(\"End\")"
   ]
  },
  {
   "cell_type": "code",
   "execution_count": 52,
   "id": "b8413009-2e92-45ca-a8fe-3be7506cd37d",
   "metadata": {},
   "outputs": [
    {
     "name": "stdout",
     "output_type": "stream",
     "text": [
      "Start\n",
      "working:0\n",
      "working:0\n",
      "\n",
      "working:0\n",
      "\n",
      "working:0\n",
      "\n",
      "working:0\n",
      "\n",
      "\n",
      "working:1\n",
      "working:1\n",
      "\n",
      "working:1\n",
      "\n",
      "working:1\n",
      "\n",
      "working:1\n",
      "\n",
      "\n",
      "working:2\n",
      "working:2\n",
      "\n",
      "working:2\n",
      "\n",
      "working:2\n",
      "\n",
      "working:2\n",
      "\n",
      "\n",
      "working:3\n",
      "working:3\n",
      "\n",
      "working:3\n",
      "\n",
      "working:3\n",
      "\n",
      "working:3\n",
      "\n",
      "\n",
      "working:4\n",
      "working:4\n",
      "\n",
      "\n",
      "working:4\n",
      "\n",
      "working:4\n",
      "\n",
      "working:4\n",
      "\n",
      "End\n"
     ]
    }
   ],
   "source": [
    "# thread_test.py\n",
    "import time\n",
    "import threading\n",
    "\n",
    "def long_task():\n",
    "    for i in range(5):\n",
    "        time.sleep(1)\n",
    "        print(\"working:%s\\n\" % i)\n",
    "\n",
    "print(\"Start\")\n",
    "\n",
    "threads = []\n",
    "for i in range(5):\n",
    "    t = threading.Thread(target=long_task)\n",
    "    threads.append(t)\n",
    "\n",
    "for t in threads:\n",
    "    t.start()\n",
    "\n",
    "for t in threads:\n",
    "    t.join()  # join으로 스레드가 종료될때까지 기다린다.\n",
    "\n",
    "print(\"End\")"
   ]
  },
  {
   "cell_type": "markdown",
   "id": "02fc8c27-c85f-45d0-9c19-7b1e936cfa98",
   "metadata": {},
   "source": [
    "# json"
   ]
  },
  {
   "cell_type": "code",
   "execution_count": 2,
   "id": "af8b4afd-a581-43b0-a941-2db9500fcc39",
   "metadata": {},
   "outputs": [
    {
     "data": {
      "text/plain": [
       "{'name': '김지상', 'birth': '1012', 'age': '27'}"
      ]
     },
     "execution_count": 2,
     "metadata": {},
     "output_type": "execute_result"
    }
   ],
   "source": [
    "{\n",
    "    'name':'김지상',\n",
    "    'birth':'1012',\n",
    "    'age' : '27'\n",
    "}"
   ]
  },
  {
   "cell_type": "code",
   "execution_count": 2,
   "id": "7d0b3dd1-0aea-46c5-99ad-03b34e2558b2",
   "metadata": {
    "scrolled": true
   },
   "outputs": [
    {
     "name": "stdout",
     "output_type": "stream",
     "text": [
      "{\"userId\": 1, \"id\": 1, \"title\": \"delectus aut autem\", \"completed\": false, \"test\": \"\\ud55c\\uae00\\ub3c4 \\ub418\\ub098?\"}\n"
     ]
    }
   ],
   "source": [
    "import requests\n",
    "import json\n",
    "url = 'https://jsonplaceholder.typicode.com/todos'\n",
    "data = requests.get(url).json()[0]\n",
    "data['test'] = '한글도 되나?'\n",
    "with open('todo.json','w') as f:\n",
    "    json.dump(data,f)\n",
    "print(json.dumps(data))"
   ]
  },
  {
   "cell_type": "code",
   "execution_count": 3,
   "id": "0b73b199-8e80-4b22-8508-6b2b398bdb7f",
   "metadata": {},
   "outputs": [],
   "source": [
    "with open('todo.json') as f:\n",
    "    data=json.load(f)"
   ]
  },
  {
   "cell_type": "code",
   "execution_count": null,
   "id": "37c8c901-b265-4341-a814-538fe6528416",
   "metadata": {
    "scrolled": true
   },
   "outputs": [],
   "source": [
    "with open('todo.json') as f:\n",
    "    data=json.load(f)\n",
    "print(json.loads(data_s))\n",
    "print(data)"
   ]
  },
  {
   "cell_type": "code",
   "execution_count": 5,
   "id": "ec3e80b3-1cf0-4593-ae03-518fb2afc790",
   "metadata": {},
   "outputs": [],
   "source": [
    ">>> import json\n",
    ">>> data = {'name': '홍길동', 'birth': '0525', 'age': 30}\n",
    ">>> with open('myinfo.json', 'w') as f:\n",
    "...     json.dump(data, f)"
   ]
  },
  {
   "cell_type": "code",
   "execution_count": 6,
   "id": "672b17f6-874c-4ca8-8563-79ba69017795",
   "metadata": {},
   "outputs": [
    {
     "data": {
      "text/plain": [
       "'{\"name\": \"\\\\ud64d\\\\uae38\\\\ub3d9\", \"birth\": \"0525\", \"age\": 30}'"
      ]
     },
     "execution_count": 6,
     "metadata": {},
     "output_type": "execute_result"
    }
   ],
   "source": [
    ">>> import json\n",
    ">>> d = {\"name\":\"홍길동\", \"birth\":\"0525\", \"age\": 30}\n",
    ">>> json_data = json.dumps(d)\n",
    ">>> json_data\n",
    "'{\"name\": \"\\\\ud64d\\\\uae38\\\\ub3d9\", \"birth\": \"0525\", \"age\": 30}'"
   ]
  },
  {
   "cell_type": "code",
   "execution_count": 7,
   "id": "9fd09d7c-c364-48ad-a9e9-1bcd536efc24",
   "metadata": {},
   "outputs": [
    {
     "data": {
      "text/plain": [
       "{'name': '홍길동', 'birth': '0525', 'age': 30}"
      ]
     },
     "execution_count": 7,
     "metadata": {},
     "output_type": "execute_result"
    }
   ],
   "source": [
    ">>> json.loads(json_data)\n",
    "{'name': '홍길동', 'birth': '0525', 'age': 30}"
   ]
  },
  {
   "cell_type": "code",
   "execution_count": 8,
   "id": "b85df961-223d-4676-8fa1-47abc23bbfe2",
   "metadata": {},
   "outputs": [
    {
     "data": {
      "text/plain": [
       "{'name': '홍길동', 'birth': '0525', 'age': 30}"
      ]
     },
     "execution_count": 8,
     "metadata": {},
     "output_type": "execute_result"
    }
   ],
   "source": [
    ">>> d = {\"name\":\"홍길동\", \"birth\":\"0525\", \"age\": 30}\n",
    ">>> json_data = json.dumps(d, ensure_ascii=False)\n",
    ">>> json_data\n",
    "'{\"name\": \"홍길동\", \"birth\": \"0525\", \"age\": 30}'\n",
    ">>> json.loads(json_data)\n",
    "{'name': '홍길동', 'birth': '0525', 'age': 30}"
   ]
  },
  {
   "cell_type": "code",
   "execution_count": 9,
   "id": "59b9d051-935f-4e80-9ad1-11d61b9aeb42",
   "metadata": {},
   "outputs": [
    {
     "name": "stdout",
     "output_type": "stream",
     "text": [
      "{\n",
      "  \"name\": \"홍길동\",\n",
      "  \"birth\": \"0525\",\n",
      "  \"age\": 30\n",
      "}\n"
     ]
    },
    {
     "data": {
      "text/plain": [
       "{'name': '홍길동', 'birth': '0525', 'age': 30}"
      ]
     },
     "execution_count": 9,
     "metadata": {},
     "output_type": "execute_result"
    }
   ],
   "source": [
    ">>> d = {\"name\":\"홍길동\", \"birth\":\"0525\", \"age\": 30}\n",
    ">>> print(json.dumps(d, indent=2, ensure_ascii=False))\n",
    "{\n",
    "  \"name\": \"홍길동\",\n",
    "  \"birth\": \"0525\",\n",
    "  \"age\": 30\n",
    "}"
   ]
  },
  {
   "cell_type": "code",
   "execution_count": 10,
   "id": "0f75e5c3-86e4-4ab1-96f0-3f9c371f18a0",
   "metadata": {},
   "outputs": [
    {
     "data": {
      "text/plain": [
       "'[4, 5, 6]'"
      ]
     },
     "execution_count": 10,
     "metadata": {},
     "output_type": "execute_result"
    }
   ],
   "source": [
    ">>> json.dumps([1,2,3])\n",
    "'[1, 2, 3]'\n",
    ">>> json.dumps((4,5,6))\n",
    "'[4, 5, 6]'"
   ]
  },
  {
   "cell_type": "code",
   "execution_count": 11,
   "id": "1db347c9-1605-4e39-a939-b777a683936b",
   "metadata": {},
   "outputs": [
    {
     "data": {
      "text/plain": [
       "True"
      ]
     },
     "execution_count": 11,
     "metadata": {},
     "output_type": "execute_result"
    }
   ],
   "source": [
    "import webbrowser\n",
    "\n",
    "webbrowser.open_new('http://python.org')"
   ]
  },
  {
   "cell_type": "code",
   "execution_count": 12,
   "id": "fa3c0deb-9240-476b-a7ae-8aac73d76bf8",
   "metadata": {},
   "outputs": [
    {
     "data": {
      "text/plain": [
       "True"
      ]
     },
     "execution_count": 12,
     "metadata": {},
     "output_type": "execute_result"
    }
   ],
   "source": [
    "webbrowser.open('http://python.org')"
   ]
  },
  {
   "cell_type": "markdown",
   "id": "69c30d88-f438-4f77-b1d8-c2ec84f06ce6",
   "metadata": {},
   "source": [
    "## 외부 라이브러리"
   ]
  },
  {
   "cell_type": "code",
   "execution_count": 13,
   "id": "464213c6-ba47-4f9b-aed6-6a0ae5e1c865",
   "metadata": {},
   "outputs": [
    {
     "name": "stdout",
     "output_type": "stream",
     "text": [
      "Collecting SomePackage\n",
      "  Downloading somepackage-1.2.3.tar.gz (8.6 kB)\n",
      "  Installing build dependencies: started\n",
      "  Installing build dependencies: finished with status 'done'\n",
      "  Getting requirements to build wheel: started\n",
      "  Getting requirements to build wheel: finished with status 'done'\n",
      "  Preparing metadata (pyproject.toml): started\n",
      "  Preparing metadata (pyproject.toml): finished with status 'done'\n",
      "Building wheels for collected packages: SomePackage\n",
      "  Building wheel for SomePackage (pyproject.toml): started\n",
      "  Building wheel for SomePackage (pyproject.toml): finished with status 'done'\n",
      "  Created wheel for SomePackage: filename=somepackage-1.2.3-py3-none-any.whl size=9346 sha256=cb92a5c789dee4e33f6faec250e7b9b0ad8e31586f5fab286eb26df29fb69351\n",
      "  Stored in directory: c:\\users\\admin\\appdata\\local\\pip\\cache\\wheels\\60\\7e\\87\\eb9d133b2b10adcda155499227e1df823e4646d10064027d3a\n",
      "Successfully built SomePackage\n",
      "Installing collected packages: SomePackage\n",
      "Successfully installed SomePackage-1.2.3\n",
      "Note: you may need to restart the kernel to use updated packages.\n"
     ]
    }
   ],
   "source": [
    "pip install SomePackage"
   ]
  },
  {
   "cell_type": "code",
   "execution_count": 14,
   "id": "54d2b8c9-9e07-44f8-8271-ad92bc08194f",
   "metadata": {},
   "outputs": [
    {
     "name": "stdout",
     "output_type": "stream",
     "text": [
      "Collecting Faker\n",
      "  Downloading Faker-36.1.1-py3-none-any.whl.metadata (15 kB)\n",
      "Collecting tzdata (from Faker)\n",
      "  Downloading tzdata-2025.1-py2.py3-none-any.whl.metadata (1.4 kB)\n",
      "Downloading Faker-36.1.1-py3-none-any.whl (1.9 MB)\n",
      "   ---------------------------------------- 0.0/1.9 MB ? eta -:--:--\n",
      "   ---------------------------------------- 1.9/1.9 MB 56.7 MB/s eta 0:00:00\n",
      "Downloading tzdata-2025.1-py2.py3-none-any.whl (346 kB)\n",
      "Installing collected packages: tzdata, Faker\n",
      "Successfully installed Faker-36.1.1 tzdata-2025.1\n"
     ]
    }
   ],
   "source": [
    "!pip install Faker"
   ]
  },
  {
   "cell_type": "code",
   "execution_count": null,
   "id": "8cef7f2c-f441-4942-a738-24cd4bb010f3",
   "metadata": {},
   "outputs": [],
   "source": [
    "# !pip install Faker"
   ]
  },
  {
   "cell_type": "code",
   "execution_count": 17,
   "id": "7896ad61-3238-4aa0-99de-46b5124ef200",
   "metadata": {},
   "outputs": [
    {
     "data": {
      "text/plain": [
       "[{'name': '강영미',\n",
       "  'id': 'iyeongja',\n",
       "  'phone': '031-028-8163',\n",
       "  'email': 'ryujiu@example.org'},\n",
       " {'name': '지영숙',\n",
       "  'id': 'minyeeun',\n",
       "  'phone': '051-037-2575',\n",
       "  'email': 'gimyeongil@example.org'},\n",
       " {'name': '김영미',\n",
       "  'id': 'coeyeongmi',\n",
       "  'phone': '052-430-6028',\n",
       "  'email': 'mgwag@example.org'},\n",
       " {'name': '김수진',\n",
       "  'id': 'seojun22',\n",
       "  'phone': '063-281-0106',\n",
       "  'email': 'subini@example.net'},\n",
       " {'name': '박서윤',\n",
       "  'id': 'ljo',\n",
       "  'phone': '051-655-0828',\n",
       "  'email': 'hayuni@example.org'},\n",
       " {'name': '이지은',\n",
       "  'id': 'siu33',\n",
       "  'phone': '070-8098-4991',\n",
       "  'email': 'ganghyeonju@example.com'},\n",
       " {'name': '이경수',\n",
       "  'id': 'bagmigyeong',\n",
       "  'phone': '051-010-6885',\n",
       "  'email': 'juweongim@example.com'},\n",
       " {'name': '박상훈',\n",
       "  'id': 'junyeong21',\n",
       "  'phone': '064-724-6378',\n",
       "  'email': 'ogsun26@example.org'},\n",
       " {'name': '황경숙',\n",
       "  'id': 'kbaeg',\n",
       "  'phone': '010-2767-6529',\n",
       "  'email': 'dohyeonmun@example.org'},\n",
       " {'name': '조정희',\n",
       "  'id': 'ui',\n",
       "  'phone': '010-2717-2904',\n",
       "  'email': 'gimgyeongsug@example.net'}]"
      ]
     },
     "execution_count": 17,
     "metadata": {},
     "output_type": "execute_result"
    }
   ],
   "source": [
    "from faker import Faker\n",
    "fake = Faker('ko-KR')\n",
    "[{'name':fake.name(),'id':fake.user_name(),'phone':fake.phone_number(),'email':fake.email()} for n in range(10)]"
   ]
  },
  {
   "cell_type": "code",
   "execution_count": 22,
   "id": "76a3ae66-367d-4968-b40e-98b753dd228d",
   "metadata": {},
   "outputs": [
    {
     "name": "stdout",
     "output_type": "stream",
     "text": [
      "1위: REBEL HEART / IVE (아이브)\n"
     ]
    }
   ],
   "source": [
    "import requests as req\n",
    "from bs4 import BeautifulSoup as bs\n",
    "url = \"https://www.melon.com/chart/index.htm\"\n",
    "headers = {'User-Agent':'Mozilla/5.0 (Windows NT 10.0; Win64; x64) AppleWebKit/537.36 (KHTML, like Gecko) Chrome/133.0.0.0 Safari/537.36 Edg/133.0.0.0'}\n",
    "web = req.get(url, headers = headers)\n",
    "soup = bs(web.content, 'html.parser')\n",
    "\n",
    "title = soup.select_one('.wrap_song_info')\n",
    "atitle = title.select_one('a')\n",
    "\n",
    "aname0 = title.select_one('.checkEllipsis')\n",
    "aname = aname0.select_one('a')\n",
    "print('1위:',atitle.text,'/', aname.text)"
   ]
  },
  {
   "cell_type": "code",
   "execution_count": 3,
   "id": "895f9a76-0c7c-4f4c-8196-fd06759fdd2c",
   "metadata": {},
   "outputs": [
    {
     "name": "stdout",
     "output_type": "stream",
     "text": [
      "1위: REBEL HEART / IVE (아이브)\n",
      "2위: HOME SWEET HOME (feat. 태양, 대성) / G-DRAGON\n",
      "3위: 나는 반딧불 / 황가람\n",
      "4위: Whiplash / aespa\n",
      "5위: APT. / 로제 (ROSÉ)\n",
      "6위: Drowning / Bruno Mars\n",
      "7위: ATTITUDE / WOODZ\n",
      "8위: 오늘만 I LOVE YOU / IVE (아이브)\n",
      "9위: Dash / BOYNEXTDOOR\n",
      "10위: toxic till the end / PLAVE\n",
      "11위: 모르시나요(PROD.로코베리) / 로제 (ROSÉ)\n",
      "12위: POWER / 조째즈\n",
      "13위: RIZZ / G-DRAGON\n",
      "14위: HAPPY / PLAVE\n",
      "15위: Chroma Drift / DAY6 (데이식스)\n",
      "16위: 내게 사랑이 뭐냐고 물어본다면 / PLAVE\n",
      "17위: Island / 로이킴\n",
      "18위: 12:32 (A to T) / PLAVE\n",
      "19위: 사랑은 늘 도망가 / PLAVE\n",
      "20위: DRIP / 임영웅\n",
      " "
     ]
    }
   ],
   "source": [
    "import requests as req\n",
    "from bs4 import BeautifulSoup as bs\n",
    "url = \"https://www.melon.com/chart/index.htm\"\n",
    "headers = {'User-Agent':'Mozilla/5.0 (Windows NT 10.0; Win64; x64) AppleWebKit/537.36 (KHTML, like Gecko) Chrome/133.0.0.0 Safari/537.36 Edg/133.0.0.0'}\n",
    "web = req.get(url, headers = headers)\n",
    "soup = bs(web.content, 'html.parser')\n",
    "\n",
    "title = soup.select('.rank01')[:20]\n",
    "name = soup.select('.checkEllipsis a')[:20]\n",
    "str = ''\n",
    "for i, (t, n) in enumerate(zip(title, name),1):\n",
    "    str += f'{i}위: {t.text.strip()} / {n.text}\\n' \n",
    "print(str,end=' ')"
   ]
  },
  {
   "cell_type": "code",
   "execution_count": 2,
   "id": "17527247-67fc-49c5-a34b-f96bc7aa5046",
   "metadata": {},
   "outputs": [
    {
     "name": "stdout",
     "output_type": "stream",
     "text": [
      "Requirement already satisfied: requests in c:\\users\\admin\\appdata\\local\\programs\\python\\python313\\lib\\site-packages (2.32.3)\n",
      "Requirement already satisfied: beautifulsoup4 in c:\\users\\admin\\appdata\\local\\programs\\python\\python313\\lib\\site-packages (4.13.0)\n",
      "Requirement already satisfied: charset-normalizer<4,>=2 in c:\\users\\admin\\appdata\\local\\programs\\python\\python313\\lib\\site-packages (from requests) (3.4.1)\n",
      "Requirement already satisfied: idna<4,>=2.5 in c:\\users\\admin\\appdata\\local\\programs\\python\\python313\\lib\\site-packages (from requests) (3.10)\n",
      "Requirement already satisfied: urllib3<3,>=1.21.1 in c:\\users\\admin\\appdata\\local\\programs\\python\\python313\\lib\\site-packages (from requests) (2.3.0)\n",
      "Requirement already satisfied: certifi>=2017.4.17 in c:\\users\\admin\\appdata\\local\\programs\\python\\python313\\lib\\site-packages (from requests) (2025.1.31)\n",
      "Requirement already satisfied: soupsieve>1.2 in c:\\users\\admin\\appdata\\local\\programs\\python\\python313\\lib\\site-packages (from beautifulsoup4) (2.6)\n",
      "Requirement already satisfied: typing-extensions in c:\\users\\admin\\appdata\\local\\programs\\python\\python313\\lib\\site-packages (from beautifulsoup4) (4.12.2)\n"
     ]
    }
   ],
   "source": [
    "!pip install requests beautifulsoup4"
   ]
  },
  {
   "cell_type": "code",
   "execution_count": 3,
   "id": "240076be-11b8-4562-915a-2a21e18032ae",
   "metadata": {},
   "outputs": [
    {
     "name": "stdout",
     "output_type": "stream",
     "text": [
      "Collecting html5lib\n",
      "  Downloading html5lib-1.1-py2.py3-none-any.whl.metadata (16 kB)\n",
      "Requirement already satisfied: six>=1.9 in c:\\users\\admin\\appdata\\local\\programs\\python\\python313\\lib\\site-packages (from html5lib) (1.17.0)\n",
      "Requirement already satisfied: webencodings in c:\\users\\admin\\appdata\\local\\programs\\python\\python313\\lib\\site-packages (from html5lib) (0.5.1)\n",
      "Downloading html5lib-1.1-py2.py3-none-any.whl (112 kB)\n",
      "Installing collected packages: html5lib\n",
      "Successfully installed html5lib-1.1\n"
     ]
    }
   ],
   "source": [
    "!pip install html5lib"
   ]
  },
  {
   "cell_type": "code",
   "execution_count": 12,
   "id": "1af2a8ca-f819-464f-9eea-255eae521bce",
   "metadata": {
    "scrolled": true
   },
   "outputs": [
    {
     "name": "stdout",
     "output_type": "stream",
     "text": [
      "===============\n",
      "월 2025.02.17\n",
      "정식-5,500원\n",
      "강황밥\n",
      "김치콩나물국\n",
      "돈육바싹불고기\n",
      "모듬잡채\n",
      "멸치새우견과볶음\n",
      "상추겉절이\n",
      "포기김치\n",
      "\n",
      "---------------\n",
      "===============\n",
      "화 2025.02.18\n",
      "정식-5,500원\n",
      "백미밥\n",
      "물만두국\n",
      "순살닭매콤조림\n",
      "쫄면야채무침\n",
      "파래무무침\n",
      "참나물겉절이\n",
      "포기김치\n",
      "\n",
      "---------------\n",
      "===============\n",
      "수 2025.02.19\n",
      "정식-5,500원\n",
      "백미밥\n",
      "모듬어묵국\n",
      "함박스테이크/치즈/소스\n",
      "스파게티/소스\n",
      "치커리유자청샐러드\n",
      "콩나물무침\n",
      "포기김치\n",
      "\n",
      "---------------\n",
      "===============\n",
      "목 2025.02.20\n",
      "정식-5,500원\n",
      "잡곡밥\n",
      "홍합미역국\n",
      "순살치킨/맛초킹소스\n",
      "꼬시레기두부무침\n",
      "잡채어묵조림\n",
      "상추겉절이\n",
      "포기김치\n",
      "\n",
      "---------------\n",
      "===============\n",
      "금 2025.02.21\n",
      "정식-5,500원\n",
      "백미밥\n",
      "국수\n",
      "깐풍기/소스\n",
      "알감자버터구이\n",
      "도토리묵김치무침\n",
      "열무겉절이\n",
      "포기김치\n",
      "\n",
      "---------------\n"
     ]
    }
   ],
   "source": [
    "import requests as req\n",
    "from bs4 import BeautifulSoup as bs\n",
    "url = \"https://www.pusan.ac.kr/kor/CMS/MenuMgr/menuListOnBuilding.do?mCode=MN202\"\n",
    "headers = {'User-Agent':'Mozilla/5.0 (Windows NT 10.0; Win64; x64) AppleWebKit/537.36 (KHTML, like Gecko) Chrome/133.0.0.0 Safari/537.36 Edg/133.0.0.0'}\n",
    "web = req.get(url, headers = headers)\n",
    "soup = bs(web.content, 'html5lib')\n",
    "menucard = soup.select('.menu-tbl')\n",
    "won = soup.select('.menu-tit01')\n",
    "menu = soup.select('h3.menu-tit01+p')\n",
    "day=soup.select('.day')\n",
    "date=soup.select('.date')\n",
    "#print(day,date)\n",
    "for d,dd,w,m in zip(day,date,won,menu):\n",
    "    print('='*15)\n",
    "    print(d.text,dd.text)\n",
    "    print(w.text+'\\n'+ m.text)\n",
    "    print('-'*15)"
   ]
  },
  {
   "cell_type": "code",
   "execution_count": 9,
   "id": "5e43193f-ff15-4be8-9adc-08cec18c1753",
   "metadata": {},
   "outputs": [
    {
     "name": "stdout",
     "output_type": "stream",
     "text": [
      "1위: 삼성전자 / 58,800\n",
      "2위: SK하이닉스 / \n",
      "상승\n",
      "\t\t\t\t100\n",
      "\t\t\t\t\n",
      "\n",
      "3위: LG에너지솔루션 / \n",
      "\n",
      "\t\t\t\t+0.17%\n",
      "\t\t\t\t\n",
      "\n",
      "4위: 삼성바이오로직스 / 100\n",
      "5위: 현대차 / 3,510,232\n",
      "6위: 삼성전자우 / 5,969,783\n",
      "7위: 셀트리온 / 50.03\n",
      "8위: 기아 / 11,876,058\n",
      "9위: NAVER / 11.88\n",
      "10위: KB금융 / 9.03\n",
      "11위: 한화에어로스페이스 / 217,000\n",
      "12위: HD현대중공업 / \n",
      "하락\n",
      "\t\t\t\t1,500\n",
      "\t\t\t\t\n",
      "\n",
      "13위: 신한지주 / \n",
      "\n",
      "\t\t\t\t-0.69%\n",
      "\t\t\t\t\n",
      "\n",
      "14위: 메리츠금융지주 / 5,000\n",
      "15위: 삼성물산 / 1,579,765\n",
      "16위: 현대모비스 / 728,002\n",
      "17위: 한화오션 / 56.08\n",
      "18위: POSCO홀딩스 / 995,984\n",
      "19위: 삼성생명 / 15.15\n",
      "20위: SK이노베이션 / -15.61\n",
      "\n"
     ]
    }
   ],
   "source": [
    "import requests as req\n",
    "from bs4 import BeautifulSoup as bs\n",
    "url = \"https://finance.naver.com/sise/sise_market_sum.naver\"\n",
    "headers = {'User-Agent':\"Mozilla/5.0 (Windows NT 10.0; Win64; x64) AppleWebKit/537.36 (KHTML, like Gecko) Chrome/132.0.0.0 Safari/537.36\"}\n",
    "web = req.get(url, headers = headers)\n",
    "soup = bs(web.content, 'html.parser')\n",
    "\n",
    "title = soup.select('a.tltle')[:20]\n",
    "name = soup.select('td.number')[:20]\n",
    "str = ''\n",
    "for i, (t, n) in enumerate(zip(title, name),1):\n",
    "    str += f'{i}위: {t.text.strip()} / {n.text}\\n' \n",
    "print(str,end=' ')"
   ]
  },
  {
   "cell_type": "code",
   "execution_count": null,
   "id": "65700e76-9755-4d95-bde3-28badada5af5",
   "metadata": {},
   "outputs": [],
   "source": []
  }
 ],
 "metadata": {
  "kernelspec": {
   "display_name": "Python 3 (ipykernel)",
   "language": "python",
   "name": "python3"
  },
  "language_info": {
   "codemirror_mode": {
    "name": "ipython",
    "version": 3
   },
   "file_extension": ".py",
   "mimetype": "text/x-python",
   "name": "python",
   "nbconvert_exporter": "python",
   "pygments_lexer": "ipython3",
   "version": "3.13.1"
  }
 },
 "nbformat": 4,
 "nbformat_minor": 5
}
