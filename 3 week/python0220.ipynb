{
 "cells": [
  {
   "cell_type": "code",
   "execution_count": 1,
   "id": "f6e08497-1696-40c0-80dc-add98fe83852",
   "metadata": {},
   "outputs": [
    {
     "name": "stdout",
     "output_type": "stream",
     "text": [
      "1위: 삼성전자 / 58,800\n",
      "2위: SK하이닉스 / \n",
      "상승\n",
      "\t\t\t\t100\n",
      "\t\t\t\t\n",
      "\n",
      "3위: LG에너지솔루션 / \n",
      "\n",
      "\t\t\t\t+0.17%\n",
      "\t\t\t\t\n",
      "\n",
      "4위: 삼성바이오로직스 / 100\n",
      "5위: 현대차 / 3,510,232\n",
      "6위: 삼성전자우 / 5,969,783\n",
      "7위: 셀트리온 / 50.03\n",
      "8위: 기아 / 12,489,744\n",
      "9위: NAVER / 11.88\n",
      "10위: KB금융 / 9.03\n",
      "11위: 한화에어로스페이스 / 217,500\n",
      "12위: HD현대중공업 / \n",
      "하락\n",
      "\t\t\t\t1,000\n",
      "\t\t\t\t\n",
      "\n",
      "13위: 신한지주 / \n",
      "\n",
      "\t\t\t\t-0.46%\n",
      "\t\t\t\t\n",
      "\n",
      "14위: 삼성물산 / 5,000\n",
      "15위: 현대모비스 / 1,583,405\n",
      "16위: 메리츠금융지주 / 728,002\n",
      "17위: 한화오션 / 56.08\n",
      "18위: POSCO홀딩스 / 1,108,119\n",
      "19위: 삼성생명 / 15.18\n",
      "20위: SK이노베이션 / -15.61\n",
      " "
     ]
    }
   ],
   "source": [
    "import requests as req\n",
    "from bs4 import BeautifulSoup as bs\n",
    "url = \"https://finance.naver.com/sise/sise_market_sum.naver\"\n",
    "headers = {'User-Agent':\"Mozilla/5.0 (Windows NT 10.0; Win64; x64) AppleWebKit/537.36 (KHTML, like Gecko) Chrome/132.0.0.0 Safari/537.36\"}\n",
    "web = req.get(url, headers = headers)\n",
    "soup = bs(web.content, 'html.parser')\n",
    "\n",
    "title = soup.select('a.tltle')[:20]\n",
    "name = soup.select('td.number')[:20]\n",
    "str = ''\n",
    "for i, (t, n) in enumerate(zip(title, name),1):\n",
    "    str += f'{i}위: {t.text.strip()} / {n.text}\\n' \n",
    "print(str,end=' ')"
   ]
  },
  {
   "cell_type": "code",
   "execution_count": null,
   "id": "9783b85d-60a9-48ca-8244-dda0b90e7c6b",
   "metadata": {},
   "outputs": [],
   "source": []
  }
 ],
 "metadata": {
  "kernelspec": {
   "display_name": "Python 3 (ipykernel)",
   "language": "python",
   "name": "python3"
  },
  "language_info": {
   "codemirror_mode": {
    "name": "ipython",
    "version": 3
   },
   "file_extension": ".py",
   "mimetype": "text/x-python",
   "name": "python",
   "nbconvert_exporter": "python",
   "pygments_lexer": "ipython3",
   "version": "3.13.1"
  }
 },
 "nbformat": 4,
 "nbformat_minor": 5
}
