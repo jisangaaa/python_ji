{
 "cells": [
  {
   "cell_type": "markdown",
   "id": "2e3babaf-1537-49eb-9c72-5fb89e26d74a",
   "metadata": {},
   "source": [
    "# 내장함수"
   ]
  },
  {
   "cell_type": "code",
   "execution_count": 4,
   "id": "63af55c1-bb92-47c6-a3fb-9389e83870a9",
   "metadata": {},
   "outputs": [],
   "source": [
    "# dir 객체가 가지고 있는 함수(메서드)를 보여줌\n",
    "# dir([1,2,3])\n",
    "# dir({'1':'a'})"
   ]
  },
  {
   "cell_type": "code",
   "execution_count": 5,
   "id": "4f62200f-f31a-4e91-87cc-20c8dee8e404",
   "metadata": {},
   "outputs": [
    {
     "name": "stdout",
     "output_type": "stream",
     "text": [
      "(4, 1)\n",
      "4 1\n"
     ]
    }
   ],
   "source": [
    "# divmod 몫과 나머지\n",
    "print(divmod(13,3))\n",
    "print(13//3,13%3)\n"
   ]
  },
  {
   "cell_type": "code",
   "execution_count": 10,
   "id": "67914bc1-36cf-45c8-af99-735623adba4d",
   "metadata": {},
   "outputs": [
    {
     "name": "stdout",
     "output_type": "stream",
     "text": [
      "1 번째는 apple\n",
      "2 번째는 banana\n",
      "3 번째는 kiwi\n",
      "4 번째는 cherry\n",
      "5 번째는 mango\n"
     ]
    }
   ],
   "source": [
    "# enumerate * 열거하다\n",
    "fruit = ['apple','banana','kiwi','cherry','mango']\n",
    "for i,f in enumerate(fruit, start=1):\n",
    "    print(i,'번째는',f)"
   ]
  },
  {
   "cell_type": "code",
   "execution_count": 11,
   "id": "6f3d6d46-1ead-43f5-b1bf-5ef6de62c899",
   "metadata": {},
   "outputs": [
    {
     "data": {
      "text/plain": [
       "3"
      ]
     },
     "execution_count": 11,
     "metadata": {},
     "output_type": "execute_result"
    }
   ],
   "source": [
    "eval('1+2')"
   ]
  },
  {
   "cell_type": "code",
   "execution_count": 12,
   "id": "95d3ce51-6341-4415-847c-498c9fa5429a",
   "metadata": {},
   "outputs": [
    {
     "data": {
      "text/plain": [
       "'KIA'"
      ]
     },
     "execution_count": 12,
     "metadata": {},
     "output_type": "execute_result"
    }
   ],
   "source": [
    "eval(\"'KI'+'A'\")"
   ]
  },
  {
   "cell_type": "code",
   "execution_count": 15,
   "id": "9f6bbe7d-9121-4d92-8751-f4e8a215f35b",
   "metadata": {},
   "outputs": [
    {
     "data": {
      "text/plain": [
       "(1, 1)"
      ]
     },
     "execution_count": 15,
     "metadata": {},
     "output_type": "execute_result"
    }
   ],
   "source": [
    "eval('divmod(4,3)')"
   ]
  },
  {
   "cell_type": "code",
   "execution_count": 16,
   "id": "8da9e59b-de66-41d0-896b-e5d6ffa7e19e",
   "metadata": {},
   "outputs": [
    {
     "name": "stdout",
     "output_type": "stream",
     "text": [
      "[1, 2, 6]\n"
     ]
    }
   ],
   "source": [
    "def positive(l):\n",
    "    result = []\n",
    "    for i in l:\n",
    "        if i >0:\n",
    "            result.append(i)\n",
    "    return result\n",
    "\n",
    "print(positive([1,-3,2,0,-5,6]))\n",
    "    "
   ]
  },
  {
   "cell_type": "code",
   "execution_count": 22,
   "id": "ffcc7baf-2755-4046-8592-6724cf2b4ef9",
   "metadata": {},
   "outputs": [
    {
     "name": "stdout",
     "output_type": "stream",
     "text": [
      "[1, 2, 6]\n"
     ]
    }
   ],
   "source": [
    "def pos(l):\n",
    "    return [i for i in l if i > 0]\n",
    "print(pos([1,-3,2,0,-5,6]))"
   ]
  },
  {
   "cell_type": "code",
   "execution_count": 28,
   "id": "4825daed-7fd0-4ee0-afb2-e12171c63d3f",
   "metadata": {},
   "outputs": [
    {
     "data": {
      "text/plain": [
       "[1, 2, 6]"
      ]
     },
     "execution_count": 28,
     "metadata": {},
     "output_type": "execute_result"
    }
   ],
   "source": [
    "def positive(x):\n",
    "    return x > 0\n",
    "l = [1,-3,2,0,-5,6]\n",
    "list(filter(positive,l))"
   ]
  },
  {
   "cell_type": "code",
   "execution_count": 17,
   "id": "e914446a-e0f3-4aa8-8a1a-c2ab1d38ab19",
   "metadata": {},
   "outputs": [
    {
     "name": "stdout",
     "output_type": "stream",
     "text": [
      "[1, 2, 6]\n"
     ]
    }
   ],
   "source": [
    "def positive(x):\n",
    "    return x >0\n",
    "\n",
    "print(list(filter(positive,[1,-3,2,0,-5,6])))"
   ]
  },
  {
   "cell_type": "code",
   "execution_count": 18,
   "id": "7b50dfb9-7c3f-4421-a061-05d9bf6a64a8",
   "metadata": {},
   "outputs": [
    {
     "data": {
      "text/plain": [
       "[1, 2, 6]"
      ]
     },
     "execution_count": 18,
     "metadata": {},
     "output_type": "execute_result"
    }
   ],
   "source": [
    "list(filter(lambda x: x > 0,[1,-3,2,0,-5,6]))"
   ]
  },
  {
   "cell_type": "code",
   "execution_count": 19,
   "id": "2254ce73-6992-493c-9504-130cf181afb2",
   "metadata": {},
   "outputs": [
    {
     "data": {
      "text/plain": [
       "'0xea'"
      ]
     },
     "execution_count": 19,
     "metadata": {},
     "output_type": "execute_result"
    }
   ],
   "source": [
    "hex(234)"
   ]
  },
  {
   "cell_type": "code",
   "execution_count": 20,
   "id": "57638d14-93a4-46b5-948e-df450d084f3e",
   "metadata": {},
   "outputs": [
    {
     "data": {
      "text/plain": [
       "'0x2'"
      ]
     },
     "execution_count": 20,
     "metadata": {},
     "output_type": "execute_result"
    }
   ],
   "source": [
    "hex(2)"
   ]
  },
  {
   "cell_type": "code",
   "execution_count": 29,
   "id": "47146f86-8a8e-49fe-8de4-2f4178540076",
   "metadata": {},
   "outputs": [
    {
     "data": {
      "text/plain": [
       "140719840625640"
      ]
     },
     "execution_count": 29,
     "metadata": {},
     "output_type": "execute_result"
    }
   ],
   "source": [
    "a=3\n",
    "id(3)"
   ]
  },
  {
   "cell_type": "code",
   "execution_count": 30,
   "id": "884ce33d-a4de-4c34-9493-9568a74c8323",
   "metadata": {},
   "outputs": [
    {
     "data": {
      "text/plain": [
       "140719840625640"
      ]
     },
     "execution_count": 30,
     "metadata": {},
     "output_type": "execute_result"
    }
   ],
   "source": [
    "id(a)"
   ]
  },
  {
   "cell_type": "code",
   "execution_count": 31,
   "id": "d4c5bad9-8e25-4d22-87a9-2d6e571dbe12",
   "metadata": {},
   "outputs": [
    {
     "data": {
      "text/plain": [
       "140719840625640"
      ]
     },
     "execution_count": 31,
     "metadata": {},
     "output_type": "execute_result"
    }
   ],
   "source": [
    "b=a\n",
    "id(b)"
   ]
  },
  {
   "cell_type": "code",
   "execution_count": 33,
   "id": "b3b6b423-6c8d-4bfd-911b-8556d9bb4fe9",
   "metadata": {},
   "outputs": [
    {
     "name": "stdin",
     "output_type": "stream",
     "text": [
      " hi\n"
     ]
    }
   ],
   "source": [
    "a = input()"
   ]
  },
  {
   "cell_type": "code",
   "execution_count": 34,
   "id": "dafc15ba-6b2c-4909-b8ce-cf274f294da8",
   "metadata": {},
   "outputs": [
    {
     "data": {
      "text/plain": [
       "'hi'"
      ]
     },
     "execution_count": 34,
     "metadata": {},
     "output_type": "execute_result"
    }
   ],
   "source": [
    "a"
   ]
  },
  {
   "cell_type": "code",
   "execution_count": 37,
   "id": "c3178194-b04f-4160-9cb4-a11c6fc21cb9",
   "metadata": {},
   "outputs": [
    {
     "name": "stdin",
     "output_type": "stream",
     "text": [
      "Enter:  hi\n"
     ]
    }
   ],
   "source": [
    "b=input('Enter: ')"
   ]
  },
  {
   "cell_type": "code",
   "execution_count": 38,
   "id": "00bec7f3-1237-4238-9a6f-a0fc3de4b71b",
   "metadata": {},
   "outputs": [
    {
     "data": {
      "text/plain": [
       "'hi'"
      ]
     },
     "execution_count": 38,
     "metadata": {},
     "output_type": "execute_result"
    }
   ],
   "source": [
    "b"
   ]
  },
  {
   "cell_type": "code",
   "execution_count": 39,
   "id": "4b05b877-334a-46d0-9745-bf3380ea0321",
   "metadata": {},
   "outputs": [
    {
     "data": {
      "text/plain": [
       "3"
      ]
     },
     "execution_count": 39,
     "metadata": {},
     "output_type": "execute_result"
    }
   ],
   "source": [
    "int('3')"
   ]
  },
  {
   "cell_type": "code",
   "execution_count": 40,
   "id": "011953c0-7106-4961-932b-2cc2f2b8a25a",
   "metadata": {},
   "outputs": [
    {
     "data": {
      "text/plain": [
       "3"
      ]
     },
     "execution_count": 40,
     "metadata": {},
     "output_type": "execute_result"
    }
   ],
   "source": [
    "int(3.4)"
   ]
  },
  {
   "cell_type": "code",
   "execution_count": 41,
   "id": "50fb6748-db81-41e9-9fce-6b3d296fab9d",
   "metadata": {},
   "outputs": [
    {
     "data": {
      "text/plain": [
       "3"
      ]
     },
     "execution_count": 41,
     "metadata": {},
     "output_type": "execute_result"
    }
   ],
   "source": [
    "int('11',2)"
   ]
  },
  {
   "cell_type": "code",
   "execution_count": 42,
   "id": "4cf18e0c-bdcc-4fcc-9081-313b6bb7fcd2",
   "metadata": {},
   "outputs": [
    {
     "data": {
      "text/plain": [
       "26"
      ]
     },
     "execution_count": 42,
     "metadata": {},
     "output_type": "execute_result"
    }
   ],
   "source": [
    "int('1A',16)"
   ]
  },
  {
   "cell_type": "code",
   "execution_count": 43,
   "id": "0cf05872-0440-4fc0-895d-910f95b6248c",
   "metadata": {},
   "outputs": [
    {
     "data": {
      "text/plain": [
       "True"
      ]
     },
     "execution_count": 43,
     "metadata": {},
     "output_type": "execute_result"
    }
   ],
   "source": [
    "class person:pass\n",
    "\n",
    "a=person()\n",
    "isinstance(a,person)"
   ]
  },
  {
   "cell_type": "code",
   "execution_count": 44,
   "id": "f3118514-f0e6-4711-8a28-809f9340b0f0",
   "metadata": {},
   "outputs": [
    {
     "data": {
      "text/plain": [
       "False"
      ]
     },
     "execution_count": 44,
     "metadata": {},
     "output_type": "execute_result"
    }
   ],
   "source": [
    "b=3\n",
    "isinstance(b,person)"
   ]
  },
  {
   "cell_type": "code",
   "execution_count": 45,
   "id": "8e14b6ad-92be-45e2-abc3-4c67b308d6df",
   "metadata": {},
   "outputs": [
    {
     "data": {
      "text/plain": [
       "6"
      ]
     },
     "execution_count": 45,
     "metadata": {},
     "output_type": "execute_result"
    }
   ],
   "source": [
    "len('ptthon')"
   ]
  },
  {
   "cell_type": "code",
   "execution_count": 46,
   "id": "a1382d13-43f9-4a0e-acd5-5344d500418f",
   "metadata": {},
   "outputs": [
    {
     "data": {
      "text/plain": [
       "3"
      ]
     },
     "execution_count": 46,
     "metadata": {},
     "output_type": "execute_result"
    }
   ],
   "source": [
    "len([1,2,3])"
   ]
  },
  {
   "cell_type": "code",
   "execution_count": 47,
   "id": "26d1de98-646a-41fe-8569-ef4edfffdc5b",
   "metadata": {},
   "outputs": [
    {
     "data": {
      "text/plain": [
       "2"
      ]
     },
     "execution_count": 47,
     "metadata": {},
     "output_type": "execute_result"
    }
   ],
   "source": [
    "len((1,'a'))"
   ]
  },
  {
   "cell_type": "code",
   "execution_count": 48,
   "id": "544013b6-0b65-4806-896c-6eb8d1cd18b3",
   "metadata": {},
   "outputs": [
    {
     "data": {
      "text/plain": [
       "['p', 'y', 't', 'h', 'o', 'n']"
      ]
     },
     "execution_count": 48,
     "metadata": {},
     "output_type": "execute_result"
    }
   ],
   "source": [
    "list('python')"
   ]
  },
  {
   "cell_type": "code",
   "execution_count": 50,
   "id": "01e0f5ba-f4ec-4877-bc18-f894cbb23abb",
   "metadata": {},
   "outputs": [
    {
     "data": {
      "text/plain": [
       "[1, 2, 3]"
      ]
     },
     "execution_count": 50,
     "metadata": {},
     "output_type": "execute_result"
    }
   ],
   "source": [
    "list((1,2,3))"
   ]
  },
  {
   "cell_type": "code",
   "execution_count": 51,
   "id": "ded978ef-136f-4033-a2a1-6639d71b77e1",
   "metadata": {},
   "outputs": [
    {
     "data": {
      "text/plain": [
       "[1, 2, 3]"
      ]
     },
     "execution_count": 51,
     "metadata": {},
     "output_type": "execute_result"
    }
   ],
   "source": [
    "a=[1,2,3]\n",
    "b=list(a)\n",
    "b"
   ]
  },
  {
   "cell_type": "code",
   "execution_count": 52,
   "id": "aa46ac7b-de55-4a18-958e-17aeb02ace7a",
   "metadata": {},
   "outputs": [
    {
     "name": "stdout",
     "output_type": "stream",
     "text": [
      "[2, 4, 6, 8]\n"
     ]
    }
   ],
   "source": [
    "def two_times(numberList):\n",
    "    result = []\n",
    "    for number in numberList:\n",
    "        result.append(number*2)\n",
    "    return result\n",
    "\n",
    "result = two_times([1,2,3,4])\n",
    "print(result)"
   ]
  },
  {
   "cell_type": "code",
   "execution_count": 54,
   "id": "0e37d751-d686-4335-a41c-b47537854a71",
   "metadata": {},
   "outputs": [
    {
     "data": {
      "text/plain": [
       "[2, 4, 6, 8]"
      ]
     },
     "execution_count": 54,
     "metadata": {},
     "output_type": "execute_result"
    }
   ],
   "source": [
    "def two_times(x):\n",
    "    return x * 2\n",
    "\n",
    "list(map(two_times, [1,2,3,4]))"
   ]
  },
  {
   "cell_type": "code",
   "execution_count": 55,
   "id": "dd98a083-9d54-44fa-8e21-23cd2cf21a22",
   "metadata": {},
   "outputs": [
    {
     "data": {
      "text/plain": [
       "[2, 4, 6, 8]"
      ]
     },
     "execution_count": 55,
     "metadata": {},
     "output_type": "execute_result"
    }
   ],
   "source": [
    "list(map(lambda a: a*2, [1,2,3,4]))"
   ]
  },
  {
   "cell_type": "code",
   "execution_count": 64,
   "id": "f5dc5e62-f1ca-443c-84e6-d6c9c7b4b97e",
   "metadata": {},
   "outputs": [
    {
     "name": "stdout",
     "output_type": "stream",
     "text": [
      "[1, 3, 5]\n",
      "[2, 4, 6]\n",
      "[11, 12, 13, 14, 15, 16]\n",
      "[1, 4, 9, 16, 25, 36]\n",
      "[11, 24, 39, 56, 75, 96]\n"
     ]
    }
   ],
   "source": [
    "# 테스트\n",
    "li = [1,2,3,4,5,6]\n",
    "def odd(x):\n",
    "    return x%2 !=0\n",
    "def even(x):\n",
    "    return x%2 == 0\n",
    "def add(x):\n",
    "    return x + 10\n",
    "def mul(x):\n",
    "    return x * x\n",
    "def addmul(x):\n",
    "    return (x+10) * x\n",
    "print(list(filter(odd,li)))\n",
    "print(list(filter(even,li)))\n",
    "print(list(map(add,li)))\n",
    "print(list(map(mul,li)))\n",
    "print(list(map(addmul,li)))"
   ]
  },
  {
   "cell_type": "code",
   "execution_count": 56,
   "id": "87cf9776-d5d1-432c-8a3f-e4f9e0785045",
   "metadata": {},
   "outputs": [
    {
     "data": {
      "text/plain": [
       "3"
      ]
     },
     "execution_count": 56,
     "metadata": {},
     "output_type": "execute_result"
    }
   ],
   "source": [
    "max([1,2,3])"
   ]
  },
  {
   "cell_type": "code",
   "execution_count": 57,
   "id": "706e761a-4762-43da-b285-66a7207c4431",
   "metadata": {},
   "outputs": [
    {
     "data": {
      "text/plain": [
       "'y'"
      ]
     },
     "execution_count": 57,
     "metadata": {},
     "output_type": "execute_result"
    }
   ],
   "source": [
    "max('python')"
   ]
  },
  {
   "cell_type": "code",
   "execution_count": 58,
   "id": "00f84fca-a6cd-47f5-b33a-e539b0bafe5c",
   "metadata": {},
   "outputs": [
    {
     "data": {
      "text/plain": [
       "1"
      ]
     },
     "execution_count": 58,
     "metadata": {},
     "output_type": "execute_result"
    }
   ],
   "source": [
    "min([1,2,3])"
   ]
  },
  {
   "cell_type": "code",
   "execution_count": 59,
   "id": "1afe7300-b8a4-41e2-9f2e-c2d3c3ccbf52",
   "metadata": {},
   "outputs": [
    {
     "data": {
      "text/plain": [
       "'h'"
      ]
     },
     "execution_count": 59,
     "metadata": {},
     "output_type": "execute_result"
    }
   ],
   "source": [
    "min('python')"
   ]
  },
  {
   "cell_type": "code",
   "execution_count": 65,
   "id": "c6bf1805-8d45-4ec5-ae0d-b23a149f566a",
   "metadata": {},
   "outputs": [
    {
     "data": {
      "text/plain": [
       "97"
      ]
     },
     "execution_count": 65,
     "metadata": {},
     "output_type": "execute_result"
    }
   ],
   "source": [
    "ord('a')"
   ]
  },
  {
   "cell_type": "code",
   "execution_count": 66,
   "id": "8e661af3-8b49-45a4-b688-65fce3afdac2",
   "metadata": {},
   "outputs": [
    {
     "data": {
      "text/plain": [
       "44032"
      ]
     },
     "execution_count": 66,
     "metadata": {},
     "output_type": "execute_result"
    }
   ],
   "source": [
    "ord('가')"
   ]
  },
  {
   "cell_type": "code",
   "execution_count": 67,
   "id": "eee29c7d-f3c6-41e3-9d43-bbe37fd6e7c2",
   "metadata": {},
   "outputs": [
    {
     "data": {
      "text/plain": [
       "16"
      ]
     },
     "execution_count": 67,
     "metadata": {},
     "output_type": "execute_result"
    }
   ],
   "source": [
    "pow(2,4)"
   ]
  },
  {
   "cell_type": "code",
   "execution_count": 68,
   "id": "17353fac-ff69-4eb0-b24f-5de7faee9ecf",
   "metadata": {},
   "outputs": [
    {
     "data": {
      "text/plain": [
       "16"
      ]
     },
     "execution_count": 68,
     "metadata": {},
     "output_type": "execute_result"
    }
   ],
   "source": [
    "2**4"
   ]
  },
  {
   "cell_type": "code",
   "execution_count": 69,
   "id": "b02e878a-de10-4657-bf0d-bd5a1903bbbe",
   "metadata": {},
   "outputs": [
    {
     "data": {
      "text/plain": [
       "3125"
      ]
     },
     "execution_count": 69,
     "metadata": {},
     "output_type": "execute_result"
    }
   ],
   "source": [
    "pow(5,5)"
   ]
  },
  {
   "cell_type": "code",
   "execution_count": 70,
   "id": "fe53fe77-8efd-4f24-b85c-fefabe850906",
   "metadata": {},
   "outputs": [
    {
     "data": {
      "text/plain": [
       "3125"
      ]
     },
     "execution_count": 70,
     "metadata": {},
     "output_type": "execute_result"
    }
   ],
   "source": [
    "5**5"
   ]
  },
  {
   "cell_type": "code",
   "execution_count": 71,
   "id": "be63e959-0562-44b0-adca-c76c5c1de47d",
   "metadata": {},
   "outputs": [
    {
     "data": {
      "text/plain": [
       "[0, 1, 2, 3, 4]"
      ]
     },
     "execution_count": 71,
     "metadata": {},
     "output_type": "execute_result"
    }
   ],
   "source": [
    "list(range(5))"
   ]
  },
  {
   "cell_type": "code",
   "execution_count": 72,
   "id": "9545d97f-7648-4dd7-a01e-86b20f4a6af2",
   "metadata": {},
   "outputs": [
    {
     "data": {
      "text/plain": [
       "[5, 6, 7, 8, 9]"
      ]
     },
     "execution_count": 72,
     "metadata": {},
     "output_type": "execute_result"
    }
   ],
   "source": [
    "list(range(5,10))"
   ]
  },
  {
   "cell_type": "code",
   "execution_count": 73,
   "id": "279a8b5b-6f36-4b8d-b9af-0ea86e777bc2",
   "metadata": {},
   "outputs": [
    {
     "data": {
      "text/plain": [
       "[1, 3, 5, 7, 9]"
      ]
     },
     "execution_count": 73,
     "metadata": {},
     "output_type": "execute_result"
    }
   ],
   "source": [
    "list(range(1,10,2))"
   ]
  },
  {
   "cell_type": "code",
   "execution_count": 76,
   "id": "2eb00b4d-4cbc-44db-809b-46b0e32432d5",
   "metadata": {},
   "outputs": [
    {
     "data": {
      "text/plain": [
       "[0, -1, -2, -3, -4, -5, -6, -7, -8, -9]"
      ]
     },
     "execution_count": 76,
     "metadata": {},
     "output_type": "execute_result"
    }
   ],
   "source": [
    "list(range(0,-10,-1))"
   ]
  },
  {
   "cell_type": "code",
   "execution_count": 77,
   "id": "0850969a-e033-42a7-8caf-2194936576b1",
   "metadata": {},
   "outputs": [
    {
     "data": {
      "text/plain": [
       "5"
      ]
     },
     "execution_count": 77,
     "metadata": {},
     "output_type": "execute_result"
    }
   ],
   "source": [
    "round(4.6)"
   ]
  },
  {
   "cell_type": "code",
   "execution_count": 78,
   "id": "b82510ae-cfed-4d1c-9e28-58545c1cadba",
   "metadata": {},
   "outputs": [
    {
     "data": {
      "text/plain": [
       "4"
      ]
     },
     "execution_count": 78,
     "metadata": {},
     "output_type": "execute_result"
    }
   ],
   "source": [
    "round(4.2)"
   ]
  },
  {
   "cell_type": "code",
   "execution_count": 79,
   "id": "d3cf8fcd-62ed-4e5c-9e48-9798e2dcb4c1",
   "metadata": {},
   "outputs": [
    {
     "data": {
      "text/plain": [
       "5.678"
      ]
     },
     "execution_count": 79,
     "metadata": {},
     "output_type": "execute_result"
    }
   ],
   "source": [
    "round(5.6784,3)"
   ]
  },
  {
   "cell_type": "code",
   "execution_count": 3,
   "id": "2bc822d0-5229-4752-82ee-ba39b8dd6560",
   "metadata": {},
   "outputs": [
    {
     "name": "stdout",
     "output_type": "stream",
     "text": [
      "[3, 2, 1, 4, 6, 7]\n",
      "[1, 2, 3, 4, 6, 7]\n",
      "[7, 6, 4, 3, 2, 1]\n"
     ]
    }
   ],
   "source": [
    "# sorted(iterable) 정렬된 리스트로 정렬\n",
    "s0 = [3,2,1,4,6,7]\n",
    "s1 = sorted(s0)\n",
    "s2 = sorted(s0,reverse = True)\n",
    "print(s0)\n",
    "print(s1)\n",
    "print(s2)"
   ]
  },
  {
   "cell_type": "code",
   "execution_count": 4,
   "id": "e8439f43-ad14-4687-8e52-9955a2eaedbc",
   "metadata": {},
   "outputs": [
    {
     "data": {
      "text/plain": [
       "'3'"
      ]
     },
     "execution_count": 4,
     "metadata": {},
     "output_type": "execute_result"
    }
   ],
   "source": [
    "str('3')"
   ]
  },
  {
   "cell_type": "code",
   "execution_count": 5,
   "id": "89c94d26-224a-4206-8a81-86057df20a0b",
   "metadata": {},
   "outputs": [
    {
     "data": {
      "text/plain": [
       "'hello'"
      ]
     },
     "execution_count": 5,
     "metadata": {},
     "output_type": "execute_result"
    }
   ],
   "source": [
    "str('hello')"
   ]
  },
  {
   "cell_type": "code",
   "execution_count": 6,
   "id": "435133a4-02cb-4786-87b7-1ffa3955c030",
   "metadata": {},
   "outputs": [
    {
     "data": {
      "text/plain": [
       "14"
      ]
     },
     "execution_count": 6,
     "metadata": {},
     "output_type": "execute_result"
    }
   ],
   "source": [
    "sum([1,5,8])"
   ]
  },
  {
   "cell_type": "code",
   "execution_count": 9,
   "id": "991e70e6-295f-4a4a-85c1-0ded106d57a2",
   "metadata": {},
   "outputs": [
    {
     "data": {
      "text/plain": [
       "20"
      ]
     },
     "execution_count": 9,
     "metadata": {},
     "output_type": "execute_result"
    }
   ],
   "source": [
    "sum((5,7,8))"
   ]
  },
  {
   "cell_type": "code",
   "execution_count": 10,
   "id": "f7f90c9b-e51b-4492-a3be-24cd613281e3",
   "metadata": {},
   "outputs": [
    {
     "data": {
      "text/plain": [
       "('a', 'b', 'c')"
      ]
     },
     "execution_count": 10,
     "metadata": {},
     "output_type": "execute_result"
    }
   ],
   "source": [
    "tuple('abc')"
   ]
  },
  {
   "cell_type": "code",
   "execution_count": 11,
   "id": "28701e21-9316-48f5-9447-8a1bed902443",
   "metadata": {},
   "outputs": [
    {
     "data": {
      "text/plain": [
       "(1, 2, 3)"
      ]
     },
     "execution_count": 11,
     "metadata": {},
     "output_type": "execute_result"
    }
   ],
   "source": [
    "tuple([1,2,3])"
   ]
  },
  {
   "cell_type": "code",
   "execution_count": 12,
   "id": "da79ece9-b1ce-4317-bd48-a057b3b776d2",
   "metadata": {},
   "outputs": [
    {
     "data": {
      "text/plain": [
       "(1, 2, 3)"
      ]
     },
     "execution_count": 12,
     "metadata": {},
     "output_type": "execute_result"
    }
   ],
   "source": [
    "tuple((1,2,3))"
   ]
  },
  {
   "cell_type": "code",
   "execution_count": 13,
   "id": "a5027752-160a-4e3d-a6eb-7aa5e2c5780e",
   "metadata": {},
   "outputs": [
    {
     "data": {
      "text/plain": [
       "str"
      ]
     },
     "execution_count": 13,
     "metadata": {},
     "output_type": "execute_result"
    }
   ],
   "source": [
    "type('abc')"
   ]
  },
  {
   "cell_type": "code",
   "execution_count": 14,
   "id": "e36f64c6-52b3-41ef-9a07-17119ff2090a",
   "metadata": {},
   "outputs": [
    {
     "data": {
      "text/plain": [
       "list"
      ]
     },
     "execution_count": 14,
     "metadata": {},
     "output_type": "execute_result"
    }
   ],
   "source": [
    "type([])"
   ]
  },
  {
   "cell_type": "code",
   "execution_count": 15,
   "id": "4bf4eb42-50bd-4668-858c-3d2c05efb232",
   "metadata": {},
   "outputs": [
    {
     "data": {
      "text/plain": [
       "[(1, 7), (2, 8), (3, 9)]"
      ]
     },
     "execution_count": 15,
     "metadata": {},
     "output_type": "execute_result"
    }
   ],
   "source": [
    "list(zip([1,2,3],[7,8,9]))"
   ]
  },
  {
   "cell_type": "code",
   "execution_count": 16,
   "id": "240dc233-fcaf-48b8-9694-10526e61845b",
   "metadata": {},
   "outputs": [
    {
     "data": {
      "text/plain": [
       "[(7, 6, 1), (8, 5, 2), (9, 4, 3)]"
      ]
     },
     "execution_count": 16,
     "metadata": {},
     "output_type": "execute_result"
    }
   ],
   "source": [
    "list(zip([7,8,9],[6,5,4],[1,2,3]))"
   ]
  },
  {
   "cell_type": "code",
   "execution_count": 17,
   "id": "7e79c9cf-1bbd-4467-9a93-f96555bf30e7",
   "metadata": {},
   "outputs": [
    {
     "data": {
      "text/plain": [
       "[('a', 'x'), ('b', 'y'), ('c', 'z')]"
      ]
     },
     "execution_count": 17,
     "metadata": {},
     "output_type": "execute_result"
    }
   ],
   "source": [
    "list(zip('abc','xyz'))"
   ]
  },
  {
   "cell_type": "markdown",
   "id": "e3619863-b7ce-48c6-a6cc-dee7a32ff6c6",
   "metadata": {},
   "source": [
    "# 표준 라이브러리"
   ]
  },
  {
   "cell_type": "code",
   "execution_count": 1,
   "id": "63d40b37-1fc2-416b-ad95-419c52f0590e",
   "metadata": {},
   "outputs": [
    {
     "name": "stdout",
     "output_type": "stream",
     "text": [
      "전체 수업기간 172 일\n",
      "남은 수업기간 157 일\n",
      "지난 수업기간 15 일\n"
     ]
    }
   ],
   "source": [
    "import datetime\n",
    "day1 = datetime.date(2025,2,3)\n",
    "day2 = datetime.date(2025,7,25)\n",
    "diff = day2 - day1 \n",
    "print(\"전체 수업기간\", diff.days,\"일\")\n",
    "diff2 = day2 - datetime.datetime.now().date()\n",
    "print('남은 수업기간',diff2.days,'일')\n",
    "print('지난 수업기간',diff.days - diff2.days,'일')"
   ]
  },
  {
   "cell_type": "code",
   "execution_count": 2,
   "id": "6a0c9d5c-e222-4f88-8028-e376472d135b",
   "metadata": {},
   "outputs": [
    {
     "data": {
      "text/plain": [
       "datetime.datetime(2025, 2, 18, 11, 33, 41, 948802)"
      ]
     },
     "execution_count": 2,
     "metadata": {},
     "output_type": "execute_result"
    }
   ],
   "source": [
    "datetime.datetime.now()"
   ]
  },
  {
   "cell_type": "code",
   "execution_count": 3,
   "id": "34e4d605-6fb1-4947-a9b1-c110f6d16adc",
   "metadata": {},
   "outputs": [
    {
     "name": "stdout",
     "output_type": "stream",
     "text": [
      "그날은 목요일 입니다.\n"
     ]
    }
   ],
   "source": [
    "days=['월','화','수','목','금','토','일']\n",
    "day = datetime.date(2025,5,8)\n",
    "print('그날은 ' + days[day.weekday()] + '요일 입니다.')"
   ]
  },
  {
   "cell_type": "code",
   "execution_count": 11,
   "id": "e45b97e7-1d92-4f11-a494-67fcf375a8fe",
   "metadata": {},
   "outputs": [
    {
     "name": "stdout",
     "output_type": "stream",
     "text": [
      "어버이날까지 남은 날은 79일 입니다.\n"
     ]
    }
   ],
   "source": [
    "from datetime import datetime\n",
    "\n",
    "def parse_date(date_str):\n",
    "    year = int(date_str[:4])\n",
    "    month = int(date_str[5:7])\n",
    "    day = int(date_str[8:10])\n",
    "    return datetime(year, month, day)\n",
    "\n",
    "def calculate_d_day(start_date_str, end_date_str):\n",
    "    start_date = parse_date(start_date_str)\n",
    "    end_date = parse_date(end_date_str)\n",
    "\n",
    "    d_days = end_date - start_date\n",
    "\n",
    "    print(f\"어버이날까지 남은 날은 {d_days.days}일 입니다.\")\n",
    "\n",
    "start_date = \"2025-02-18\"\n",
    "end_date = \"2025-05-08\"\n",
    "calculate_d_day(start_date, end_date)\n"
   ]
  },
  {
   "cell_type": "code",
   "execution_count": 20,
   "id": "a5587e99-a476-49ef-9e15-897a2eb27a41",
   "metadata": {},
   "outputs": [
    {
     "name": "stdout",
     "output_type": "stream",
     "text": [
      "어버이날까지 남은 날은 79 일 이고, 목요일 입니다.\n"
     ]
    }
   ],
   "source": [
    "import datetime\n",
    "day1 = datetime.date(2025,2,18)\n",
    "day2 = datetime.date(2025,5,8)\n",
    "diff = day2 - day1 \n",
    "days=['월','화','수','목','금','토','일']\n",
    "day = datetime.date(2025,5,8)\n",
    "\n",
    "print(\"어버이날까지 남은 날은\", diff.days,\"일 이고,\",days[day.weekday()]+'요일 입니다.')\n"
   ]
  },
  {
   "cell_type": "markdown",
   "id": "03141344-a06a-4b08-901b-1ad04a81f144",
   "metadata": {},
   "source": [
    "## time"
   ]
  },
  {
   "cell_type": "code",
   "execution_count": 21,
   "id": "93bceea6-97d0-49b5-8e69-8b096d737ed7",
   "metadata": {},
   "outputs": [
    {
     "data": {
      "text/plain": [
       "1739855464.1840038"
      ]
     },
     "execution_count": 21,
     "metadata": {},
     "output_type": "execute_result"
    }
   ],
   "source": [
    "import time\n",
    "time.time()"
   ]
  },
  {
   "cell_type": "code",
   "execution_count": 22,
   "id": "927c67ef-dbe2-4c3b-80a0-bb073af5b9d0",
   "metadata": {},
   "outputs": [
    {
     "name": "stdout",
     "output_type": "stream",
     "text": [
      "time.struct_time(tm_year=2025, tm_mon=2, tm_mday=18, tm_hour=14, tm_min=14, tm_sec=35, tm_wday=1, tm_yday=49, tm_isdst=0)\n"
     ]
    }
   ],
   "source": [
    "tt = time.localtime(time.time())\n",
    "print(tt)"
   ]
  },
  {
   "cell_type": "code",
   "execution_count": 23,
   "id": "4b2d1008-8885-453f-8087-cf80af853ee8",
   "metadata": {},
   "outputs": [
    {
     "data": {
      "text/plain": [
       "'Tue Feb 18 14:15:50 2025'"
      ]
     },
     "execution_count": 23,
     "metadata": {},
     "output_type": "execute_result"
    }
   ],
   "source": [
    "time.asctime(time.localtime(time.time()))"
   ]
  },
  {
   "cell_type": "code",
   "execution_count": 24,
   "id": "4dbf71a0-24b8-47ea-be09-93a6f084b0f6",
   "metadata": {},
   "outputs": [
    {
     "data": {
      "text/plain": [
       "'Tue Feb 18 14:16:05 2025'"
      ]
     },
     "execution_count": 24,
     "metadata": {},
     "output_type": "execute_result"
    }
   ],
   "source": [
    "time.ctime()"
   ]
  },
  {
   "cell_type": "code",
   "execution_count": 25,
   "id": "cf4f89a9-ee1c-43a0-a55b-74d9038659c8",
   "metadata": {},
   "outputs": [
    {
     "data": {
      "text/plain": [
       "'02/18/25'"
      ]
     },
     "execution_count": 25,
     "metadata": {},
     "output_type": "execute_result"
    }
   ],
   "source": [
    "import time\n",
    "time.strftime('%x', time.localtime(time.time()))"
   ]
  },
  {
   "cell_type": "code",
   "execution_count": 27,
   "id": "3046e48b-6e7c-4092-91af-5aec279b8fb3",
   "metadata": {},
   "outputs": [
    {
     "data": {
      "text/plain": [
       "'Tue Feb 18 14:24:49 2025'"
      ]
     },
     "execution_count": 27,
     "metadata": {},
     "output_type": "execute_result"
    }
   ],
   "source": [
    "time.strftime('%c', time.localtime(time.time()))"
   ]
  },
  {
   "cell_type": "code",
   "execution_count": 28,
   "id": "234ed836-9266-41f9-a085-1fe6eb664cc3",
   "metadata": {},
   "outputs": [
    {
     "name": "stdout",
     "output_type": "stream",
     "text": [
      "0\n",
      "1\n",
      "2\n",
      "3\n",
      "4\n",
      "5\n",
      "6\n",
      "7\n",
      "8\n",
      "9\n"
     ]
    }
   ],
   "source": [
    "import time\n",
    "for i in range(10):\n",
    "    print(i)\n",
    "    time.sleep(1)"
   ]
  },
  {
   "cell_type": "markdown",
   "id": "1158bcd3-a353-4393-a822-111bc8f6f531",
   "metadata": {},
   "source": [
    "## math.gcd , math.lcm"
   ]
  },
  {
   "cell_type": "code",
   "execution_count": 29,
   "id": "a27ee847-56a5-4772-88e9-e8b630f64d3d",
   "metadata": {},
   "outputs": [],
   "source": [
    "import math"
   ]
  },
  {
   "cell_type": "code",
   "execution_count": 30,
   "id": "28f9fb50-4393-4f98-9874-302092922926",
   "metadata": {},
   "outputs": [
    {
     "name": "stdout",
     "output_type": "stream",
     "text": [
      "3.141592653589793\n",
      "20\n",
      "75\n"
     ]
    }
   ],
   "source": [
    "print(math.pi)\n",
    "print(math.gcd(60,100,80))\n",
    "print(math.lcm(15,25))"
   ]
  },
  {
   "cell_type": "markdown",
   "id": "3088e741-b7f5-48be-8473-78363236fdd3",
   "metadata": {},
   "source": [
    "## random"
   ]
  },
  {
   "cell_type": "code",
   "execution_count": 40,
   "id": "4357eb46-f3c3-4601-a7ba-e85eb7cabe32",
   "metadata": {},
   "outputs": [
    {
     "name": "stdout",
     "output_type": "stream",
     "text": [
      "0.9681012639247648\n",
      "3\n"
     ]
    }
   ],
   "source": [
    "import random as r\n",
    "print(r.random())\n",
    "print(r.randint(1,10))"
   ]
  },
  {
   "cell_type": "code",
   "execution_count": 2,
   "id": "49a886fc-cae4-4440-b1c3-f35c9e1544be",
   "metadata": {},
   "outputs": [
    {
     "name": "stdout",
     "output_type": "stream",
     "text": [
      "233168\n"
     ]
    }
   ],
   "source": [
    "result = 0\n",
    "for n in range(1, 1000):\n",
    "    if n % 5 == 0 or n % 3 == 0: \n",
    "        result += n\n",
    "print(result)"
   ]
  },
  {
   "cell_type": "code",
   "execution_count": null,
   "id": "198e6940-46cf-40d9-8997-767489f9857e",
   "metadata": {},
   "outputs": [],
   "source": []
  },
  {
   "cell_type": "code",
   "execution_count": null,
   "id": "a2adf627-f9dd-42bb-be4a-be7c06af2d66",
   "metadata": {},
   "outputs": [],
   "source": []
  }
 ],
 "metadata": {
  "kernelspec": {
   "display_name": "Python 3 (ipykernel)",
   "language": "python",
   "name": "python3"
  },
  "language_info": {
   "codemirror_mode": {
    "name": "ipython",
    "version": 3
   },
   "file_extension": ".py",
   "mimetype": "text/x-python",
   "name": "python",
   "nbconvert_exporter": "python",
   "pygments_lexer": "ipython3",
   "version": "3.13.1"
  }
 },
 "nbformat": 4,
 "nbformat_minor": 5
}
