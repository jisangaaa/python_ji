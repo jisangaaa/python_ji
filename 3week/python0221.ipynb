{
 "cells": [
  {
   "cell_type": "code",
   "execution_count": null,
   "id": "247d8575-868f-4e41-bb39-0fe5a7a88d43",
   "metadata": {},
   "outputs": [],
   "source": [
    "import requests as req \n",
    "from bs4 import BeautifulSoup as bs\n",
    "url = 'https://www.weather.go.kr/w/weather/forecast/short-term.do?stnId=159'\n",
    "web = req.get(url)\n",
    "soup = bs(web.content,'html.parser')\n",
    "summary = soup.select('p.summary')\n",
    "for s in summary:\n",
    "    print(s.text.replace('○','\\n○'))\n",
    "\n",
    "import requests as req \n",
    "from bs4 import BeautifulSoup as bs\n",
    "url = 'https://www.weather.go.kr/w/weather/forecast/short-term.do?stnId=159'\n",
    "web = req.get(url)\n",
    "soup = bs(web.content,'html.parser')\n",
    "summary = soup.select('table.table-col')\n",
    "for s in summary:\n",
    "    print(s.text)\n",
    "\n",
    "table = soup.select('.table-col')[0]\n",
    "data = table.select('tr')\n",
    "header = data[0].select('th')\n",
    "line1 = ['최저기온'] + data[1].select('td')\n",
    "line2 = ['최고기온'] + data[2].select('td')\n",
    "raw_data = []\n",
    "for h,l1,l2 in zip(header, line1, line2):\n",
    "    try:\n",
    "        out = h.text+':'+l1.text+'/'+l2.text\n",
    "    except:\n",
    "        out = h.text+'   :  '+ l1+'   /  '+ l2\n",
    "    finally:\n",
    "        print(out)\n",
    "        raw_data.append(out)\n",
    "\n",
    "import pandas as pd\n",
    "parsed_data=[]\n",
    "for entry in raw_data[1:]:\n",
    "    date, temps = entry.split(':')\n",
    "    low_temp , high_temp = temps.split('/')\n",
    "    parsed_data.append([date.strip(),low_temp.strip(),high_temp.strip()])\n",
    "\n",
    "df = pd.DataFrame(parsed_data,columns=[\"날짜\",\"최저기온\",\"최고기온\"])\n",
    "df.to_csv('weather.csv',index=False,encoding='utf-8')\n",
    "df.to_csv('weather_x.csv',index=False,encoding='utf-8-sig')\n",
    "\n",
    "df = pd.DataFrame([entry.split(':')[0].strip(), *entry.split(':')[1].strip().split('/')] for entry in raw_data[1:])\n",
    "df.columns=[\"날짜\",\"최저기온\",\"최고기온\"]\n",
    "df\n",
    "\n",
    "\n",
    "robots.txt"
   ]
  },
  {
   "cell_type": "code",
   "execution_count": 1,
   "id": "15ce3bf4-4138-4c67-a260-454c575d7869",
   "metadata": {},
   "outputs": [
    {
     "name": "stdout",
     "output_type": "stream",
     "text": [
      "□  (종합) 대기 매우 건조, 기온 낮아 춥겠음, 강풍 및 풍랑 유의\n",
      "○  (오늘, 21일) 구름많다가 오후에 맑아짐\n",
      "○  (내일, 22일) 대체로 맑음\n",
      "○  (모레, 23일) 대체로 맑겠으나, 경남서부내륙 가끔 구름많음\n",
      "○  (글피, 24일) 대체로 맑음\n"
     ]
    }
   ],
   "source": [
    "import requests as req \n",
    "from bs4 import BeautifulSoup as bs\n",
    "url = 'https://www.weather.go.kr/w/weather/forecast/short-term.do?stnId=159'\n",
    "web = req.get(url)\n",
    "soup = bs(web.content,'html.parser')\n",
    "summary = soup.select('p.summary')\n",
    "for s in summary:\n",
    "    print(s.text.replace('○','\\n○'))"
   ]
  },
  {
   "cell_type": "code",
   "execution_count": 5,
   "id": "a4a3d7b9-e9af-4de3-a06f-3e848a33b17b",
   "metadata": {},
   "outputs": [
    {
     "name": "stdout",
     "output_type": "stream",
     "text": [
      "예보요소   :  최고기온   /  최저기온\n",
      "평년(오늘):-5.1 ~ 2.1/9.0 ~ 11.7\n",
      "어제(20일):-9.7 ~ -2.0/4.4 ~ 8.8\n",
      "오늘(21일):-/3 ~ 7\n",
      "내일(22일):-7 ~ -3/4 ~ 7\n",
      "모레(23일):-8 ~ -3/1 ~ 5\n",
      "글피(24일):-9 ~ -4/5 ~ 8\n"
     ]
    }
   ],
   "source": [
    "table = soup.select('.table-col')[0]\n",
    "data = table.select('tr')\n",
    "header = data[0].select('th')\n",
    "line1 = ['최저기온'] + data[1].select('td')\n",
    "line2 = ['최고기온'] + data[2].select('td')\n",
    "raw_data = []\n",
    "for h,l1,l2 in zip(header, line1, line2):\n",
    "    try:\n",
    "        out = h.text+':'+l1.text+'/'+l2.text\n",
    "    except:\n",
    "        out = h.text+'   :  '+ l1+'   /  '+ l2\n",
    "    finally:\n",
    "        print(out)\n",
    "        raw_data.append(out)"
   ]
  },
  {
   "cell_type": "code",
   "execution_count": 7,
   "id": "d8ea310d-afc8-425e-8eef-ff7216699d51",
   "metadata": {
    "scrolled": true
   },
   "outputs": [
    {
     "name": "stdout",
     "output_type": "stream",
     "text": [
      "Requirement already satisfied: pandas in c:\\users\\admin\\appdata\\local\\programs\\python\\python313\\lib\\site-packages (2.2.3)\n",
      "Requirement already satisfied: numpy>=1.26.0 in c:\\users\\admin\\appdata\\local\\programs\\python\\python313\\lib\\site-packages (from pandas) (2.2.2)\n",
      "Requirement already satisfied: python-dateutil>=2.8.2 in c:\\users\\admin\\appdata\\local\\programs\\python\\python313\\lib\\site-packages (from pandas) (2.9.0.post0)\n",
      "Requirement already satisfied: pytz>=2020.1 in c:\\users\\admin\\appdata\\local\\programs\\python\\python313\\lib\\site-packages (from pandas) (2025.1)\n",
      "Requirement already satisfied: tzdata>=2022.7 in c:\\users\\admin\\appdata\\local\\programs\\python\\python313\\lib\\site-packages (from pandas) (2025.1)\n",
      "Requirement already satisfied: six>=1.5 in c:\\users\\admin\\appdata\\local\\programs\\python\\python313\\lib\\site-packages (from python-dateutil>=2.8.2->pandas) (1.17.0)\n"
     ]
    }
   ],
   "source": [
    "!pip install pandas"
   ]
  },
  {
   "cell_type": "code",
   "execution_count": 29,
   "id": "355571cb-5955-4f33-b6e0-2df8c1f7e1e0",
   "metadata": {},
   "outputs": [],
   "source": [
    "import pandas as pd\n",
    "parsed_data=[]\n",
    "for entry in raw_data[1:]:\n",
    "    date, temps = entry.split(':')\n",
    "    low_temp , high_temp = temps.split('/')\n",
    "    parsed_data.append([date.strip(),low_temp.strip(),high_temp.strip()])\n",
    "\n",
    "df = pd.DataFrame(parsed_data,columns=[\"날짜\",\"최저기온\",\"최고기온\"])\n",
    "df.to_csv('weather.csv',index=False,encoding='utf-8')\n",
    "df.to_csv('weather_x.csv',index=False,encoding='utf-8-sig')"
   ]
  },
  {
   "cell_type": "code",
   "execution_count": 28,
   "id": "53ed4c0f-b748-4b3b-9d2f-3d27ffa300b2",
   "metadata": {},
   "outputs": [
    {
     "data": {
      "text/html": [
       "<div>\n",
       "<style scoped>\n",
       "    .dataframe tbody tr th:only-of-type {\n",
       "        vertical-align: middle;\n",
       "    }\n",
       "\n",
       "    .dataframe tbody tr th {\n",
       "        vertical-align: top;\n",
       "    }\n",
       "\n",
       "    .dataframe thead th {\n",
       "        text-align: right;\n",
       "    }\n",
       "</style>\n",
       "<table border=\"1\" class=\"dataframe\">\n",
       "  <thead>\n",
       "    <tr style=\"text-align: right;\">\n",
       "      <th></th>\n",
       "      <th>날짜</th>\n",
       "      <th>최저기온</th>\n",
       "      <th>최고기온</th>\n",
       "    </tr>\n",
       "  </thead>\n",
       "  <tbody>\n",
       "    <tr>\n",
       "      <th>0</th>\n",
       "      <td>평년(오늘)</td>\n",
       "      <td>-5.1 ~ 2.1</td>\n",
       "      <td>9.0 ~ 11.7</td>\n",
       "    </tr>\n",
       "    <tr>\n",
       "      <th>1</th>\n",
       "      <td>어제(20일)</td>\n",
       "      <td>-9.7 ~ -2.0</td>\n",
       "      <td>4.4 ~ 8.8</td>\n",
       "    </tr>\n",
       "    <tr>\n",
       "      <th>2</th>\n",
       "      <td>오늘(21일)</td>\n",
       "      <td>-</td>\n",
       "      <td>3 ~ 7</td>\n",
       "    </tr>\n",
       "    <tr>\n",
       "      <th>3</th>\n",
       "      <td>내일(22일)</td>\n",
       "      <td>-7 ~ -3</td>\n",
       "      <td>4 ~ 7</td>\n",
       "    </tr>\n",
       "    <tr>\n",
       "      <th>4</th>\n",
       "      <td>모레(23일)</td>\n",
       "      <td>-8 ~ -3</td>\n",
       "      <td>1 ~ 5</td>\n",
       "    </tr>\n",
       "    <tr>\n",
       "      <th>5</th>\n",
       "      <td>글피(24일)</td>\n",
       "      <td>-9 ~ -4</td>\n",
       "      <td>5 ~ 8</td>\n",
       "    </tr>\n",
       "  </tbody>\n",
       "</table>\n",
       "</div>"
      ],
      "text/plain": [
       "        날짜         최저기온        최고기온\n",
       "0   평년(오늘)   -5.1 ~ 2.1  9.0 ~ 11.7\n",
       "1  어제(20일)  -9.7 ~ -2.0   4.4 ~ 8.8\n",
       "2  오늘(21일)            -       3 ~ 7\n",
       "3  내일(22일)      -7 ~ -3       4 ~ 7\n",
       "4  모레(23일)      -8 ~ -3       1 ~ 5\n",
       "5  글피(24일)      -9 ~ -4       5 ~ 8"
      ]
     },
     "execution_count": 28,
     "metadata": {},
     "output_type": "execute_result"
    }
   ],
   "source": [
    "df = pd.DataFrame([entry.split(':')[0].strip(), *entry.split(':')[1].strip().split('/')] for entry in raw_data[1:])\n",
    "df.columns=[\"날짜\",\"최저기온\",\"최고기온\"]\n",
    "df"
   ]
  },
  {
   "cell_type": "code",
   "execution_count": 2,
   "id": "dca9ff42-38a7-4bf2-b932-dc4ae46c7ff6",
   "metadata": {
    "scrolled": true
   },
   "outputs": [
    {
     "name": "stdout",
     "output_type": "stream",
     "text": [
      "\n",
      "현재위치의 단기예보의 정보를 비교해서 나타낸 표입니다.\n",
      "\n",
      "\n",
      "\n",
      "\n",
      "\n",
      "\n",
      "예보요소\n",
      "평년(오늘)\n",
      "어제(20일)\n",
      "오늘(21일)\n",
      "내일(22일)\n",
      "모레(23일)\n",
      "글피(24일)\n",
      "\n",
      "\n",
      "\n",
      "\n",
      "최저기온 (℃)\n",
      "-5.1 ~ 2.1\n",
      "-9.7 ~ -2.0\n",
      "-\n",
      "-7 ~ -3\n",
      "-8 ~ -3\n",
      "-9 ~ -4\n",
      "\n",
      "\n",
      "최고기온 (℃)\n",
      "9.0 ~ 11.7\n",
      "4.4 ~ 8.8\n",
      "3 ~ 7\n",
      "4 ~ 7\n",
      "1 ~ 5\n",
      "5 ~ 8\n",
      "\n",
      "\n",
      "파고(m)\n",
      "부산 앞바다\n",
      "0.5~1.5\n",
      "0.5~1.5\n",
      "0.5~1.5\n",
      "0.5~1.5\n",
      "\n",
      "\n",
      "경남중부남해 앞바다\n",
      "0.5\n",
      "0.5\n",
      "0.5\n",
      "0.5\n",
      "\n",
      "\n",
      "경남서부남해 앞바다\n",
      "0.5~1.0\n",
      "0.5~1.0\n",
      "0.5~1.0\n",
      "0.5\n",
      "\n",
      "\n",
      "거제시동부 앞바다\n",
      "0.5~1.0\n",
      "0.5~1.0\n",
      "0.5~1.0\n",
      "0.5~1.0\n",
      "\n",
      "\n",
      "울산 앞바다\n",
      "0.5~2.0\n",
      "0.5~2.0\n",
      "0.5~1.5\n",
      "0.5~1.5\n",
      "\n",
      "\n",
      "\n"
     ]
    }
   ],
   "source": [
    "import requests as req \n",
    "from bs4 import BeautifulSoup as bs\n",
    "url = 'https://www.weather.go.kr/w/weather/forecast/short-term.do?stnId=159'\n",
    "web = req.get(url)\n",
    "soup = bs(web.content,'html.parser')\n",
    "summary = soup.select('table.table-col')\n",
    "for s in summary:\n",
    "    print(s.text)"
   ]
  },
  {
   "cell_type": "code",
   "execution_count": null,
   "id": "077b4ceb-1a9b-4028-9e1e-156b31402986",
   "metadata": {},
   "outputs": [],
   "source": []
  }
 ],
 "metadata": {
  "kernelspec": {
   "display_name": "Python 3 (ipykernel)",
   "language": "python",
   "name": "python3"
  },
  "language_info": {
   "codemirror_mode": {
    "name": "ipython",
    "version": 3
   },
   "file_extension": ".py",
   "mimetype": "text/x-python",
   "name": "python",
   "nbconvert_exporter": "python",
   "pygments_lexer": "ipython3",
   "version": "3.13.1"
  }
 },
 "nbformat": 4,
 "nbformat_minor": 5
}
